{
  "cells": [
    {
      "cell_type": "markdown",
      "metadata": {
        "id": "view-in-github",
        "colab_type": "text"
      },
      "source": [
        "<a href=\"https://colab.research.google.com/github/maximmillion/ConvolutionExp/blob/main/GLCM_synthetic.ipynb\" target=\"_parent\"><img src=\"https://colab.research.google.com/assets/colab-badge.svg\" alt=\"Open In Colab\"/></a>"
      ]
    },
    {
      "cell_type": "code",
      "execution_count": null,
      "metadata": {
        "id": "_ftTbulMgrSd"
      },
      "outputs": [],
      "source": [
        "import tensorflow as tf\n",
        "from tensorflow import keras\n",
        "from keras.callbacks import History \n",
        "\n",
        "from random import randint\n",
        "import numpy as np\n",
        "from tqdm import tqdm\n",
        "\n",
        "import matplotlib.pyplot as plt\n",
        "import cv2\n",
        "\n",
        "from skimage.filters import gaussian\n",
        "from skimage.util import random_noise\n",
        "import matplotlib.pyplot as pp\n",
        "\n",
        "from sklearn.metrics import classification_report, confusion_matrix, accuracy_score\n",
        "from sklearn.ensemble import RandomForestClassifier,AdaBoostClassifier\n",
        "\n",
        "from tensorflow.keras import datasets, layers, models\n",
        "from xgboost import XGBClassifier\n",
        "%matplotlib inline"
      ]
    },
    {
      "cell_type": "markdown",
      "metadata": {
        "id": "HDUrSxh9grSh"
      },
      "source": [
        "# Making the dataset:"
      ]
    },
    {
      "cell_type": "code",
      "execution_count": null,
      "metadata": {
        "id": "xJy7HBLlgrSi"
      },
      "outputs": [],
      "source": [
        "# Create 250 squares\n",
        "NUM_SQUARES = 250\n",
        "WIDTH = 128\n",
        "\n",
        "X_train = []\n",
        "for i in range(NUM_SQUARES):\n",
        "    exp = np.zeros((WIDTH, WIDTH)) #  128*128 canvas \n",
        "    x_start = randint(0, WIDTH - 1)\n",
        "    x_end = randint(x_start, WIDTH)\n",
        "    y_start = randint(0, WIDTH - 1)\n",
        "    y_end = randint(y_start, WIDTH)\n",
        "    for x in range(y_start, y_end):\n",
        "        for y in range(y_start, y_end):\n",
        "            exp[x, y] = 1\n",
        "    X_train.append(exp)"
      ]
    },
    {
      "cell_type": "code",
      "execution_count": null,
      "metadata": {
        "id": "QJ0HE2aEgrSi",
        "outputId": "6546bd7d-746b-44e4-8223-93a70a872035"
      },
      "outputs": [
        {
          "name": "stdout",
          "output_type": "stream",
          "text": [
            "500\n"
          ]
        }
      ],
      "source": [
        "# Create 250 circles\n",
        "for i in range(NUM_SQUARES):\n",
        "    x = np.arange(0, WIDTH)\n",
        "    y = np.arange(0, WIDTH)\n",
        "    arr = np.zeros((y.size, x.size))\n",
        "\n",
        "    cx = randint(0, WIDTH)\n",
        "    cy = randint(0, WIDTH)\n",
        "    r = randint(0, WIDTH / 2)\n",
        "\n",
        "    # The two lines below could be merged, but I stored the mask\n",
        "    # for code clarity.\n",
        "    mask = (x[np.newaxis,:]-cx)**2 + (y[:,np.newaxis]-cy)**2 < r**2\n",
        "    arr[mask] = 1\n",
        "    if randint(0, 1) == 0: # sometie true\n",
        "        arr = np.fliplr(arr)\n",
        "    X_train.append(arr)\n",
        "print(len(X_train))"
      ]
    },
    {
      "cell_type": "code",
      "execution_count": null,
      "metadata": {
        "id": "pivC9JszgrSk"
      },
      "outputs": [],
      "source": [
        "Y_train = np.array([1 if i < NUM_SQUARES else 0 for i in range(NUM_SQUARES * 2)])"
      ]
    },
    {
      "cell_type": "code",
      "execution_count": null,
      "metadata": {
        "id": "3cnXSJ-agrSk"
      },
      "outputs": [],
      "source": [
        "# Shuffle training data\n",
        "shuffler = np.random.permutation(NUM_SQUARES*2)\n",
        "\n",
        "X_train = np.array(X_train)\n",
        "\n",
        "x_train = X_train[shuffler].astype(np.uint8)\n",
        "y_train = Y_train[shuffler]"
      ]
    },
    {
      "cell_type": "code",
      "execution_count": null,
      "metadata": {
        "id": "dC5TXRk4grSl",
        "outputId": "366974a3-0016-42c9-eba2-93153c964bfa"
      },
      "outputs": [
        {
          "name": "stdout",
          "output_type": "stream",
          "text": [
            "0\n"
          ]
        },
        {
          "data": {
            "text/plain": [
              "<matplotlib.image.AxesImage at 0x7fdbc5d23d30>"
            ]
          },
          "execution_count": 10,
          "metadata": {},
          "output_type": "execute_result"
        },
        {
          "data": {
            "image/png": "[encoded data removed]",
            "text/plain": [
              "<Figure size 432x288 with 1 Axes>"
            ]
          },
          "metadata": {
            "needs_background": "light"
          },
          "output_type": "display_data"
        }
      ],
      "source": [
        "print(y_train[101])\n",
        "plt.imshow(x_train[101])"
      ]
    },
    {
      "cell_type": "markdown",
      "metadata": {
        "id": "FHu6QENVgrSl"
      },
      "source": [
        "# GLCM Feature extraction:"
      ]
    },
    {
      "cell_type": "code",
      "execution_count": null,
      "metadata": {
        "id": "v6h-GqVHgrSm",
        "outputId": "eed4d5f9-2cdc-4b8b-e069-23a08e27a807"
      },
      "outputs": [
        {
          "name": "stderr",
          "output_type": "stream",
          "text": [
            "100%|██████████| 500/500 [00:16<00:00, 30.40it/s]\n"
          ]
        }
      ],
      "source": [
        "from skimage.feature import greycomatrix, greycoprops\n",
        "\n",
        "x_features = []\n",
        "\n",
        "for img in tqdm(x_train):\n",
        "    features = []\n",
        "    for size in [1, 3, 5]:\n",
        "        for angle in [0, np.pi/4, np.pi/2, 3*np.pi/4]:\n",
        "            GLCM = greycomatrix(img, [size], [angle])\n",
        "            features.extend(greycoprops(GLCM, 'energy')[0])\n",
        "            features.extend(greycoprops(GLCM, 'correlation')[0])\n",
        "            features.extend(greycoprops(GLCM, 'dissimilarity')[0])\n",
        "            features.extend(greycoprops(GLCM, 'homogeneity')[0])\n",
        "            features.extend(greycoprops(GLCM, 'contrast')[0])\n",
        "    x_features.append(features)"
      ]
    },
    {
      "cell_type": "code",
      "execution_count": null,
      "metadata": {
        "id": "DRhICa-RgrSm",
        "outputId": "fe5ddac2-15fb-4917-f37b-d6be69659918"
      },
      "outputs": [
        {
          "data": {
            "text/plain": [
              "(500, 60)"
            ]
          },
          "execution_count": 38,
          "metadata": {},
          "output_type": "execute_result"
        }
      ],
      "source": [
        "x_features = np.array(x_features)\n",
        "x_features.shape"
      ]
    },
    {
      "cell_type": "markdown",
      "metadata": {
        "id": "eSfWTn9wgrSn"
      },
      "source": [
        "# Splitting:"
      ]
    },
    {
      "cell_type": "code",
      "execution_count": null,
      "metadata": {
        "id": "QziwxtjVgrSn"
      },
      "outputs": [],
      "source": [
        "from sklearn.model_selection import train_test_split\n",
        "\n",
        "x_train, x_test, y_train, y_test = train_test_split(x_features, y_train,\n",
        "                                                    stratify=y_train, \n",
        "                                                    test_size=0.2)\n",
        "results = {}"
      ]
    },
    {
      "cell_type": "code",
      "execution_count": null,
      "metadata": {
        "id": "4XOWni5DgrSn",
        "outputId": "5b314354-ff17-4398-eccc-ad336bb9c34b"
      },
      "outputs": [
        {
          "name": "stdout",
          "output_type": "stream",
          "text": [
            "(400, 60)\n",
            "(100, 60)\n"
          ]
        }
      ],
      "source": [
        "print(x_train.shape)\n",
        "print(x_test.shape)"
      ]
    },
    {
      "cell_type": "markdown",
      "metadata": {
        "id": "zVSRmCgDgrSo"
      },
      "source": [
        "# Applying models:"
      ]
    },
    {
      "cell_type": "markdown",
      "metadata": {
        "id": "v4t1qrpTgrSo"
      },
      "source": [
        "## Light GBM:"
      ]
    },
    {
      "cell_type": "code",
      "execution_count": null,
      "metadata": {
        "id": "3uUNu6V8grSo",
        "outputId": "d993d29a-b5d8-4635-df62-fe611c0ff244"
      },
      "outputs": [
        {
          "name": "stdout",
          "output_type": "stream",
          "text": [
            "[LightGBM] [Warning] Auto-choosing col-wise multi-threading, the overhead of testing was 0.000923 seconds.\n",
            "You can set `force_col_wise=true` to remove the overhead.\n",
            "[LightGBM] [Info] Total Bins 6120\n",
            "[LightGBM] [Info] Number of data points in the train set: 400, number of used features: 60\n",
            "[LightGBM] [Info] Start training from score -0.693147\n",
            "[LightGBM] [Info] Start training from score -0.693147\n",
            "[LightGBM] [Info] Start training from score -34.538776\n",
            "[LightGBM] [Info] Start training from score -34.538776\n",
            "[LightGBM] [Warning] No further splits with positive gain, best gain: -inf\n",
            "[LightGBM] [Warning] No further splits with positive gain, best gain: -inf\n",
            "[LightGBM] [Warning] No further splits with positive gain, best gain: -inf\n",
            "[LightGBM] [Warning] No further splits with positive gain, best gain: -inf\n",
            "[LightGBM] [Warning] No further splits with positive gain, best gain: -inf\n",
            "[LightGBM] [Warning] No further splits with positive gain, best gain: -inf\n",
            "[LightGBM] [Warning] No further splits with positive gain, best gain: -inf\n",
            "[LightGBM] [Warning] No further splits with positive gain, best gain: -inf\n",
            "[LightGBM] [Warning] No further splits with positive gain, best gain: -inf\n",
            "[LightGBM] [Warning] No further splits with positive gain, best gain: -inf\n",
            "[LightGBM] [Warning] No further splits with positive gain, best gain: -inf\n",
            "[LightGBM] [Warning] No further splits with positive gain, best gain: -inf\n",
            "[LightGBM] [Warning] No further splits with positive gain, best gain: -inf\n",
            "[LightGBM] [Warning] No further splits with positive gain, best gain: -inf\n",
            "[LightGBM] [Warning] No further splits with positive gain, best gain: -inf\n",
            "[LightGBM] [Warning] No further splits with positive gain, best gain: -inf\n",
            "[LightGBM] [Warning] No further splits with positive gain, best gain: -inf\n",
            "[LightGBM] [Warning] No further splits with positive gain, best gain: -inf\n",
            "[LightGBM] [Warning] No further splits with positive gain, best gain: -inf\n",
            "[LightGBM] [Warning] No further splits with positive gain, best gain: -inf\n",
            "[LightGBM] [Warning] No further splits with positive gain, best gain: -inf\n",
            "[LightGBM] [Warning] No further splits with positive gain, best gain: -inf\n",
            "[LightGBM] [Warning] No further splits with positive gain, best gain: -inf\n",
            "[LightGBM] [Warning] No further splits with positive gain, best gain: -inf\n",
            "[LightGBM] [Warning] No further splits with positive gain, best gain: -inf\n",
            "[LightGBM] [Warning] No further splits with positive gain, best gain: -inf\n",
            "[LightGBM] [Warning] No further splits with positive gain, best gain: -inf\n",
            "[LightGBM] [Warning] No further splits with positive gain, best gain: -inf\n",
            "[LightGBM] [Warning] No further splits with positive gain, best gain: -inf\n",
            "[LightGBM] [Warning] No further splits with positive gain, best gain: -inf\n",
            "[LightGBM] [Warning] No further splits with positive gain, best gain: -inf\n",
            "[LightGBM] [Warning] No further splits with positive gain, best gain: -inf\n",
            "[LightGBM] [Warning] No further splits with positive gain, best gain: -inf\n",
            "[LightGBM] [Warning] No further splits with positive gain, best gain: -inf\n",
            "[LightGBM] [Warning] No further splits with positive gain, best gain: -inf\n",
            "[LightGBM] [Warning] No further splits with positive gain, best gain: -inf\n",
            "[LightGBM] [Warning] No further splits with positive gain, best gain: -inf\n",
            "[LightGBM] [Warning] No further splits with positive gain, best gain: -inf\n",
            "[LightGBM] [Warning] No further splits with positive gain, best gain: -inf\n",
            "[LightGBM] [Warning] No further splits with positive gain, best gain: -inf\n",
            "[LightGBM] [Warning] No further splits with positive gain, best gain: -inf\n",
            "[LightGBM] [Warning] No further splits with positive gain, best gain: -inf\n",
            "[LightGBM] [Warning] No further splits with positive gain, best gain: -inf\n",
            "[LightGBM] [Warning] No further splits with positive gain, best gain: -inf\n",
            "[LightGBM] [Warning] No further splits with positive gain, best gain: -inf\n",
            "[LightGBM] [Warning] No further splits with positive gain, best gain: -inf\n",
            "[LightGBM] [Warning] No further splits with positive gain, best gain: -inf\n",
            "[LightGBM] [Warning] No further splits with positive gain, best gain: -inf\n",
            "[LightGBM] [Warning] No further splits with positive gain, best gain: -inf\n",
            "[LightGBM] [Warning] No further splits with positive gain, best gain: -inf\n",
            "[LightGBM] [Warning] No further splits with positive gain, best gain: -inf\n",
            "[LightGBM] [Warning] No further splits with positive gain, best gain: -inf\n",
            "[LightGBM] [Warning] No further splits with positive gain, best gain: -inf\n",
            "[LightGBM] [Warning] No further splits with positive gain, best gain: -inf\n",
            "[LightGBM] [Warning] No further splits with positive gain, best gain: -inf\n",
            "[LightGBM] [Warning] No further splits with positive gain, best gain: -inf\n",
            "[LightGBM] [Warning] No further splits with positive gain, best gain: -inf\n",
            "[LightGBM] [Warning] No further splits with positive gain, best gain: -inf\n",
            "[LightGBM] [Warning] No further splits with positive gain, best gain: -inf\n",
            "[LightGBM] [Warning] No further splits with positive gain, best gain: -inf\n",
            "[LightGBM] [Warning] No further splits with positive gain, best gain: -inf\n",
            "[LightGBM] [Warning] No further splits with positive gain, best gain: -inf\n",
            "[LightGBM] [Warning] No further splits with positive gain, best gain: -inf\n",
            "[LightGBM] [Warning] No further splits with positive gain, best gain: -inf\n",
            "[LightGBM] [Warning] No further splits with positive gain, best gain: -inf\n",
            "[LightGBM] [Warning] No further splits with positive gain, best gain: -inf\n",
            "[LightGBM] [Warning] No further splits with positive gain, best gain: -inf\n",
            "[LightGBM] [Warning] No further splits with positive gain, best gain: -inf\n",
            "[LightGBM] [Warning] No further splits with positive gain, best gain: -inf\n",
            "[LightGBM] [Warning] No further splits with positive gain, best gain: -inf\n",
            "[LightGBM] [Warning] No further splits with positive gain, best gain: -inf\n",
            "[LightGBM] [Warning] No further splits with positive gain, best gain: -inf\n",
            "[LightGBM] [Warning] No further splits with positive gain, best gain: -inf\n",
            "[LightGBM] [Warning] No further splits with positive gain, best gain: -inf\n",
            "[LightGBM] [Warning] No further splits with positive gain, best gain: -inf\n",
            "[LightGBM] [Warning] No further splits with positive gain, best gain: -inf\n",
            "[LightGBM] [Warning] No further splits with positive gain, best gain: -inf\n",
            "[LightGBM] [Warning] No further splits with positive gain, best gain: -inf\n",
            "[LightGBM] [Warning] No further splits with positive gain, best gain: -inf\n",
            "[LightGBM] [Warning] No further splits with positive gain, best gain: -inf\n",
            "[LightGBM] [Warning] No further splits with positive gain, best gain: -inf\n",
            "[LightGBM] [Warning] No further splits with positive gain, best gain: -inf\n",
            "[LightGBM] [Warning] No further splits with positive gain, best gain: -inf\n",
            "[LightGBM] [Warning] No further splits with positive gain, best gain: -inf\n",
            "[LightGBM] [Warning] No further splits with positive gain, best gain: -inf\n",
            "[LightGBM] [Warning] No further splits with positive gain, best gain: -inf\n",
            "[LightGBM] [Warning] No further splits with positive gain, best gain: -inf\n",
            "[LightGBM] [Warning] No further splits with positive gain, best gain: -inf\n",
            "[LightGBM] [Warning] No further splits with positive gain, best gain: -inf\n",
            "[LightGBM] [Warning] No further splits with positive gain, best gain: -inf\n",
            "[LightGBM] [Warning] No further splits with positive gain, best gain: -inf\n",
            "[LightGBM] [Warning] No further splits with positive gain, best gain: -inf\n",
            "[LightGBM] [Warning] No further splits with positive gain, best gain: -inf\n",
            "[LightGBM] [Warning] No further splits with positive gain, best gain: -inf\n",
            "[LightGBM] [Warning] No further splits with positive gain, best gain: -inf\n",
            "[LightGBM] [Warning] No further splits with positive gain, best gain: -inf\n",
            "[LightGBM] [Warning] No further splits with positive gain, best gain: -inf\n",
            "[LightGBM] [Warning] No further splits with positive gain, best gain: -inf\n",
            "[LightGBM] [Warning] No further splits with positive gain, best gain: -inf\n",
            "[LightGBM] [Warning] No further splits with positive gain, best gain: -inf\n",
            "[LightGBM] [Warning] No further splits with positive gain, best gain: -inf\n",
            "[LightGBM] [Warning] No further splits with positive gain, best gain: -inf\n",
            "[LightGBM] [Warning] No further splits with positive gain, best gain: -inf\n",
            "[LightGBM] [Warning] No further splits with positive gain, best gain: -inf\n",
            "[LightGBM] [Warning] No further splits with positive gain, best gain: -inf\n",
            "[LightGBM] [Warning] No further splits with positive gain, best gain: -inf\n",
            "[LightGBM] [Warning] No further splits with positive gain, best gain: -inf\n",
            "[LightGBM] [Warning] No further splits with positive gain, best gain: -inf\n",
            "[LightGBM] [Warning] No further splits with positive gain, best gain: -inf\n",
            "[LightGBM] [Warning] No further splits with positive gain, best gain: -inf\n",
            "[LightGBM] [Warning] No further splits with positive gain, best gain: -inf\n",
            "[LightGBM] [Warning] No further splits with positive gain, best gain: -inf\n",
            "[LightGBM] [Warning] No further splits with positive gain, best gain: -inf\n",
            "[LightGBM] [Warning] No further splits with positive gain, best gain: -inf\n",
            "[LightGBM] [Warning] No further splits with positive gain, best gain: -inf\n",
            "[LightGBM] [Warning] No further splits with positive gain, best gain: -inf\n",
            "[LightGBM] [Warning] No further splits with positive gain, best gain: -inf\n",
            "[LightGBM] [Warning] No further splits with positive gain, best gain: -inf\n",
            "[LightGBM] [Warning] No further splits with positive gain, best gain: -inf\n",
            "[LightGBM] [Warning] No further splits with positive gain, best gain: -inf\n",
            "[LightGBM] [Warning] No further splits with positive gain, best gain: -inf\n",
            "[LightGBM] [Warning] No further splits with positive gain, best gain: -inf\n",
            "[LightGBM] [Warning] No further splits with positive gain, best gain: -inf\n",
            "[LightGBM] [Warning] No further splits with positive gain, best gain: -inf\n",
            "[LightGBM] [Warning] No further splits with positive gain, best gain: -inf\n",
            "[LightGBM] [Warning] No further splits with positive gain, best gain: -inf\n",
            "[LightGBM] [Warning] No further splits with positive gain, best gain: -inf\n",
            "[LightGBM] [Warning] No further splits with positive gain, best gain: -inf\n",
            "[LightGBM] [Warning] No further splits with positive gain, best gain: -inf\n",
            "[LightGBM] [Warning] No further splits with positive gain, best gain: -inf\n",
            "[LightGBM] [Warning] No further splits with positive gain, best gain: -inf\n",
            "[LightGBM] [Warning] No further splits with positive gain, best gain: -inf\n",
            "[LightGBM] [Warning] No further splits with positive gain, best gain: -inf\n",
            "[LightGBM] [Warning] No further splits with positive gain, best gain: -inf\n",
            "[LightGBM] [Warning] No further splits with positive gain, best gain: -inf\n",
            "[LightGBM] [Warning] No further splits with positive gain, best gain: -inf\n",
            "[LightGBM] [Warning] No further splits with positive gain, best gain: -inf\n",
            "[LightGBM] [Warning] No further splits with positive gain, best gain: -inf\n",
            "[LightGBM] [Warning] No further splits with positive gain, best gain: -inf\n",
            "[LightGBM] [Warning] No further splits with positive gain, best gain: -inf\n",
            "[LightGBM] [Warning] No further splits with positive gain, best gain: -inf\n",
            "[LightGBM] [Warning] No further splits with positive gain, best gain: -inf\n",
            "[LightGBM] [Warning] No further splits with positive gain, best gain: -inf\n",
            "[LightGBM] [Warning] No further splits with positive gain, best gain: -inf\n",
            "[LightGBM] [Warning] No further splits with positive gain, best gain: -inf\n",
            "[LightGBM] [Warning] No further splits with positive gain, best gain: -inf\n",
            "[LightGBM] [Warning] No further splits with positive gain, best gain: -inf\n",
            "[LightGBM] [Warning] No further splits with positive gain, best gain: -inf\n",
            "[LightGBM] [Warning] No further splits with positive gain, best gain: -inf\n",
            "[LightGBM] [Warning] No further splits with positive gain, best gain: -inf\n",
            "[LightGBM] [Warning] No further splits with positive gain, best gain: -inf\n",
            "[LightGBM] [Warning] No further splits with positive gain, best gain: -inf\n",
            "[LightGBM] [Warning] No further splits with positive gain, best gain: -inf\n",
            "[LightGBM] [Warning] No further splits with positive gain, best gain: -inf\n",
            "[LightGBM] [Warning] No further splits with positive gain, best gain: -inf\n",
            "[LightGBM] [Warning] No further splits with positive gain, best gain: -inf\n",
            "[LightGBM] [Warning] No further splits with positive gain, best gain: -inf\n",
            "[LightGBM] [Warning] No further splits with positive gain, best gain: -inf\n",
            "[LightGBM] [Warning] No further splits with positive gain, best gain: -inf\n",
            "[LightGBM] [Warning] No further splits with positive gain, best gain: -inf\n",
            "[LightGBM] [Warning] No further splits with positive gain, best gain: -inf\n",
            "[LightGBM] [Warning] No further splits with positive gain, best gain: -inf\n",
            "[LightGBM] [Warning] No further splits with positive gain, best gain: -inf\n",
            "[LightGBM] [Warning] No further splits with positive gain, best gain: -inf\n",
            "[LightGBM] [Warning] No further splits with positive gain, best gain: -inf\n",
            "[LightGBM] [Warning] No further splits with positive gain, best gain: -inf\n",
            "[LightGBM] [Warning] No further splits with positive gain, best gain: -inf\n",
            "[LightGBM] [Warning] No further splits with positive gain, best gain: -inf\n",
            "[LightGBM] [Warning] No further splits with positive gain, best gain: -inf\n",
            "[LightGBM] [Warning] No further splits with positive gain, best gain: -inf\n",
            "[LightGBM] [Warning] No further splits with positive gain, best gain: -inf\n",
            "[LightGBM] [Warning] No further splits with positive gain, best gain: -inf\n"
          ]
        },
        {
          "name": "stdout",
          "output_type": "stream",
          "text": [
            "[LightGBM] [Warning] No further splits with positive gain, best gain: -inf\n",
            "[LightGBM] [Warning] No further splits with positive gain, best gain: -inf\n",
            "[LightGBM] [Warning] No further splits with positive gain, best gain: -inf\n",
            "[LightGBM] [Warning] No further splits with positive gain, best gain: -inf\n",
            "[LightGBM] [Warning] No further splits with positive gain, best gain: -inf\n",
            "[LightGBM] [Warning] No further splits with positive gain, best gain: -inf\n",
            "[LightGBM] [Warning] No further splits with positive gain, best gain: -inf\n",
            "[LightGBM] [Warning] No further splits with positive gain, best gain: -inf\n",
            "[LightGBM] [Warning] No further splits with positive gain, best gain: -inf\n",
            "[LightGBM] [Warning] No further splits with positive gain, best gain: -inf\n",
            "[LightGBM] [Warning] No further splits with positive gain, best gain: -inf\n",
            "[LightGBM] [Warning] No further splits with positive gain, best gain: -inf\n",
            "[LightGBM] [Warning] No further splits with positive gain, best gain: -inf\n",
            "[LightGBM] [Warning] No further splits with positive gain, best gain: -inf\n",
            "[LightGBM] [Warning] No further splits with positive gain, best gain: -inf\n",
            "[LightGBM] [Warning] No further splits with positive gain, best gain: -inf\n",
            "[LightGBM] [Warning] No further splits with positive gain, best gain: -inf\n",
            "[LightGBM] [Warning] No further splits with positive gain, best gain: -inf\n",
            "[LightGBM] [Warning] No further splits with positive gain, best gain: -inf\n",
            "[LightGBM] [Warning] No further splits with positive gain, best gain: -inf\n",
            "[LightGBM] [Warning] No further splits with positive gain, best gain: -inf\n",
            "[LightGBM] [Warning] No further splits with positive gain, best gain: -inf\n",
            "[LightGBM] [Warning] No further splits with positive gain, best gain: -inf\n",
            "[LightGBM] [Warning] No further splits with positive gain, best gain: -inf\n",
            "[LightGBM] [Warning] No further splits with positive gain, best gain: -inf\n",
            "[LightGBM] [Warning] No further splits with positive gain, best gain: -inf\n",
            "[LightGBM] [Warning] No further splits with positive gain, best gain: -inf\n",
            "[LightGBM] [Warning] No further splits with positive gain, best gain: -inf\n",
            "Accuracy: 0.73\n",
            "\n",
            "              precision    recall  f1-score   support\n",
            "\n",
            "           0       0.83      0.58      0.68        50\n",
            "           1       0.68      0.88      0.77        50\n",
            "\n",
            "    accuracy                           0.73       100\n",
            "   macro avg       0.75      0.73      0.72       100\n",
            "weighted avg       0.75      0.73      0.72       100\n",
            "\n"
          ]
        }
      ],
      "source": [
        "#!pip install lightgbm\n",
        "import lightgbm as lgb\n",
        "\n",
        "d_train = lgb.Dataset(x_train, label=y_train)\n",
        "\n",
        "# https://lightgbm.readthedocs.io/en/latest/Parameters.html\n",
        "lgbm_params = {'learning_rate':0.05, 'boosting_type':'dart',    \n",
        "              'objective':'multiclass',\n",
        "              'metric': 'multi_logloss',\n",
        "              'num_leaves':100,\n",
        "              'max_depth':10,\n",
        "              'num_class':4}  #no.of unique values in the target class not inclusive of the end value\n",
        "\n",
        "\n",
        "lgb_model = lgb.train(lgbm_params, d_train, 100) #50 iterations. Increase iterations for small learning rates\n",
        "\n",
        "# Predict the response for test dataset\n",
        "y_pred = lgb_model.predict(x_test)\n",
        "y_pred = np.argmax(y_pred, axis=1)\n",
        "\n",
        "accuracy = accuracy_score(y_test, y_pred)\n",
        "results['lgb'] = round(accuracy * 100, 2)\n",
        "\n",
        "# Model Accuracy, how often is the classifier correct?\n",
        "print(\"Accuracy:\", accuracy, end='\\n\\n')\n",
        "\n",
        "print(classification_report(y_test, y_pred))"
      ]
    },
    {
      "cell_type": "code",
      "execution_count": null,
      "metadata": {
        "id": "8MUOdjhIgrSp"
      },
      "outputs": [],
      "source": [
        "def showconfusionmatrix(cm):\n",
        "    plt.matshow(cm)\n",
        "    plt.title('Confusion matrix')\n",
        "    plt.colorbar()\n",
        "    plt.show()"
      ]
    },
    {
      "cell_type": "code",
      "execution_count": null,
      "metadata": {
        "id": "DR98H1gNgrSp",
        "outputId": "0d52d5ab-7fca-4186-ad97-80349a7a3642"
      },
      "outputs": [
        {
          "name": "stdout",
          "output_type": "stream",
          "text": [
            "[[29 21]\n",
            " [ 6 44]]\n"
          ]
        },
        {
          "data": {
            "image/png": "[encoded data removed]",
            "text/plain": [
              "<Figure size 288x288 with 2 Axes>"
            ]
          },
          "metadata": {
            "needs_background": "light"
          },
          "output_type": "display_data"
        }
      ],
      "source": [
        "cm = confusion_matrix(y_test, y_pred)\n",
        "print (cm)\n",
        "\n",
        "showconfusionmatrix(cm)"
      ]
    },
    {
      "cell_type": "markdown",
      "metadata": {
        "id": "LKesgD0JgrSp"
      },
      "source": [
        "## SVM"
      ]
    },
    {
      "cell_type": "code",
      "execution_count": null,
      "metadata": {
        "id": "8Aouj6xRgrSp",
        "outputId": "2b850992-e767-40b5-f48c-b32fde56de74"
      },
      "outputs": [
        {
          "name": "stdout",
          "output_type": "stream",
          "text": [
            "Accuracy: 0.6\n",
            "\n",
            "              precision    recall  f1-score   support\n",
            "\n",
            "           0       0.60      0.60      0.60        50\n",
            "           1       0.60      0.60      0.60        50\n",
            "\n",
            "    accuracy                           0.60       100\n",
            "   macro avg       0.60      0.60      0.60       100\n",
            "weighted avg       0.60      0.60      0.60       100\n",
            "\n"
          ]
        }
      ],
      "source": [
        "# Train the Linear SVM\n",
        "from sklearn.svm import LinearSVC\n",
        "\n",
        "clf = LinearSVC(max_iter=10000)\n",
        "\n",
        "clf.fit(x_train, y_train)\n",
        "\n",
        "# Predict the response for test dataset\n",
        "y_pred = clf.predict(x_test)\n",
        "\n",
        "accuracy = accuracy_score(y_test, y_pred)\n",
        "results['SVM'] = round(accuracy * 100, 2)\n",
        "\n",
        "# Model Accuracy, how often is the classifier correct?\n",
        "print(\"Accuracy:\", accuracy, end='\\n\\n')\n",
        "\n",
        "print(classification_report(y_test, y_pred))"
      ]
    },
    {
      "cell_type": "code",
      "execution_count": null,
      "metadata": {
        "id": "_WYXFG1-grSq",
        "outputId": "8de7b71f-27fd-4c82-94fa-30b6ffeb57b8"
      },
      "outputs": [
        {
          "name": "stdout",
          "output_type": "stream",
          "text": [
            "[[30 20]\n",
            " [20 30]]\n"
          ]
        },
        {
          "data": {
            "image/png": "[encoded data removed]",
            "text/plain": [
              "<Figure size 288x288 with 2 Axes>"
            ]
          },
          "metadata": {
            "needs_background": "light"
          },
          "output_type": "display_data"
        }
      ],
      "source": [
        "cm = confusion_matrix(y_test, y_pred)\n",
        "print (cm)\n",
        "\n",
        "showconfusionmatrix(cm)"
      ]
    },
    {
      "cell_type": "markdown",
      "metadata": {
        "id": "CU1Ua-b0grSq"
      },
      "source": [
        "## Random Forest:"
      ]
    },
    {
      "cell_type": "code",
      "execution_count": null,
      "metadata": {
        "id": "OhbfCHoQgrSq",
        "outputId": "ff43f1b6-f5a4-4299-af7e-cb0787c64963"
      },
      "outputs": [
        {
          "name": "stdout",
          "output_type": "stream",
          "text": [
            "Accuracy: 0.8\n",
            "\n",
            "              precision    recall  f1-score   support\n",
            "\n",
            "           0       0.88      0.70      0.78        50\n",
            "           1       0.75      0.90      0.82        50\n",
            "\n",
            "    accuracy                           0.80       100\n",
            "   macro avg       0.81      0.80      0.80       100\n",
            "weighted avg       0.81      0.80      0.80       100\n",
            "\n"
          ]
        }
      ],
      "source": [
        "# creating a random forest\n",
        "clf =  RandomForestClassifier(n_estimators = 100, random_state=30)\n",
        "\n",
        "clf.fit(x_train, y_train)\n",
        "\n",
        "# Predict the response for test dataset\n",
        "y_pred = clf.predict(x_test)\n",
        "\n",
        "accuracy = accuracy_score(y_test, y_pred)\n",
        "results['random_forest'] = round(accuracy * 100, 2)\n",
        "\n",
        "# Model Accuracy, how often is the classifier correct?\n",
        "print(\"Accuracy:\", accuracy, end='\\n\\n')\n",
        "\n",
        "print(classification_report(y_test, y_pred))"
      ]
    },
    {
      "cell_type": "code",
      "execution_count": null,
      "metadata": {
        "id": "Go6qaSLsgrSr",
        "outputId": "050131e9-ac39-4a45-ed11-4e3333a7c8cf"
      },
      "outputs": [
        {
          "name": "stdout",
          "output_type": "stream",
          "text": [
            "[[35 15]\n",
            " [ 5 45]]\n"
          ]
        },
        {
          "data": {
            "image/png": "[encoded data removed]",
            "text/plain": [
              "<Figure size 288x288 with 2 Axes>"
            ]
          },
          "metadata": {
            "needs_background": "light"
          },
          "output_type": "display_data"
        }
      ],
      "source": [
        "cm = confusion_matrix(y_test, y_pred)\n",
        "print (cm)\n",
        "\n",
        "showconfusionmatrix(cm)"
      ]
    },
    {
      "cell_type": "markdown",
      "metadata": {
        "id": "lMHmq0CRgrSr"
      },
      "source": [
        "## Decision Tree:"
      ]
    },
    {
      "cell_type": "code",
      "execution_count": null,
      "metadata": {
        "id": "s7SeExLygrSr",
        "outputId": "49d58a95-58a2-4ae1-c80e-12837ece1557"
      },
      "outputs": [
        {
          "name": "stdout",
          "output_type": "stream",
          "text": [
            "Accuracy: 0.81\n",
            "\n",
            "              precision    recall  f1-score   support\n",
            "\n",
            "           0       0.92      0.68      0.78        50\n",
            "           1       0.75      0.94      0.83        50\n",
            "\n",
            "    accuracy                           0.81       100\n",
            "   macro avg       0.83      0.81      0.81       100\n",
            "weighted avg       0.83      0.81      0.81       100\n",
            "\n"
          ]
        }
      ],
      "source": [
        "from sklearn.tree import DecisionTreeClassifier # Import Decision Tree Classifier\n",
        "\n",
        "clf = DecisionTreeClassifier()\n",
        "clf.fit(x_train, y_train)\n",
        "\n",
        "# Predict the response for test dataset\n",
        "y_pred = clf.predict(x_test)\n",
        "\n",
        "accuracy = accuracy_score(y_test, y_pred)\n",
        "results['decision_tree'] = round(accuracy * 100, 2)\n",
        "\n",
        "# Model Accuracy, how often is the classifier correct?\n",
        "print(\"Accuracy:\", accuracy, end='\\n\\n')\n",
        "\n",
        "print(classification_report(y_test, y_pred))"
      ]
    },
    {
      "cell_type": "code",
      "execution_count": null,
      "metadata": {
        "id": "v66nf6bVgrSr",
        "outputId": "53d2af08-4fe8-4564-8bbe-94d591c0edfc"
      },
      "outputs": [
        {
          "name": "stdout",
          "output_type": "stream",
          "text": [
            "[[34 16]\n",
            " [ 3 47]]\n"
          ]
        },
        {
          "data": {
            "image/png": "[encoded data removed]",
            "text/plain": [
              "<Figure size 288x288 with 2 Axes>"
            ]
          },
          "metadata": {
            "needs_background": "light"
          },
          "output_type": "display_data"
        }
      ],
      "source": [
        "cm = confusion_matrix(y_test, y_pred)\n",
        "print (cm)\n",
        "\n",
        "showconfusionmatrix(cm)"
      ]
    },
    {
      "cell_type": "code",
      "execution_count": null,
      "metadata": {
        "id": "zssGFB-tgrSr",
        "outputId": "8e127d98-9822-4fb3-d8e4-420fbb034765"
      },
      "outputs": [
        {
          "data": {
            "text/plain": [
              "[Text(242.0396907216495, 211.7178947368421, 'X[36] <= 0.98\\ngini = 0.5\\nsamples = 400\\nvalue = [200, 200]'),\n",
              " Text(183.79484536082475, 200.2736842105263, 'X[10] <= 0.99\\ngini = 0.456\\nsamples = 298\\nvalue = [105, 193]'),\n",
              " Text(112.17525773195877, 188.82947368421054, 'X[16] <= 0.977\\ngini = 0.485\\nsamples = 228\\nvalue = [94, 134]'),\n",
              " Text(72.48247422680413, 177.38526315789474, 'X[41] <= 0.971\\ngini = 0.498\\nsamples = 182\\nvalue = [85, 97]'),\n",
              " Text(37.96701030927835, 165.94105263157894, 'X[4] <= 0.005\\ngini = 0.47\\nsamples = 122\\nvalue = [46, 76]'),\n",
              " Text(24.16082474226804, 154.49684210526317, 'X[1] <= 0.922\\ngini = 0.45\\nsamples = 114\\nvalue = [39, 75]'),\n",
              " Text(17.25773195876289, 143.05263157894737, 'gini = 0.0\\nsamples = 5\\nvalue = [5, 0]'),\n",
              " Text(31.0639175257732, 143.05263157894737, 'X[15] <= 0.945\\ngini = 0.429\\nsamples = 109\\nvalue = [34, 75]'),\n",
              " Text(13.80618556701031, 131.60842105263157, 'X[41] <= 0.965\\ngini = 0.153\\nsamples = 24\\nvalue = [2, 22]'),\n",
              " Text(6.903092783505155, 120.16421052631578, 'gini = 0.0\\nsamples = 2\\nvalue = [2, 0]'),\n",
              " Text(20.709278350515465, 120.16421052631578, 'gini = 0.0\\nsamples = 22\\nvalue = [0, 22]'),\n",
              " Text(48.32164948453608, 131.60842105263157, 'X[16] <= 0.963\\ngini = 0.469\\nsamples = 85\\nvalue = [32, 53]'),\n",
              " Text(34.51546391752578, 120.16421052631578, 'X[54] <= 0.004\\ngini = 0.425\\nsamples = 75\\nvalue = [23, 52]'),\n",
              " Text(27.61237113402062, 108.72, 'X[17] <= 0.002\\ngini = 0.392\\nsamples = 71\\nvalue = [19, 52]'),\n",
              " Text(20.709278350515465, 97.27578947368421, 'gini = 0.0\\nsamples = 2\\nvalue = [2, 0]'),\n",
              " Text(34.51546391752578, 97.27578947368421, 'X[35] <= 0.961\\ngini = 0.371\\nsamples = 69\\nvalue = [17, 52]'),\n",
              " Text(27.61237113402062, 85.83157894736843, 'gini = 0.0\\nsamples = 11\\nvalue = [0, 11]'),\n",
              " Text(41.41855670103093, 85.83157894736843, 'X[58] <= 0.998\\ngini = 0.414\\nsamples = 58\\nvalue = [17, 41]'),\n",
              " Text(34.51546391752578, 74.38736842105263, 'gini = 0.0\\nsamples = 5\\nvalue = [5, 0]'),\n",
              " Text(48.32164948453608, 74.38736842105263, 'X[56] <= 0.959\\ngini = 0.35\\nsamples = 53\\nvalue = [12, 41]'),\n",
              " Text(41.41855670103093, 62.943157894736856, 'X[26] <= 0.945\\ngini = 0.295\\nsamples = 50\\nvalue = [9, 41]'),\n",
              " Text(27.61237113402062, 51.49894736842106, 'X[39] <= 0.002\\ngini = 0.417\\nsamples = 27\\nvalue = [8, 19]'),\n",
              " Text(20.709278350515465, 40.05473684210526, 'X[21] <= 0.944\\ngini = 0.287\\nsamples = 23\\nvalue = [4, 19]'),\n",
              " Text(13.80618556701031, 28.610526315789485, 'X[2] <= 0.002\\ngini = 0.236\\nsamples = 22\\nvalue = [3, 19]'),\n",
              " Text(6.903092783505155, 17.166315789473686, 'gini = 0.0\\nsamples = 13\\nvalue = [0, 13]'),\n",
              " Text(20.709278350515465, 17.166315789473686, 'X[41] <= 0.935\\ngini = 0.444\\nsamples = 9\\nvalue = [3, 6]'),\n",
              " Text(13.80618556701031, 5.722105263157886, 'gini = 0.0\\nsamples = 3\\nvalue = [3, 0]'),\n",
              " Text(27.61237113402062, 5.722105263157886, 'gini = 0.0\\nsamples = 6\\nvalue = [0, 6]'),\n",
              " Text(27.61237113402062, 28.610526315789485, 'gini = 0.0\\nsamples = 1\\nvalue = [1, 0]'),\n",
              " Text(34.51546391752578, 40.05473684210526, 'gini = 0.0\\nsamples = 4\\nvalue = [4, 0]'),\n",
              " Text(55.22474226804124, 51.49894736842106, 'X[21] <= 0.953\\ngini = 0.083\\nsamples = 23\\nvalue = [1, 22]'),\n",
              " Text(48.32164948453608, 40.05473684210526, 'X[35] <= 0.971\\ngini = 0.198\\nsamples = 9\\nvalue = [1, 8]'),\n",
              " Text(41.41855670103093, 28.610526315789485, 'gini = 0.0\\nsamples = 1\\nvalue = [1, 0]'),\n",
              " Text(55.22474226804124, 28.610526315789485, 'gini = 0.0\\nsamples = 8\\nvalue = [0, 8]'),\n",
              " Text(62.1278350515464, 40.05473684210526, 'gini = 0.0\\nsamples = 14\\nvalue = [0, 14]'),\n",
              " Text(55.22474226804124, 62.943157894736856, 'gini = 0.0\\nsamples = 3\\nvalue = [3, 0]'),\n",
              " Text(41.41855670103093, 108.72, 'gini = 0.0\\nsamples = 4\\nvalue = [4, 0]'),\n",
              " Text(62.1278350515464, 120.16421052631578, 'X[37] <= 0.001\\ngini = 0.18\\nsamples = 10\\nvalue = [9, 1]'),\n",
              " Text(55.22474226804124, 108.72, 'gini = 0.0\\nsamples = 1\\nvalue = [0, 1]'),\n",
              " Text(69.03092783505156, 108.72, 'gini = 0.0\\nsamples = 9\\nvalue = [9, 0]'),\n",
              " Text(51.77319587628866, 154.49684210526317, 'X[37] <= 0.009\\ngini = 0.219\\nsamples = 8\\nvalue = [7, 1]'),\n",
              " Text(44.87010309278351, 143.05263157894737, 'gini = 0.0\\nsamples = 7\\nvalue = [7, 0]'),\n",
              " Text(58.67628865979382, 143.05263157894737, 'gini = 0.0\\nsamples = 1\\nvalue = [0, 1]'),\n",
              " Text(106.99793814432991, 165.94105263157894, 'X[54] <= 0.004\\ngini = 0.455\\nsamples = 60\\nvalue = [39, 21]'),\n",
              " Text(100.09484536082475, 154.49684210526317, 'gini = 0.0\\nsamples = 16\\nvalue = [16, 0]'),\n",
              " Text(113.90103092783505, 154.49684210526317, 'X[18] <= 0.997\\ngini = 0.499\\nsamples = 44\\nvalue = [23, 21]'),\n",
              " Text(96.64329896907216, 143.05263157894737, 'X[41] <= 0.975\\ngini = 0.4\\nsamples = 29\\nvalue = [21, 8]'),\n",
              " Text(89.74020618556702, 131.60842105263157, 'gini = 0.0\\nsamples = 12\\nvalue = [12, 0]'),\n",
              " Text(103.54639175257732, 131.60842105263157, 'X[36] <= 0.976\\ngini = 0.498\\nsamples = 17\\nvalue = [9, 8]'),\n",
              " Text(89.74020618556702, 120.16421052631578, 'X[22] <= 0.012\\ngini = 0.278\\nsamples = 6\\nvalue = [1, 5]'),\n",
              " Text(82.83711340206186, 108.72, 'gini = 0.0\\nsamples = 5\\nvalue = [0, 5]'),\n",
              " Text(96.64329896907216, 108.72, 'gini = 0.0\\nsamples = 1\\nvalue = [1, 0]'),\n",
              " Text(117.35257731958764, 120.16421052631578, 'X[32] <= 0.011\\ngini = 0.397\\nsamples = 11\\nvalue = [8, 3]'),\n",
              " Text(110.44948453608248, 108.72, 'X[31] <= 0.977\\ngini = 0.198\\nsamples = 9\\nvalue = [8, 1]'),\n",
              " Text(103.54639175257732, 97.27578947368421, 'gini = 0.0\\nsamples = 7\\nvalue = [7, 0]'),\n",
              " Text(117.35257731958764, 97.27578947368421, 'X[21] <= 0.977\\ngini = 0.5\\nsamples = 2\\nvalue = [1, 1]'),\n",
              " Text(110.44948453608248, 85.83157894736843, 'gini = 0.0\\nsamples = 1\\nvalue = [0, 1]'),\n",
              " Text(124.2556701030928, 85.83157894736843, 'gini = 0.0\\nsamples = 1\\nvalue = [1, 0]'),\n",
              " Text(124.2556701030928, 108.72, 'gini = 0.0\\nsamples = 2\\nvalue = [0, 2]'),\n",
              " Text(131.15876288659794, 143.05263157894737, 'X[16] <= 0.972\\ngini = 0.231\\nsamples = 15\\nvalue = [2, 13]'),\n",
              " Text(124.2556701030928, 131.60842105263157, 'gini = 0.0\\nsamples = 1\\nvalue = [1, 0]'),\n",
              " Text(138.0618556701031, 131.60842105263157, 'X[56] <= 0.975\\ngini = 0.133\\nsamples = 14\\nvalue = [1, 13]'),\n",
              " Text(131.15876288659794, 120.16421052631578, 'gini = 0.0\\nsamples = 13\\nvalue = [0, 13]'),\n",
              " Text(144.96494845360826, 120.16421052631578, 'gini = 0.0\\nsamples = 1\\nvalue = [1, 0]'),\n",
              " Text(151.8680412371134, 177.38526315789474, 'X[17] <= 0.006\\ngini = 0.315\\nsamples = 46\\nvalue = [9, 37]'),\n",
              " Text(134.6103092783505, 165.94105263157894, 'X[0] <= 0.942\\ngini = 0.245\\nsamples = 7\\nvalue = [6, 1]'),\n",
              " Text(127.70721649484537, 154.49684210526317, 'gini = 0.0\\nsamples = 6\\nvalue = [6, 0]'),\n",
              " Text(141.5134020618557, 154.49684210526317, 'gini = 0.0\\nsamples = 1\\nvalue = [0, 1]'),\n",
              " Text(169.1257731958763, 165.94105263157894, 'X[40] <= 0.7\\ngini = 0.142\\nsamples = 39\\nvalue = [3, 36]'),\n",
              " Text(155.31958762886597, 154.49684210526317, 'X[46] <= 0.979\\ngini = 0.5\\nsamples = 4\\nvalue = [2, 2]'),\n",
              " Text(148.41649484536083, 143.05263157894737, 'gini = 0.0\\nsamples = 2\\nvalue = [0, 2]'),\n",
              " Text(162.22268041237115, 143.05263157894737, 'gini = 0.0\\nsamples = 2\\nvalue = [2, 0]'),\n",
              " Text(182.9319587628866, 154.49684210526317, 'X[21] <= 0.978\\ngini = 0.056\\nsamples = 35\\nvalue = [1, 34]'),\n",
              " Text(176.02886597938146, 143.05263157894737, 'X[21] <= 0.978\\ngini = 0.278\\nsamples = 6\\nvalue = [1, 5]'),\n",
              " Text(169.1257731958763, 131.60842105263157, 'gini = 0.0\\nsamples = 5\\nvalue = [0, 5]'),\n",
              " Text(182.9319587628866, 131.60842105263157, 'gini = 0.0\\nsamples = 1\\nvalue = [1, 0]'),\n",
              " Text(189.83505154639175, 143.05263157894737, 'gini = 0.0\\nsamples = 29\\nvalue = [0, 29]'),\n",
              " Text(255.41443298969074, 188.82947368421054, 'X[21] <= 0.899\\ngini = 0.265\\nsamples = 70\\nvalue = [11, 59]'),\n",
              " Text(248.5113402061856, 177.38526315789474, 'X[14] <= 0.001\\ngini = 0.303\\nsamples = 59\\nvalue = [11, 48]'),\n",
              " Text(241.60824742268042, 165.94105263157894, 'X[37] <= 0.001\\ngini = 0.266\\nsamples = 57\\nvalue = [9, 48]'),\n",
              " Text(217.4474226804124, 154.49684210526317, 'X[31] <= 0.775\\ngini = 0.32\\nsamples = 40\\nvalue = [8, 32]'),\n",
              " Text(203.64123711340207, 143.05263157894737, 'X[51] <= 0.687\\ngini = 0.219\\nsamples = 32\\nvalue = [4, 28]'),\n",
              " Text(196.73814432989693, 131.60842105263157, 'X[10] <= 0.999\\ngini = 0.32\\nsamples = 20\\nvalue = [4, 16]'),\n",
              " Text(189.83505154639175, 120.16421052631578, 'gini = 0.48\\nsamples = 5\\nvalue = [2, 3]'),\n",
              " Text(203.64123711340207, 120.16421052631578, 'X[1] <= 0.25\\ngini = 0.231\\nsamples = 15\\nvalue = [2, 13]'),\n",
              " Text(196.73814432989693, 108.72, 'gini = 0.375\\nsamples = 8\\nvalue = [2, 6]'),\n",
              " Text(210.54432989690721, 108.72, 'gini = 0.0\\nsamples = 7\\nvalue = [0, 7]'),\n",
              " Text(210.54432989690721, 131.60842105263157, 'gini = 0.0\\nsamples = 12\\nvalue = [0, 12]'),\n",
              " Text(231.2536082474227, 143.05263157894737, 'X[34] <= 0.0\\ngini = 0.5\\nsamples = 8\\nvalue = [4, 4]'),\n",
              " Text(224.35051546391753, 131.60842105263157, 'gini = 0.0\\nsamples = 1\\nvalue = [1, 0]'),\n",
              " Text(238.15670103092785, 131.60842105263157, 'gini = 0.49\\nsamples = 7\\nvalue = [3, 4]'),\n",
              " Text(265.76907216494845, 154.49684210526317, 'X[28] <= 0.999\\ngini = 0.111\\nsamples = 17\\nvalue = [1, 16]'),\n",
              " Text(258.8659793814433, 143.05263157894737, 'X[36] <= 0.879\\ngini = 0.444\\nsamples = 3\\nvalue = [1, 2]'),\n",
              " Text(251.96288659793817, 131.60842105263157, 'gini = 0.0\\nsamples = 1\\nvalue = [1, 0]'),\n",
              " Text(265.76907216494845, 131.60842105263157, 'gini = 0.0\\nsamples = 2\\nvalue = [0, 2]'),\n",
              " Text(272.6721649484536, 143.05263157894737, 'gini = 0.0\\nsamples = 14\\nvalue = [0, 14]'),\n",
              " Text(255.41443298969074, 165.94105263157894, 'gini = 0.0\\nsamples = 2\\nvalue = [2, 0]'),\n",
              " Text(262.3175257731959, 177.38526315789474, 'gini = 0.0\\nsamples = 11\\nvalue = [0, 11]'),\n",
              " Text(300.28453608247423, 200.2736842105263, 'X[49] <= 0.002\\ngini = 0.128\\nsamples = 102\\nvalue = [95, 7]'),\n",
              " Text(293.3814432989691, 188.82947368421054, 'gini = 0.0\\nsamples = 5\\nvalue = [0, 5]'),\n",
              " Text(307.1876288659794, 188.82947368421054, 'X[53] <= 0.999\\ngini = 0.04\\nsamples = 97\\nvalue = [95, 2]'),\n",
              " Text(293.3814432989691, 177.38526315789474, 'X[15] <= 0.721\\ngini = 0.021\\nsamples = 93\\nvalue = [92, 1]'),\n",
              " Text(286.47835051546394, 165.94105263157894, 'X[15] <= 0.72\\ngini = 0.117\\nsamples = 16\\nvalue = [15, 1]'),\n",
              " Text(279.5752577319588, 154.49684210526317, 'gini = 0.0\\nsamples = 15\\nvalue = [15, 0]'),\n",
              " Text(293.3814432989691, 154.49684210526317, 'gini = 0.0\\nsamples = 1\\nvalue = [0, 1]'),\n",
              " Text(300.28453608247423, 165.94105263157894, 'gini = 0.0\\nsamples = 77\\nvalue = [77, 0]'),\n",
              " Text(320.9938144329897, 177.38526315789474, 'X[50] <= 0.897\\ngini = 0.375\\nsamples = 4\\nvalue = [3, 1]'),\n",
              " Text(314.0907216494846, 165.94105263157894, 'gini = 0.0\\nsamples = 1\\nvalue = [0, 1]'),\n",
              " Text(327.89690721649487, 165.94105263157894, 'gini = 0.0\\nsamples = 3\\nvalue = [3, 0]')]"
            ]
          },
          "execution_count": 58,
          "metadata": {},
          "output_type": "execute_result"
        },
        {
          "data": {
            "image/png": "[encoded data removed]",
            "text/plain": [
              "<Figure size 432x288 with 1 Axes>"
            ]
          },
          "metadata": {
            "needs_background": "light"
          },
          "output_type": "display_data"
        }
      ],
      "source": [
        "# plot tree\n",
        "from sklearn import tree\n",
        "\n",
        "tree.plot_tree(clf)"
      ]
    },
    {
      "cell_type": "markdown",
      "metadata": {
        "id": "pG1SJwVjgrSs"
      },
      "source": [
        "## AdaBoost Classifier:"
      ]
    },
    {
      "cell_type": "code",
      "execution_count": null,
      "metadata": {
        "id": "dUfQtusfgrSs",
        "outputId": "15d79a35-56e5-4e89-f707-717cbf89d49b"
      },
      "outputs": [
        {
          "name": "stdout",
          "output_type": "stream",
          "text": [
            "Accuracy: 0.61\n",
            "\n",
            "              precision    recall  f1-score   support\n",
            "\n",
            "           0       0.66      0.46      0.54        50\n",
            "           1       0.58      0.76      0.66        50\n",
            "\n",
            "    accuracy                           0.61       100\n",
            "   macro avg       0.62      0.61      0.60       100\n",
            "weighted avg       0.62      0.61      0.60       100\n",
            "\n"
          ]
        }
      ],
      "source": [
        "# Create Adaboostclassifier\n",
        "clf = AdaBoostClassifier(n_estimators=42)\n",
        "\n",
        "clf.fit(x_train, y_train)\n",
        "\n",
        "# Predict the response for test dataset\n",
        "y_pred = clf.predict(x_test)\n",
        "\n",
        "accuracy = accuracy_score(y_test, y_pred)\n",
        "results['ada_boost'] = round(accuracy * 100, 2)\n",
        "\n",
        "# Model Accuracy, how often is the classifier correct?\n",
        "print(\"Accuracy:\", accuracy, end='\\n\\n')\n",
        "\n",
        "print(classification_report(y_test, y_pred))"
      ]
    },
    {
      "cell_type": "code",
      "execution_count": null,
      "metadata": {
        "id": "gxHHaD1hgrSs",
        "outputId": "0276a391-2c25-43df-afed-2a2da5b9a427"
      },
      "outputs": [
        {
          "name": "stdout",
          "output_type": "stream",
          "text": [
            "[[23 27]\n",
            " [12 38]]\n"
          ]
        },
        {
          "data": {
            "image/png": "[encoded data removed]",
            "text/plain": [
              "<Figure size 288x288 with 2 Axes>"
            ]
          },
          "metadata": {
            "needs_background": "light"
          },
          "output_type": "display_data"
        }
      ],
      "source": [
        "cm = confusion_matrix(y_test, y_pred)\n",
        "print (cm)\n",
        "\n",
        "showconfusionmatrix(cm)"
      ]
    },
    {
      "cell_type": "markdown",
      "metadata": {
        "id": "WBhQyvvFgrSs"
      },
      "source": [
        "## XG Boost Classifier:"
      ]
    },
    {
      "cell_type": "code",
      "execution_count": null,
      "metadata": {
        "id": "zGtoyYRdgrSs",
        "outputId": "730edb55-cb7d-45d0-c4e1-4f94bd0a835e"
      },
      "outputs": [
        {
          "name": "stderr",
          "output_type": "stream",
          "text": [
            "/home/ahsanyleg/anaconda3/lib/python3.8/site-packages/xgboost/sklearn.py:1224: UserWarning: The use of label encoder in XGBClassifier is deprecated and will be removed in a future release. To remove this warning, do the following: 1) Pass option use_label_encoder=False when constructing XGBClassifier object; and 2) Encode your labels (y) as integers starting with 0, i.e. 0, 1, 2, ..., [num_class - 1].\n",
            "  warnings.warn(label_encoder_deprecation_msg, UserWarning)\n"
          ]
        },
        {
          "name": "stdout",
          "output_type": "stream",
          "text": [
            "[00:35:29] WARNING: ../src/learner.cc:1115: Starting in XGBoost 1.3.0, the default evaluation metric used with the objective 'binary:logistic' was changed from 'error' to 'logloss'. Explicitly set eval_metric if you'd like to restore the old behavior.\n",
            "Accuracy: 0.8\n",
            "\n",
            "              precision    recall  f1-score   support\n",
            "\n",
            "           0       0.86      0.72      0.78        50\n",
            "           1       0.76      0.88      0.81        50\n",
            "\n",
            "    accuracy                           0.80       100\n",
            "   macro avg       0.81      0.80      0.80       100\n",
            "weighted avg       0.81      0.80      0.80       100\n",
            "\n"
          ]
        }
      ],
      "source": [
        "# Create XG boost classifer object\n",
        "clf = XGBClassifier()\n",
        "\n",
        "clf.fit(x_train, y_train)\n",
        "\n",
        "# Predict the response for test dataset\n",
        "y_pred = clf.predict(x_test)\n",
        "\n",
        "accuracy = accuracy_score(y_test, y_pred)\n",
        "results['xg_boost'] = round(accuracy * 100, 2)\n",
        "\n",
        "# Model Accuracy, how often is the classifier correct?\n",
        "print(\"Accuracy:\", accuracy, end='\\n\\n')\n",
        "\n",
        "print(classification_report(y_test, y_pred))"
      ]
    },
    {
      "cell_type": "code",
      "execution_count": null,
      "metadata": {
        "id": "vpyRqJ9VgrSs",
        "outputId": "7e74b7fd-af83-487d-8aca-5e657b5c73b2"
      },
      "outputs": [
        {
          "name": "stdout",
          "output_type": "stream",
          "text": [
            "[[36 14]\n",
            " [ 6 44]]\n"
          ]
        },
        {
          "data": {
            "image/png": "[encoded data removed]",
            "text/plain": [
              "<Figure size 288x288 with 2 Axes>"
            ]
          },
          "metadata": {
            "needs_background": "light"
          },
          "output_type": "display_data"
        }
      ],
      "source": [
        "cm = confusion_matrix(y_test, y_pred)\n",
        "print (cm)\n",
        "\n",
        "showconfusionmatrix(cm)"
      ]
    },
    {
      "cell_type": "markdown",
      "metadata": {
        "id": "V3O01LyrgrSs"
      },
      "source": [
        "## Gaussian Naive Bayes:"
      ]
    },
    {
      "cell_type": "code",
      "execution_count": null,
      "metadata": {
        "id": "d1AcaAMygrSs",
        "outputId": "09e6628f-7e3c-4779-ccdb-61ac749c8513"
      },
      "outputs": [
        {
          "name": "stdout",
          "output_type": "stream",
          "text": [
            "Accuracy: 0.58\n",
            "\n",
            "              precision    recall  f1-score   support\n",
            "\n",
            "           0       0.56      0.72      0.63        50\n",
            "           1       0.61      0.44      0.51        50\n",
            "\n",
            "    accuracy                           0.58       100\n",
            "   macro avg       0.59      0.58      0.57       100\n",
            "weighted avg       0.59      0.58      0.57       100\n",
            "\n"
          ]
        }
      ],
      "source": [
        "from sklearn.naive_bayes import GaussianNB\n",
        "\n",
        "# Create Gaussian Naive Bayes Classifier\n",
        "clf = GaussianNB()\n",
        "\n",
        "clf.fit(x_train, y_train)\n",
        "\n",
        "# Predict the response for test dataset\n",
        "y_pred = clf.predict(x_test)\n",
        "\n",
        "accuracy = accuracy_score(y_test, y_pred)\n",
        "results['gauss_NB'] = round(accuracy * 100, 2)\n",
        "\n",
        "# Model Accuracy, how often is the classifier correct?\n",
        "print(\"Accuracy:\", accuracy, end='\\n\\n')\n",
        "\n",
        "print(classification_report(y_test, y_pred))"
      ]
    },
    {
      "cell_type": "code",
      "execution_count": null,
      "metadata": {
        "id": "PvDlV_5EgrSs",
        "outputId": "35fe9da2-ca61-4a33-f1ec-2720bbab5c7e"
      },
      "outputs": [
        {
          "name": "stdout",
          "output_type": "stream",
          "text": [
            "[[36 14]\n",
            " [28 22]]\n"
          ]
        },
        {
          "data": {
            "image/png": "[encoded data removed]",
            "text/plain": [
              "<Figure size 288x288 with 2 Axes>"
            ]
          },
          "metadata": {
            "needs_background": "light"
          },
          "output_type": "display_data"
        }
      ],
      "source": [
        "cm = confusion_matrix(y_test, y_pred)\n",
        "print (cm)\n",
        "\n",
        "showconfusionmatrix(cm)"
      ]
    },
    {
      "cell_type": "markdown",
      "metadata": {
        "id": "dgUpz-xHgrSt"
      },
      "source": [
        "## Logistic Regression:"
      ]
    },
    {
      "cell_type": "code",
      "execution_count": null,
      "metadata": {
        "id": "MwhDSYNggrSt",
        "outputId": "56496372-fae4-4437-82c5-b37ea6e609da"
      },
      "outputs": [
        {
          "name": "stdout",
          "output_type": "stream",
          "text": [
            "Accuracy: 0.62\n",
            "\n",
            "              precision    recall  f1-score   support\n",
            "\n",
            "           0       0.61      0.66      0.63        50\n",
            "           1       0.63      0.58      0.60        50\n",
            "\n",
            "    accuracy                           0.62       100\n",
            "   macro avg       0.62      0.62      0.62       100\n",
            "weighted avg       0.62      0.62      0.62       100\n",
            "\n"
          ]
        }
      ],
      "source": [
        "from sklearn.linear_model import LogisticRegression\n",
        "\n",
        "# Create Logistic Regression Classifier\n",
        "clf = LogisticRegression(solver='liblinear')\n",
        "\n",
        "clf.fit(x_train, y_train)\n",
        "\n",
        "# Predict the response for test dataset\n",
        "y_pred = clf.predict(x_test)\n",
        "\n",
        "accuracy = accuracy_score(y_test, y_pred)\n",
        "results['log_regression'] = round(accuracy * 100, 2)\n",
        "\n",
        "# Model Accuracy, how often is the classifier correct?\n",
        "print(\"Accuracy:\", accuracy, end='\\n\\n')\n",
        "\n",
        "print(classification_report(y_test, y_pred))"
      ]
    },
    {
      "cell_type": "code",
      "execution_count": null,
      "metadata": {
        "id": "7P_rt8UWgrSt",
        "outputId": "ba01d0b9-0a65-4785-d705-e2391e8e4c75"
      },
      "outputs": [
        {
          "name": "stdout",
          "output_type": "stream",
          "text": [
            "[[33 17]\n",
            " [21 29]]\n"
          ]
        },
        {
          "data": {
            "image/png": "[encoded data removed]",
            "text/plain": [
              "<Figure size 288x288 with 2 Axes>"
            ]
          },
          "metadata": {
            "needs_background": "light"
          },
          "output_type": "display_data"
        }
      ],
      "source": [
        "cm = confusion_matrix(y_test, y_pred)\n",
        "print (cm)\n",
        "\n",
        "showconfusionmatrix(cm)"
      ]
    },
    {
      "cell_type": "markdown",
      "metadata": {
        "id": "bNVD-TDUgrSt"
      },
      "source": [
        "# Plotting the results:"
      ]
    },
    {
      "cell_type": "code",
      "execution_count": null,
      "metadata": {
        "id": "tml4PzlugrSt",
        "outputId": "af1236b1-54f7-4af7-fe1b-60e458f21742"
      },
      "outputs": [
        {
          "data": {
            "text/plain": [
              "<BarContainer object of 8 artists>"
            ]
          },
          "execution_count": 67,
          "metadata": {},
          "output_type": "execute_result"
        },
        {
          "data": {
            "image/png": "[encoded data removed]",
            "text/plain": [
              "<Figure size 432x288 with 1 Axes>"
            ]
          },
          "metadata": {
            "needs_background": "light"
          },
          "output_type": "display_data"
        }
      ],
      "source": [
        "plt.barh(list(results.keys()), results.values())"
      ]
    },
    {
      "cell_type": "code",
      "execution_count": null,
      "metadata": {
        "id": "_4heuLe7grSt",
        "outputId": "af2d3629-fa74-44c8-de5a-5b2ba3c72302"
      },
      "outputs": [
        {
          "data": {
            "text/plain": [
              "{'lgb': 73.0,\n",
              " 'SVM': 60.0,\n",
              " 'random_forest': 80.0,\n",
              " 'decision_tree': 81.0,\n",
              " 'ada_boost': 61.0,\n",
              " 'xg_boost': 80.0,\n",
              " 'gauss_NB': 58.0,\n",
              " 'log_regression': 62.0}"
            ]
          },
          "execution_count": 68,
          "metadata": {},
          "output_type": "execute_result"
        }
      ],
      "source": [
        "results"
      ]
    }
  ],
  "metadata": {
    "kernelspec": {
      "display_name": "Python 3",
      "language": "python",
      "name": "python3"
    },
    "language_info": {
      "codemirror_mode": {
        "name": "ipython",
        "version": 3
      },
      "file_extension": ".py",
      "mimetype": "text/x-python",
      "name": "python",
      "nbconvert_exporter": "python",
      "pygments_lexer": "ipython3",
      "version": "3.8.3"
    },
    "colab": {
      "name": "GLCM_synthetic.ipynb",
      "provenance": [],
      "include_colab_link": true
    }
  },
  "nbformat": 4,
  "nbformat_minor": 0
}