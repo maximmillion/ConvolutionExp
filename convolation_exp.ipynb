{
 "cells": [
  {
   "cell_type": "code",
   "execution_count": 57,
   "metadata": {},
   "outputs": [],
   "source": [
    "import tensorflow as tf\n",
    "from tensorflow import keras\n",
    "from keras.callbacks import History \n",
    "\n",
    "from random import randint\n",
    "import numpy as np\n",
    "\n",
    "import matplotlib.pyplot as plt\n",
    "\n",
    "from skimage.filters import gaussian\n",
    "from skimage.util import random_noise\n",
    "import matplotlib.pyplot as pp\n",
    "\n",
    "from sklearn.metrics import classification_report, confusion_matrix\n",
    "from sklearn.ensemble import RandomForestClassifier,AdaBoostClassifier\n",
    "\n",
    "from tensorflow.keras import datasets, layers, models\n",
    "from xgboost import XGBClassifier\n",
    "%matplotlib inline"
   ]
  },
  {
   "cell_type": "markdown",
   "metadata": {},
   "source": [
    "# Making the dataset:"
   ]
  },
  {
   "cell_type": "code",
   "execution_count": 2,
   "metadata": {},
   "outputs": [],
   "source": [
    "# Create 1000 squares\n",
    "NUM_SQUARES = 250\n",
    "WIDTH = 128\n",
    "\n",
    "X_train = []\n",
    "for i in range(NUM_SQUARES):\n",
    "    exp = np.zeros((WIDTH, WIDTH)) #  128*128 canvas \n",
    "    x_start = randint(0, WIDTH - 1)\n",
    "    x_end = randint(x_start, WIDTH)\n",
    "    y_start = randint(0, WIDTH - 1)\n",
    "    y_end = randint(y_start, WIDTH)\n",
    "    for x in range(y_start, y_end):\n",
    "        for y in range(y_start, y_end):\n",
    "            exp[x, y] = 1\n",
    "    X_train.append(exp)"
   ]
  },
  {
   "cell_type": "code",
   "execution_count": 3,
   "metadata": {},
   "outputs": [
    {
     "name": "stdout",
     "output_type": "stream",
     "text": [
      "500\n"
     ]
    }
   ],
   "source": [
    "# Create 250 circles\n",
    "for i in range(NUM_SQUARES):\n",
    "    x = np.arange(0, WIDTH)\n",
    "    y = np.arange(0, WIDTH)\n",
    "    arr = np.zeros((y.size, x.size))\n",
    "\n",
    "    cx = randint(0, WIDTH)\n",
    "    cy = randint(0, WIDTH)\n",
    "    r = randint(0, WIDTH / 2)\n",
    "\n",
    "    # The two lines below could be merged, but I stored the mask\n",
    "    # for code clarity.\n",
    "    mask = (x[np.newaxis,:]-cx)**2 + (y[:,np.newaxis]-cy)**2 < r**2\n",
    "    arr[mask] = 1\n",
    "    if randint(0, 1) == 0: # sometie true\n",
    "        arr = np.fliplr(arr)\n",
    "    X_train.append(arr)\n",
    "print(len(X_train))"
   ]
  },
  {
   "cell_type": "code",
   "execution_count": 4,
   "metadata": {},
   "outputs": [],
   "source": [
    "Y_train = np.array([1 if i < NUM_SQUARES else 0 for i in range(NUM_SQUARES * 2)])"
   ]
  },
  {
   "cell_type": "code",
   "execution_count": 5,
   "metadata": {},
   "outputs": [],
   "source": [
    "# Shuffle training data\n",
    "shuffler = np.random.permutation(NUM_SQUARES*2)\n",
    "\n",
    "X_train = np.array(X_train)\n",
    "\n",
    "shufled_X_train = X_train[shuffler]\n",
    "shufled_Y_train = Y_train[shuffler]"
   ]
  },
  {
   "cell_type": "code",
   "execution_count": 7,
   "metadata": {},
   "outputs": [
    {
     "name": "stdout",
     "output_type": "stream",
     "text": [
      "0\n"
     ]
    },
    {
     "data": {
      "text/plain": [
       "<matplotlib.image.AxesImage at 0x7f81b5fff0a0>"
      ]
     },
     "execution_count": 7,
     "metadata": {},
     "output_type": "execute_result"
    },
    {
     "data": {
      "image/png": "[encoded data removed]",
      "text/plain": [
       "<Figure size 432x288 with 1 Axes>"
      ]
     },
     "metadata": {
      "needs_background": "light"
     },
     "output_type": "display_data"
    }
   ],
   "source": [
    "print(shufled_Y_train[100])\n",
    "plt.imshow(shufled_X_train[100])"
   ]
  },
  {
   "cell_type": "code",
   "execution_count": 13,
   "metadata": {},
   "outputs": [],
   "source": [
    "NUM_TRAIN = int(NUM_SQUARES*2*0.85)\n",
    "\n",
    "X_train = shufled_X_train[ : NUM_TRAIN]\n",
    "Y_train = shufled_Y_train[ : NUM_TRAIN] \n",
    "\n",
    "X_test = shufled_X_train[NUM_TRAIN : ]\n",
    "Y_test = shufled_Y_train[NUM_TRAIN:] "
   ]
  },
  {
   "cell_type": "markdown",
   "metadata": {},
   "source": [
    "# Building Model:"
   ]
  },
  {
   "cell_type": "markdown",
   "metadata": {},
   "source": [
    "## Feature Exctraction(Convolutions):"
   ]
  },
  {
   "cell_type": "code",
   "execution_count": 23,
   "metadata": {},
   "outputs": [],
   "source": [
    "# Convolutional Network\n",
    "feature_extractor = models.Sequential()\n",
    "# Convolution and pooling layer\n",
    "feature_extractor.add(layers.Conv2D(filters=32, kernel_size=(3, 3), activation='relu', input_shape=(WIDTH, WIDTH, 1)))\n",
    "feature_extractor.add(layers.MaxPooling2D((2, 2)))\n",
    "# Convolution and pooling layer\n",
    "feature_extractor.add(layers.Conv2D(filters=64, kernel_size=(3, 3), activation='relu'))\n",
    "feature_extractor.add(layers.MaxPooling2D((2, 2)))\n",
    "# flattening layer\n",
    "feature_extractor.add(layers.Flatten())"
   ]
  },
  {
   "cell_type": "markdown",
   "metadata": {},
   "source": [
    "## Making a CNN using these features:"
   ]
  },
  {
   "cell_type": "code",
   "execution_count": 24,
   "metadata": {},
   "outputs": [],
   "source": [
    "#Add layers for deep learning prediction\n",
    "# Neural Network\n",
    "# Connecting Convolutions output and adding two dense layers to it.\n",
    "x = feature_extractor.output  \n",
    "x = layers.Dense(64, activation='relu')(x)\n",
    "prediction_layer = layers.Dense(2, activation='softmax')(x)"
   ]
  },
  {
   "cell_type": "code",
   "execution_count": 25,
   "metadata": {},
   "outputs": [
    {
     "name": "stdout",
     "output_type": "stream",
     "text": [
      "Model: \"functional_4\"\n",
      "_________________________________________________________________\n",
      "Layer (type)                 Output Shape              Param #   \n",
      "=================================================================\n",
      "conv2d_10_input (InputLayer) [(None, 128, 128, 1)]     0         \n",
      "_________________________________________________________________\n",
      "conv2d_10 (Conv2D)           (None, 126, 126, 32)      320       \n",
      "_________________________________________________________________\n",
      "max_pooling2d_5 (MaxPooling2 (None, 63, 63, 32)        0         \n",
      "_________________________________________________________________\n",
      "conv2d_11 (Conv2D)           (None, 61, 61, 64)        18496     \n",
      "_________________________________________________________________\n",
      "max_pooling2d_6 (MaxPooling2 (None, 30, 30, 64)        0         \n",
      "_________________________________________________________________\n",
      "flatten_2 (Flatten)          (None, 57600)             0         \n",
      "_________________________________________________________________\n",
      "dense_2 (Dense)              (None, 64)                3686464   \n",
      "_________________________________________________________________\n",
      "dense_3 (Dense)              (None, 2)                 130       \n",
      "=================================================================\n",
      "Total params: 3,705,410\n",
      "Trainable params: 3,705,410\n",
      "Non-trainable params: 0\n",
      "_________________________________________________________________\n",
      "None\n"
     ]
    }
   ],
   "source": [
    "# Make a new model combining both feature extractor and x\n",
    "cnn_model = models.Model(inputs=feature_extractor.input, outputs=prediction_layer)\n",
    "cnn_model.compile(optimizer='adam',\n",
    "              loss='sparse_categorical_crossentropy',\n",
    "              metrics=['accuracy'])\n",
    "print(cnn_model.summary()) "
   ]
  },
  {
   "cell_type": "code",
   "execution_count": 19,
   "metadata": {},
   "outputs": [],
   "source": [
    "# adding the extra dimension as required by the model\n",
    "X_wanted_train = X_train.reshape(len(X_train), WIDTH, WIDTH, 1)\n",
    "X_wanted_test = X_test.reshape(len(X_test), WIDTH, WIDTH, 1)"
   ]
  },
  {
   "cell_type": "code",
   "execution_count": 28,
   "metadata": {},
   "outputs": [
    {
     "name": "stdout",
     "output_type": "stream",
     "text": [
      "Epoch 1/20\n",
      "14/14 [==============================] - 3s 236ms/step - loss: 0.0164 - accuracy: 0.9929 - val_loss: 0.4341 - val_accuracy: 0.8667\n",
      "Epoch 2/20\n",
      "14/14 [==============================] - 3s 220ms/step - loss: 0.0162 - accuracy: 0.9929 - val_loss: 0.4383 - val_accuracy: 0.8667\n",
      "Epoch 3/20\n",
      "14/14 [==============================] - 3s 224ms/step - loss: 0.0159 - accuracy: 0.9929 - val_loss: 0.4642 - val_accuracy: 0.8533\n",
      "Epoch 4/20\n",
      "14/14 [==============================] - 3s 238ms/step - loss: 0.0175 - accuracy: 0.9929 - val_loss: 0.5327 - val_accuracy: 0.8533\n",
      "Epoch 5/20\n",
      "14/14 [==============================] - 3s 227ms/step - loss: 0.0184 - accuracy: 0.9906 - val_loss: 0.4277 - val_accuracy: 0.8800\n",
      "Epoch 6/20\n",
      "14/14 [==============================] - 3s 220ms/step - loss: 0.0180 - accuracy: 0.9929 - val_loss: 0.5385 - val_accuracy: 0.8533\n",
      "Epoch 7/20\n",
      "14/14 [==============================] - 3s 225ms/step - loss: 0.0158 - accuracy: 0.9929 - val_loss: 0.7911 - val_accuracy: 0.8533\n",
      "Epoch 8/20\n",
      "14/14 [==============================] - 3s 220ms/step - loss: 0.0178 - accuracy: 0.9929 - val_loss: 0.4689 - val_accuracy: 0.8933\n",
      "Epoch 9/20\n",
      "14/14 [==============================] - 3s 241ms/step - loss: 0.0161 - accuracy: 0.9929 - val_loss: 0.3707 - val_accuracy: 0.8933\n",
      "Epoch 10/20\n",
      "14/14 [==============================] - 3s 215ms/step - loss: 0.0159 - accuracy: 0.9929 - val_loss: 0.3993 - val_accuracy: 0.8933\n",
      "Epoch 11/20\n",
      "14/14 [==============================] - 3s 211ms/step - loss: 0.0161 - accuracy: 0.9929 - val_loss: 0.4025 - val_accuracy: 0.8933\n",
      "Epoch 12/20\n",
      "14/14 [==============================] - 3s 218ms/step - loss: 0.0164 - accuracy: 0.9929 - val_loss: 0.4170 - val_accuracy: 0.8933\n",
      "Epoch 13/20\n",
      "14/14 [==============================] - 3s 236ms/step - loss: 0.0158 - accuracy: 0.9929 - val_loss: 0.4171 - val_accuracy: 0.8800\n",
      "Epoch 14/20\n",
      "14/14 [==============================] - 3s 224ms/step - loss: 0.0155 - accuracy: 0.9929 - val_loss: 0.4384 - val_accuracy: 0.8800\n",
      "Epoch 15/20\n",
      "14/14 [==============================] - 3s 214ms/step - loss: 0.0150 - accuracy: 0.9929 - val_loss: 0.4657 - val_accuracy: 0.8667\n",
      "Epoch 16/20\n",
      "14/14 [==============================] - 3s 226ms/step - loss: 0.0152 - accuracy: 0.9929 - val_loss: 0.4792 - val_accuracy: 0.8667\n",
      "Epoch 17/20\n",
      "14/14 [==============================] - 3s 234ms/step - loss: 0.0177 - accuracy: 0.9929 - val_loss: 0.4979 - val_accuracy: 0.8667\n",
      "Epoch 18/20\n",
      "14/14 [==============================] - 3s 230ms/step - loss: 0.0140 - accuracy: 0.9929 - val_loss: 0.4862 - val_accuracy: 0.8800\n",
      "Epoch 19/20\n",
      "14/14 [==============================] - 3s 211ms/step - loss: 0.0151 - accuracy: 0.9929 - val_loss: 0.4889 - val_accuracy: 0.8800\n",
      "Epoch 20/20\n",
      "14/14 [==============================] - 3s 211ms/step - loss: 0.0148 - accuracy: 0.9929 - val_loss: 0.4926 - val_accuracy: 0.8800\n"
     ]
    }
   ],
   "source": [
    "#Train the CNN model\n",
    "history = cnn_model.fit(X_wanted_train, Y_train, epochs=20, validation_data = (X_wanted_test, Y_test))"
   ]
  },
  {
   "cell_type": "code",
   "execution_count": 29,
   "metadata": {},
   "outputs": [
    {
     "data": {
      "image/png": "[encoded data removed]",
      "text/plain": [
       "<Figure size 432x288 with 1 Axes>"
      ]
     },
     "metadata": {
      "needs_background": "light"
     },
     "output_type": "display_data"
    }
   ],
   "source": [
    "# plot the training and validation accuracy and loss at each epoch\n",
    "loss = history.history['loss']\n",
    "val_loss = history.history['val_loss']\n",
    "epochs = range(1, len(loss) + 1)\n",
    "plt.plot(epochs, loss, 'y', label='Training loss')\n",
    "plt.plot(epochs, val_loss, 'r', label='Validation loss')\n",
    "plt.title('Training and validation loss')\n",
    "plt.xlabel('Epochs')\n",
    "plt.ylabel('Loss')\n",
    "plt.legend()\n",
    "plt.show()"
   ]
  },
  {
   "cell_type": "code",
   "execution_count": 33,
   "metadata": {},
   "outputs": [
    {
     "data": {
      "image/png": "[encoded data removed]",
      "text/plain": [
       "<Figure size 432x288 with 1 Axes>"
      ]
     },
     "metadata": {
      "needs_background": "light"
     },
     "output_type": "display_data"
    }
   ],
   "source": [
    "# plot the training and validation accuracy\n",
    "acc = history.history['accuracy']\n",
    "val_acc = history.history['val_accuracy']\n",
    "plt.plot(epochs, acc, 'y', label='Training acc')\n",
    "plt.plot(epochs, val_acc, 'r', label='Validation acc')\n",
    "plt.title('Training and validation accuracy')\n",
    "plt.xlabel('Epochs')\n",
    "plt.ylabel('Accuracy')\n",
    "plt.legend()\n",
    "plt.show()"
   ]
  },
  {
   "cell_type": "markdown",
   "metadata": {},
   "source": [
    "## Classic models on convolved features:"
   ]
  },
  {
   "cell_type": "code",
   "execution_count": 44,
   "metadata": {},
   "outputs": [
    {
     "data": {
      "text/plain": [
       "(425, 57600)"
      ]
     },
     "execution_count": 44,
     "metadata": {},
     "output_type": "execute_result"
    }
   ],
   "source": [
    "# Now, let us use features from convolutional network for classic model\n",
    "X_convolved_train = feature_extractor.predict(X_wanted_train) #This is out X input to RF\n",
    "\n",
    "# Send test data through same feature extractor process\n",
    "X_convolved_test = feature_extractor.predict(X_wanted_test)\n",
    "\n",
    "X_convolved_train.shape"
   ]
  },
  {
   "cell_type": "markdown",
   "metadata": {},
   "source": [
    "## Decision Tree:"
   ]
  },
  {
   "cell_type": "code",
   "execution_count": 61,
   "metadata": {},
   "outputs": [
    {
     "name": "stdout",
     "output_type": "stream",
     "text": [
      "Accuracy: 0.8266666666666667\n",
      "\n",
      "              precision    recall  f1-score   support\n",
      "\n",
      "           0       0.89      0.71      0.79        35\n",
      "           1       0.79      0.93      0.85        40\n",
      "\n",
      "    accuracy                           0.83        75\n",
      "   macro avg       0.84      0.82      0.82        75\n",
      "weighted avg       0.84      0.83      0.82        75\n",
      "\n"
     ]
    }
   ],
   "source": [
    "from sklearn.tree import DecisionTreeClassifier # Import Decision Tree Classifier\n",
    "\n",
    "# Create Decision Tree classifer object\n",
    "clf = DecisionTreeClassifier()\n",
    "\n",
    "# Train Decision Tree Classifer\n",
    "clf = clf.fit(X_convolved_train, Y_train)\n",
    "\n",
    "# Predict the response for test dataset\n",
    "y_pred = clf.predict(X_convolved_test)\n",
    "\n",
    "# Model Accuracy, how often is the classifier correct?\n",
    "print(\"Accuracy:\",metrics.accuracy_score(Y_test, y_pred), end='\\n\\n')\n",
    "\n",
    "print(classification_report(Y_test, y_pred))"
   ]
  },
  {
   "cell_type": "code",
   "execution_count": 63,
   "metadata": {},
   "outputs": [
    {
     "data": {
      "text/plain": [
       "[Text(305.6544642857143, 214.9690909090909, 'X[57565] <= 0.01\\ngini = 0.5\\nsamples = 425\\nvalue = [215, 210]'),\n",
       " Text(288.4660714285714, 210.02727272727273, 'X[47781] <= 0.041\\ngini = 0.493\\nsamples = 380\\nvalue = [213, 167]'),\n",
       " Text(272.025, 205.08545454545455, 'X[39734] <= 0.051\\ngini = 0.475\\nsamples = 341\\nvalue = [209, 132]'),\n",
       " Text(257.0785714285714, 200.14363636363635, 'X[43734] <= 0.15\\ngini = 0.439\\nsamples = 301\\nvalue = [203, 98]'),\n",
       " Text(245.12142857142857, 195.20181818181817, 'X[55551] <= 0.056\\ngini = 0.395\\nsamples = 277\\nvalue = [202, 75]'),\n",
       " Text(239.14285714285714, 190.26, 'X[7808] <= 0.002\\ngini = 0.359\\nsamples = 264\\nvalue = [202, 62]'),\n",
       " Text(233.1642857142857, 185.3181818181818, 'X[31703] <= 0.149\\ngini = 0.329\\nsamples = 255\\nvalue = [202, 53]'),\n",
       " Text(227.18571428571428, 180.37636363636364, 'X[23891] <= 0.181\\ngini = 0.302\\nsamples = 248\\nvalue = [202, 46]'),\n",
       " Text(221.20714285714286, 175.43454545454546, 'X[33797] <= 0.315\\ngini = 0.271\\nsamples = 241\\nvalue = [202, 39]'),\n",
       " Text(215.22857142857143, 170.49272727272728, 'X[13941] <= 0.112\\ngini = 0.247\\nsamples = 236\\nvalue = [202, 34]'),\n",
       " Text(209.25, 165.5509090909091, 'X[49636] <= 0.14\\ngini = 0.22\\nsamples = 231\\nvalue = [202, 29]'),\n",
       " Text(203.27142857142857, 160.60909090909092, 'X[17973] <= 0.151\\ngini = 0.196\\nsamples = 227\\nvalue = [202, 25]'),\n",
       " Text(197.29285714285714, 155.66727272727275, 'X[10023] <= 0.421\\ngini = 0.171\\nsamples = 223\\nvalue = [202, 21]'),\n",
       " Text(191.31428571428572, 150.72545454545457, 'X[23767] <= 0.141\\ngini = 0.15\\nsamples = 220\\nvalue = [202, 18]'),\n",
       " Text(179.35714285714286, 145.78363636363636, 'X[5988] <= 0.07\\ngini = 0.129\\nsamples = 216\\nvalue = [201, 15]'),\n",
       " Text(173.37857142857143, 140.84181818181818, 'X[15989] <= 0.134\\ngini = 0.114\\nsamples = 214\\nvalue = [201, 13]'),\n",
       " Text(167.4, 135.9, 'X[5818] <= 0.071\\ngini = 0.098\\nsamples = 212\\nvalue = [201, 11]'),\n",
       " Text(161.42142857142858, 130.95818181818183, 'X[39304] <= 0.254\\ngini = 0.09\\nsamples = 211\\nvalue = [201, 10]'),\n",
       " Text(155.44285714285715, 126.01636363636364, 'X[57481] <= 0.056\\ngini = 0.082\\nsamples = 210\\nvalue = [201, 9]'),\n",
       " Text(149.46428571428572, 121.07454545454546, 'X[45714] <= 0.141\\ngini = 0.074\\nsamples = 209\\nvalue = [201, 8]'),\n",
       " Text(143.4857142857143, 116.13272727272728, 'X[22041] <= 0.015\\ngini = 0.065\\nsamples = 208\\nvalue = [201, 7]'),\n",
       " Text(137.50714285714287, 111.1909090909091, 'X[46405] <= 0.004\\ngini = 0.098\\nsamples = 135\\nvalue = [128, 7]'),\n",
       " Text(131.52857142857144, 106.24909090909091, 'X[40223] <= 0.003\\ngini = 0.126\\nsamples = 104\\nvalue = [97, 7]'),\n",
       " Text(125.55, 101.30727272727273, 'X[7321] <= 0.009\\ngini = 0.158\\nsamples = 81\\nvalue = [74, 7]'),\n",
       " Text(119.57142857142857, 96.36545454545455, 'X[12074] <= 0.012\\ngini = 0.187\\nsamples = 67\\nvalue = [60, 7]'),\n",
       " Text(113.59285714285714, 91.42363636363638, 'X[50885] <= 0.052\\ngini = 0.222\\nsamples = 55\\nvalue = [48, 7]'),\n",
       " Text(107.61428571428571, 86.4818181818182, 'X[38420] <= 0.002\\ngini = 0.245\\nsamples = 49\\nvalue = [42, 7]'),\n",
       " Text(101.63571428571429, 81.54000000000002, 'X[22912] <= 0.02\\ngini = 0.273\\nsamples = 43\\nvalue = [36, 7]'),\n",
       " Text(95.65714285714286, 76.59818181818181, 'X[57381] <= 0.016\\ngini = 0.301\\nsamples = 38\\nvalue = [31, 7]'),\n",
       " Text(89.67857142857143, 71.65636363636364, 'X[8626] <= 0.032\\ngini = 0.327\\nsamples = 34\\nvalue = [27, 7]'),\n",
       " Text(83.7, 66.71454545454546, 'X[23198] <= 0.019\\ngini = 0.358\\nsamples = 30\\nvalue = [23, 7]'),\n",
       " Text(77.72142857142858, 61.77272727272728, 'X[45205] <= 0.01\\ngini = 0.384\\nsamples = 27\\nvalue = [20, 7]'),\n",
       " Text(71.74285714285715, 56.8309090909091, 'X[256] <= 0.008\\ngini = 0.413\\nsamples = 24\\nvalue = [17, 7]'),\n",
       " Text(65.76428571428572, 51.889090909090925, 'X[29206] <= 0.016\\ngini = 0.434\\nsamples = 22\\nvalue = [15, 7]'),\n",
       " Text(59.785714285714285, 46.94727272727275, 'X[21765] <= 0.031\\ngini = 0.455\\nsamples = 20\\nvalue = [13, 7]'),\n",
       " Text(53.80714285714286, 42.00545454545457, 'X[16218] <= 0.132\\ngini = 0.475\\nsamples = 18\\nvalue = [11, 7]'),\n",
       " Text(47.82857142857143, 37.06363636363636, 'X[48576] <= 0.196\\ngini = 0.484\\nsamples = 17\\nvalue = [10, 7]'),\n",
       " Text(41.85, 32.121818181818185, 'X[56340] <= 0.102\\ngini = 0.492\\nsamples = 16\\nvalue = [9, 7]'),\n",
       " Text(35.871428571428574, 27.180000000000007, 'X[20297] <= 0.045\\ngini = 0.498\\nsamples = 15\\nvalue = [8, 7]'),\n",
       " Text(29.892857142857142, 22.23818181818183, 'X[1797] <= 0.049\\ngini = 0.5\\nsamples = 14\\nvalue = [7, 7]'),\n",
       " Text(23.914285714285715, 17.29636363636365, 'X[22543] <= 0.013\\ngini = 0.497\\nsamples = 13\\nvalue = [6, 7]'),\n",
       " Text(17.935714285714287, 12.354545454545473, 'X[39906] <= 0.012\\ngini = 0.486\\nsamples = 12\\nvalue = [5, 7]'),\n",
       " Text(11.957142857142857, 7.412727272727295, 'X[51786] <= 0.117\\ngini = 0.463\\nsamples = 11\\nvalue = [4, 7]'),\n",
       " Text(5.978571428571429, 2.4709090909091174, 'gini = 0.42\\nsamples = 10\\nvalue = [3, 7]'),\n",
       " Text(17.935714285714287, 2.4709090909091174, 'gini = 0.0\\nsamples = 1\\nvalue = [1, 0]'),\n",
       " Text(23.914285714285715, 7.412727272727295, 'gini = 0.0\\nsamples = 1\\nvalue = [1, 0]'),\n",
       " Text(29.892857142857142, 12.354545454545473, 'gini = 0.0\\nsamples = 1\\nvalue = [1, 0]'),\n",
       " Text(35.871428571428574, 17.29636363636365, 'gini = 0.0\\nsamples = 1\\nvalue = [1, 0]'),\n",
       " Text(41.85, 22.23818181818183, 'gini = 0.0\\nsamples = 1\\nvalue = [1, 0]'),\n",
       " Text(47.82857142857143, 27.180000000000007, 'gini = 0.0\\nsamples = 1\\nvalue = [1, 0]'),\n",
       " Text(53.80714285714286, 32.121818181818185, 'gini = 0.0\\nsamples = 1\\nvalue = [1, 0]'),\n",
       " Text(59.785714285714285, 37.06363636363636, 'gini = 0.0\\nsamples = 1\\nvalue = [1, 0]'),\n",
       " Text(65.76428571428572, 42.00545454545457, 'gini = 0.0\\nsamples = 2\\nvalue = [2, 0]'),\n",
       " Text(71.74285714285715, 46.94727272727275, 'gini = 0.0\\nsamples = 2\\nvalue = [2, 0]'),\n",
       " Text(77.72142857142858, 51.889090909090925, 'gini = 0.0\\nsamples = 2\\nvalue = [2, 0]'),\n",
       " Text(83.7, 56.8309090909091, 'gini = 0.0\\nsamples = 3\\nvalue = [3, 0]'),\n",
       " Text(89.67857142857143, 61.77272727272728, 'gini = 0.0\\nsamples = 3\\nvalue = [3, 0]'),\n",
       " Text(95.65714285714286, 66.71454545454546, 'gini = 0.0\\nsamples = 4\\nvalue = [4, 0]'),\n",
       " Text(101.63571428571429, 71.65636363636364, 'gini = 0.0\\nsamples = 4\\nvalue = [4, 0]'),\n",
       " Text(107.61428571428571, 76.59818181818181, 'gini = 0.0\\nsamples = 5\\nvalue = [5, 0]'),\n",
       " Text(113.59285714285714, 81.54000000000002, 'gini = 0.0\\nsamples = 6\\nvalue = [6, 0]'),\n",
       " Text(119.57142857142857, 86.4818181818182, 'gini = 0.0\\nsamples = 6\\nvalue = [6, 0]'),\n",
       " Text(125.55, 91.42363636363638, 'gini = 0.0\\nsamples = 12\\nvalue = [12, 0]'),\n",
       " Text(131.52857142857144, 96.36545454545455, 'gini = 0.0\\nsamples = 14\\nvalue = [14, 0]'),\n",
       " Text(137.50714285714287, 101.30727272727273, 'gini = 0.0\\nsamples = 23\\nvalue = [23, 0]'),\n",
       " Text(143.4857142857143, 106.24909090909091, 'gini = 0.0\\nsamples = 31\\nvalue = [31, 0]'),\n",
       " Text(149.46428571428572, 111.1909090909091, 'gini = 0.0\\nsamples = 73\\nvalue = [73, 0]'),\n",
       " Text(155.44285714285715, 116.13272727272728, 'gini = 0.0\\nsamples = 1\\nvalue = [0, 1]'),\n",
       " Text(161.42142857142858, 121.07454545454546, 'gini = 0.0\\nsamples = 1\\nvalue = [0, 1]'),\n",
       " Text(167.4, 126.01636363636364, 'gini = 0.0\\nsamples = 1\\nvalue = [0, 1]'),\n",
       " Text(173.37857142857143, 130.95818181818183, 'gini = 0.0\\nsamples = 1\\nvalue = [0, 1]'),\n",
       " Text(179.35714285714286, 135.9, 'gini = 0.0\\nsamples = 2\\nvalue = [0, 2]'),\n",
       " Text(185.3357142857143, 140.84181818181818, 'gini = 0.0\\nsamples = 2\\nvalue = [0, 2]'),\n",
       " Text(203.27142857142857, 145.78363636363636, 'X[17965] <= 0.26\\ngini = 0.375\\nsamples = 4\\nvalue = [1, 3]'),\n",
       " Text(197.29285714285714, 140.84181818181818, 'gini = 0.0\\nsamples = 3\\nvalue = [0, 3]'),\n",
       " Text(209.25, 140.84181818181818, 'gini = 0.0\\nsamples = 1\\nvalue = [1, 0]'),\n",
       " Text(203.27142857142857, 150.72545454545457, 'gini = 0.0\\nsamples = 3\\nvalue = [0, 3]'),\n",
       " Text(209.25, 155.66727272727275, 'gini = 0.0\\nsamples = 4\\nvalue = [0, 4]'),\n",
       " Text(215.22857142857143, 160.60909090909092, 'gini = 0.0\\nsamples = 4\\nvalue = [0, 4]'),\n",
       " Text(221.20714285714286, 165.5509090909091, 'gini = 0.0\\nsamples = 5\\nvalue = [0, 5]'),\n",
       " Text(227.18571428571428, 170.49272727272728, 'gini = 0.0\\nsamples = 5\\nvalue = [0, 5]'),\n",
       " Text(233.1642857142857, 175.43454545454546, 'gini = 0.0\\nsamples = 7\\nvalue = [0, 7]'),\n",
       " Text(239.14285714285714, 180.37636363636364, 'gini = 0.0\\nsamples = 7\\nvalue = [0, 7]'),\n",
       " Text(245.12142857142857, 185.3181818181818, 'gini = 0.0\\nsamples = 9\\nvalue = [0, 9]'),\n",
       " Text(251.1, 190.26, 'gini = 0.0\\nsamples = 13\\nvalue = [0, 13]'),\n",
       " Text(269.0357142857143, 195.20181818181817, 'X[30785] <= 0.164\\ngini = 0.08\\nsamples = 24\\nvalue = [1, 23]'),\n",
       " Text(263.0571428571429, 190.26, 'gini = 0.0\\nsamples = 23\\nvalue = [0, 23]'),\n",
       " Text(275.01428571428573, 190.26, 'gini = 0.0\\nsamples = 1\\nvalue = [1, 0]'),\n",
       " Text(286.9714285714286, 200.14363636363635, 'X[48608] <= 0.042\\ngini = 0.255\\nsamples = 40\\nvalue = [6, 34]'),\n",
       " Text(280.99285714285713, 195.20181818181817, 'gini = 0.0\\nsamples = 34\\nvalue = [0, 34]'),\n",
       " Text(292.95, 195.20181818181817, 'gini = 0.0\\nsamples = 6\\nvalue = [6, 0]'),\n",
       " Text(304.90714285714284, 205.08545454545455, 'X[51508] <= 0.002\\ngini = 0.184\\nsamples = 39\\nvalue = [4, 35]'),\n",
       " Text(298.92857142857144, 200.14363636363635, 'gini = 0.0\\nsamples = 4\\nvalue = [4, 0]'),\n",
       " Text(310.8857142857143, 200.14363636363635, 'gini = 0.0\\nsamples = 35\\nvalue = [0, 35]'),\n",
       " Text(322.84285714285716, 210.02727272727273, 'X[19977] <= 0.054\\ngini = 0.085\\nsamples = 45\\nvalue = [2, 43]'),\n",
       " Text(316.8642857142857, 205.08545454545455, 'gini = 0.0\\nsamples = 43\\nvalue = [0, 43]'),\n",
       " Text(328.82142857142856, 205.08545454545455, 'gini = 0.0\\nsamples = 2\\nvalue = [2, 0]')]"
      ]
     },
     "execution_count": 63,
     "metadata": {},
     "output_type": "execute_result"
    },
    {
     "data": {
      "image/png": "[encoded data removed]",
      "text/plain": [
       "<Figure size 432x288 with 1 Axes>"
      ]
     },
     "metadata": {
      "needs_background": "light"
     },
     "output_type": "display_data"
    }
   ],
   "source": [
    "# plot tree\n",
    "from sklearn import tree\n",
    "\n",
    "tree.plot_tree(clf)"
   ]
  },
  {
   "cell_type": "markdown",
   "metadata": {},
   "source": [
    "## Random Forest:"
   ]
  },
  {
   "cell_type": "code",
   "execution_count": 50,
   "metadata": {},
   "outputs": [
    {
     "name": "stdout",
     "output_type": "stream",
     "text": [
      "Accuracy: 0.8666666666666667\n",
      "\n",
      "              precision    recall  f1-score   support\n",
      "\n",
      "           0       0.90      0.80      0.85        35\n",
      "           1       0.84      0.93      0.88        40\n",
      "\n",
      "    accuracy                           0.87        75\n",
      "   macro avg       0.87      0.86      0.86        75\n",
      "weighted avg       0.87      0.87      0.87        75\n",
      "\n"
     ]
    }
   ],
   "source": [
    "# Create Random Forest classifer object\n",
    "clf = RandomForestClassifier(n_estimators = 50, random_state = 42)\n",
    "\n",
    "\n",
    "# Train Random Forest Classifer\n",
    "clf = clf.fit(X_convolved_train, Y_train)\n",
    "\n",
    "#Predict the response for test dataset\n",
    "y_pred = clf.predict(X_convolved_test)\n",
    "\n",
    "# Model Accuracy, how often is the classifier correct?\n",
    "print(\"Accuracy:\",metrics.accuracy_score(Y_test, y_pred), end='\\n\\n')\n",
    "\n",
    "print(classification_report(Y_test, y_pred))`"
   ]
  },
  {
   "cell_type": "markdown",
   "metadata": {},
   "source": [
    "### Increasing Estimators:"
   ]
  },
  {
   "cell_type": "code",
   "execution_count": 53,
   "metadata": {},
   "outputs": [
    {
     "name": "stdout",
     "output_type": "stream",
     "text": [
      "Accuracy: 0.8666666666666667\n",
      "\n",
      "              precision    recall  f1-score   support\n",
      "\n",
      "           0       0.90      0.80      0.85        35\n",
      "           1       0.84      0.93      0.88        40\n",
      "\n",
      "    accuracy                           0.87        75\n",
      "   macro avg       0.87      0.86      0.86        75\n",
      "weighted avg       0.87      0.87      0.87        75\n",
      "\n"
     ]
    }
   ],
   "source": [
    "# Create Decision Tree classifer object\n",
    "clf = RandomForestClassifier(n_estimators = 100, random_state = 42)\n",
    "\n",
    "\n",
    "# Train Decision Tree Classifer\n",
    "clf = clf.fit(X_convolved_train, Y_train)\n",
    "\n",
    "#Predict the response for test dataset\n",
    "y_pred = clf.predict(X_convolved_test)\n",
    "\n",
    "# Model Accuracy, how often is the classifier correct?\n",
    "print(\"Accuracy:\",metrics.accuracy_score(Y_test, y_pred), end='\\n\\n')\n",
    "\n",
    "print(classification_report(Y_test, y_pred))"
   ]
  },
  {
   "cell_type": "code",
   "execution_count": 67,
   "metadata": {},
   "outputs": [
    {
     "data": {
      "text/plain": [
       "65"
      ]
     },
     "execution_count": 67,
     "metadata": {},
     "output_type": "execute_result"
    }
   ],
   "source": [
    "round(X_convolved_test.shape[0] * 0.87)"
   ]
  },
  {
   "cell_type": "code",
   "execution_count": 54,
   "metadata": {},
   "outputs": [
    {
     "name": "stdout",
     "output_type": "stream",
     "text": [
      "Accuracy: 0.8533333333333334\n",
      "\n",
      "              precision    recall  f1-score   support\n",
      "\n",
      "           0       0.90      0.77      0.83        35\n",
      "           1       0.82      0.93      0.87        40\n",
      "\n",
      "    accuracy                           0.85        75\n",
      "   macro avg       0.86      0.85      0.85        75\n",
      "weighted avg       0.86      0.85      0.85        75\n",
      "\n"
     ]
    }
   ],
   "source": [
    "# Create Decision Tree classifer object\n",
    "clf = RandomForestClassifier(n_estimators = 200, random_state = 42)\n",
    "\n",
    "\n",
    "# Train Decision Tree Classifer\n",
    "clf = clf.fit(X_convolved_train, Y_train)\n",
    "\n",
    "#Predict the response for test dataset\n",
    "y_pred = clf.predict(X_convolved_test)\n",
    "\n",
    "# Model Accuracy, how often is the classifier correct?\n",
    "print(\"Accuracy:\",metrics.accuracy_score(Y_test, y_pred), end='\\n\\n')\n",
    "\n",
    "print(classification_report(Y_test, y_pred))"
   ]
  },
  {
   "cell_type": "markdown",
   "metadata": {},
   "source": [
    "## Adaboost Classifier:"
   ]
  },
  {
   "cell_type": "code",
   "execution_count": 56,
   "metadata": {},
   "outputs": [
    {
     "name": "stdout",
     "output_type": "stream",
     "text": [
      "Accuracy: 0.8133333333333334\n",
      "\n",
      "              precision    recall  f1-score   support\n",
      "\n",
      "           0       0.77      0.86      0.81        35\n",
      "           1       0.86      0.78      0.82        40\n",
      "\n",
      "    accuracy                           0.81        75\n",
      "   macro avg       0.82      0.82      0.81        75\n",
      "weighted avg       0.82      0.81      0.81        75\n",
      "\n"
     ]
    }
   ],
   "source": [
    "# Create AdaBoost classifier\n",
    "clf = AdaBoostClassifier(n_estimators=42)\n",
    "\n",
    "\n",
    "# Train AdaBoost classifier\n",
    "clf = clf.fit(X_convolved_train, Y_train)\n",
    "\n",
    "#Predict the response for test dataset\n",
    "y_pred = clf.predict(X_convolved_test)\n",
    "\n",
    "# Model Accuracy, how often is the classifier correct?\n",
    "print(\"Accuracy:\",metrics.accuracy_score(Y_test, y_pred), end='\\n\\n')\n",
    "\n",
    "print(classification_report(Y_test, y_pred))"
   ]
  },
  {
   "cell_type": "code",
   "execution_count": 58,
   "metadata": {},
   "outputs": [
    {
     "name": "stderr",
     "output_type": "stream",
     "text": [
      "/home/ahsanyleg/anaconda3/lib/python3.8/site-packages/xgboost/sklearn.py:1224: UserWarning: The use of label encoder in XGBClassifier is deprecated and will be removed in a future release. To remove this warning, do the following: 1) Pass option use_label_encoder=False when constructing XGBClassifier object; and 2) Encode your labels (y) as integers starting with 0, i.e. 0, 1, 2, ..., [num_class - 1].\n",
      "  warnings.warn(label_encoder_deprecation_msg, UserWarning)\n"
     ]
    },
    {
     "name": "stdout",
     "output_type": "stream",
     "text": [
      "[19:01:49] WARNING: ../src/learner.cc:1115: Starting in XGBoost 1.3.0, the default evaluation metric used with the objective 'binary:logistic' was changed from 'error' to 'logloss'. Explicitly set eval_metric if you'd like to restore the old behavior.\n",
      "Accuracy: 0.88\n",
      "\n",
      "              precision    recall  f1-score   support\n",
      "\n",
      "           0       0.91      0.83      0.87        35\n",
      "           1       0.86      0.93      0.89        40\n",
      "\n",
      "    accuracy                           0.88        75\n",
      "   macro avg       0.88      0.88      0.88        75\n",
      "weighted avg       0.88      0.88      0.88        75\n",
      "\n"
     ]
    }
   ],
   "source": [
    "# Create XG boost classifer object\n",
    "clf = XGBClassifier()\n",
    "\n",
    "\n",
    "# Train XGBoost Classifer\n",
    "clf = clf.fit(X_convolved_train, Y_train)\n",
    "\n",
    "#Predict the response for test dataset\n",
    "y_pred = clf.predict(X_convolved_test)\n",
    "\n",
    "# Model Accuracy, how often is the classifier correct?\n",
    "print(\"Accuracy:\",metrics.accuracy_score(Y_test, y_pred), end='\\n\\n')\n",
    "\n",
    "print(classification_report(Y_test, y_pred))"
   ]
  },
  {
   "cell_type": "markdown",
   "metadata": {},
   "source": [
    "## Gaussian Naive Bayes:"
   ]
  },
  {
   "cell_type": "code",
   "execution_count": 59,
   "metadata": {},
   "outputs": [
    {
     "name": "stdout",
     "output_type": "stream",
     "text": [
      "Accuracy: 0.72\n",
      "\n",
      "              precision    recall  f1-score   support\n",
      "\n",
      "           0       0.63      0.97      0.76        35\n",
      "           1       0.95      0.50      0.66        40\n",
      "\n",
      "    accuracy                           0.72        75\n",
      "   macro avg       0.79      0.74      0.71        75\n",
      "weighted avg       0.80      0.72      0.71        75\n",
      "\n"
     ]
    }
   ],
   "source": [
    "from sklearn.naive_bayes import GaussianNB\n",
    "\n",
    "# Create Gaussian Naive Bayes Classifier\n",
    "clf = GaussianNB()\n",
    "\n",
    "\n",
    "# Train NB Classifier\n",
    "clf = clf.fit(X_convolved_train, Y_train)\n",
    "\n",
    "#Predict the response for test dataset\n",
    "y_pred = clf.predict(X_convolved_test)\n",
    "\n",
    "# Model Accuracy, how often is the classifier correct?\n",
    "print(\"Accuracy:\",metrics.accuracy_score(Y_test, y_pred), end='\\n\\n')\n",
    "\n",
    "print(classification_report(Y_test, y_pred))\n",
    "    "
   ]
  },
  {
   "cell_type": "markdown",
   "metadata": {},
   "source": [
    "## Logistic Regression:"
   ]
  },
  {
   "cell_type": "code",
   "execution_count": 60,
   "metadata": {},
   "outputs": [
    {
     "name": "stdout",
     "output_type": "stream",
     "text": [
      "Accuracy: 0.92\n",
      "\n",
      "              precision    recall  f1-score   support\n",
      "\n",
      "           0       0.94      0.89      0.91        35\n",
      "           1       0.90      0.95      0.93        40\n",
      "\n",
      "    accuracy                           0.92        75\n",
      "   macro avg       0.92      0.92      0.92        75\n",
      "weighted avg       0.92      0.92      0.92        75\n",
      "\n"
     ]
    }
   ],
   "source": [
    "from sklearn.linear_model import LogisticRegression\n",
    "\n",
    "# Create Logistic Regression Classifier\n",
    "clf = LogisticRegression()\n",
    "\n",
    "\n",
    "# Train Logistic Regression Classsifier\n",
    "clf = clf.fit(X_convolved_train, Y_train)\n",
    "\n",
    "#Predict the response for test dataset\n",
    "y_pred = clf.predict(X_convolved_test)\n",
    "\n",
    "# Model Accuracy, how often is the classifier correct?\n",
    "print(\"Accuracy:\",metrics.accuracy_score(Y_test, y_pred), end='\\n\\n')\n",
    "\n",
    "print(classification_report(Y_test, y_pred))\n",
    "    "
   ]
  }
 ],
 "metadata": {
  "kernelspec": {
   "display_name": "Python 3",
   "language": "python",
   "name": "python3"
  },
  "language_info": {
   "codemirror_mode": {
    "name": "ipython",
    "version": 3
   },
   "file_extension": ".py",
   "mimetype": "text/x-python",
   "name": "python",
   "nbconvert_exporter": "python",
   "pygments_lexer": "ipython3",
   "version": "3.8.3"
  }
 },
 "nbformat": 4,
 "nbformat_minor": 4
}
