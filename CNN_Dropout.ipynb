{
  "cells": [
    {
      "cell_type": "markdown",
      "metadata": {
        "id": "view-in-github",
        "colab_type": "text"
      },
      "source": [
        "<a href=\"https://colab.research.google.com/github/maximmillion/ConvolutionExp/blob/main/CNN_Dropout.ipynb\" target=\"_parent\"><img src=\"https://colab.research.google.com/assets/colab-badge.svg\" alt=\"Open In Colab\"/></a>"
      ]
    },
    {
      "cell_type": "code",
      "execution_count": 1,
      "metadata": {
        "id": "xDDJTpAX9Qkd"
      },
      "outputs": [],
      "source": [
        "import numpy as np\n",
        "from random import randint"
      ]
    },
    {
      "cell_type": "markdown",
      "metadata": {
        "id": "04-YInaH9Qkf"
      },
      "source": [
        "# Making the dataset:"
      ]
    },
    {
      "cell_type": "code",
      "execution_count": 2,
      "metadata": {
        "id": "azrKgktS9Qkf"
      },
      "outputs": [],
      "source": [
        "# Create 250 squares\n",
        "NUM_SQUARES = 250\n",
        "WIDTH = 128\n",
        "\n",
        "X_train = []\n",
        "for i in range(NUM_SQUARES):\n",
        "    exp = np.zeros((WIDTH, WIDTH)) #  128*128 canvas \n",
        "    x_start = randint(0, WIDTH - 1)\n",
        "    x_end = randint(x_start, WIDTH)\n",
        "    y_start = randint(0, WIDTH - 1)\n",
        "    y_end = randint(y_start, WIDTH)\n",
        "    for x in range(y_start, y_end):\n",
        "        for y in range(y_start, y_end):\n",
        "            exp[x, y] = 1\n",
        "    X_train.append(exp)"
      ]
    },
    {
      "cell_type": "code",
      "execution_count": 3,
      "metadata": {
        "colab": {
          "base_uri": "https://localhost:8080/"
        },
        "id": "q1lhA9Mt9Qkg",
        "outputId": "5c986cb8-31b7-45c5-f52f-425efb36605b"
      },
      "outputs": [
        {
          "output_type": "stream",
          "name": "stdout",
          "text": [
            "500\n"
          ]
        }
      ],
      "source": [
        "# Create 250 circles\n",
        "for i in range(NUM_SQUARES):\n",
        "    x = np.arange(0, WIDTH)\n",
        "    y = np.arange(0, WIDTH)\n",
        "    arr = np.zeros((y.size, x.size))\n",
        "\n",
        "    cx = randint(0, WIDTH)\n",
        "    cy = randint(0, WIDTH)\n",
        "    r = randint(0, WIDTH / 2)\n",
        "\n",
        "    # The two lines below could be merged, but I stored the mask\n",
        "    # for code clarity.\n",
        "    mask = (x[np.newaxis,:]-cx)**2 + (y[:,np.newaxis]-cy)**2 < r**2\n",
        "    arr[mask] = 1\n",
        "    if randint(0, 1) == 0: # sometie true\n",
        "        arr = np.fliplr(arr)\n",
        "    X_train.append(arr)\n",
        "    \n",
        "X_train = np.array(X_train)\n",
        "print(len(X_train))"
      ]
    },
    {
      "cell_type": "code",
      "execution_count": 14,
      "metadata": {
        "id": "py0cl6iR9Qkh"
      },
      "outputs": [],
      "source": [
        "# Labels for Circles and Squares \n",
        "# First 250 images(Squares) are labeled 1, the next 250(circles) are labeled 0\n",
        "Y_train = np.array([1 if i < NUM_SQUARES else 0 for i in range(NUM_SQUARES * 2)])"
      ]
    },
    {
      "cell_type": "markdown",
      "metadata": {
        "id": "hf8e6TBC9Qkh"
      },
      "source": [
        "## Splitting the Dataset:"
      ]
    },
    {
      "cell_type": "code",
      "execution_count": 15,
      "metadata": {
        "colab": {
          "base_uri": "https://localhost:8080/"
        },
        "id": "0AJKBc-N9Qkh",
        "outputId": "c2490891-02ff-486e-e1a7-fe69d6f71d9a"
      },
      "outputs": [
        {
          "output_type": "stream",
          "name": "stdout",
          "text": [
            "(400, 128, 128)\n",
            "(100, 128, 128)\n"
          ]
        }
      ],
      "source": [
        "from sklearn.model_selection import train_test_split\n",
        "\n",
        "x_train, x_test, y_train, y_test = train_test_split(X_train, Y_train,\n",
        "                                                    stratify=Y_train, # ensures that %squares=circles in training/testing\n",
        "                                                    test_size=0.2) # testing is 20% \n",
        "\n",
        "print(x_train.shape)\n",
        "print(x_test.shape)"
      ]
    },
    {
      "cell_type": "markdown",
      "metadata": {
        "id": "Sn0Xpbbz9Qki"
      },
      "source": [
        "# Training:"
      ]
    },
    {
      "cell_type": "markdown",
      "metadata": {
        "id": "nRhjzEbe9Qki"
      },
      "source": [
        "## Creating the model:"
      ]
    },
    {
      "cell_type": "code",
      "execution_count": 24,
      "metadata": {
        "id": "lhuh4b5U9Qki"
      },
      "outputs": [],
      "source": [
        "from keras.preprocessing.image import ImageDataGenerator\n",
        "from keras.models import Sequential\n",
        "from keras.layers import Conv2D, MaxPooling2D, BatchNormalization\n",
        "from keras.layers import Activation, Dropout, Flatten, Dense, Reshape\n",
        "\n",
        "INPUT_SHAPE = (WIDTH, WIDTH)   \n",
        "\n",
        "model = Sequential() # start of model\n",
        "model.add(Reshape((WIDTH, WIDTH, 1), input_shape=INPUT_SHAPE)) # make from 2D into 3D\n",
        "model.add(Conv2D(32, (3, 3))) # 32 convoltions with a 3*3 filter\n",
        "model.add(Activation('relu')) \n",
        "model.add(MaxPooling2D(pool_size=(2, 2))) # max pooling is 2*2\n",
        "\n",
        "model.add(Conv2D(32, (3, 3), kernel_initializer = 'he_uniform')) #weight initialization technique \n",
        "model.add(Activation('relu'))\n",
        "model.add(MaxPooling2D(pool_size=(2, 2)))\n",
        "\n",
        "model.add(Conv2D(64, (3, 3), kernel_initializer = 'he_uniform'))\n",
        "model.add(Activation('relu'))\n",
        "model.add(MaxPooling2D(pool_size=(2, 2)))\n",
        "\n",
        "model.add(Flatten()) # make 1D\n",
        "model.add(Dense(64)) \n",
        "model.add(Activation('relu'))\n",
        "model.add(Dropout(0.5)) # dropout 50% of weights  \n",
        "\n",
        "model.add(Dense(1)) # makes the prediction\n",
        "model.add(Activation('sigmoid')) # Either 0/1 (since we have a binary output)"
      ]
    },
    {
      "cell_type": "code",
      "execution_count": 17,
      "metadata": {
        "colab": {
          "base_uri": "https://localhost:8080/"
        },
        "id": "MGacv1Aw9Qkj",
        "outputId": "5ed446f2-6a95-49e6-c9c3-f69f1626dd0b"
      },
      "outputs": [
        {
          "output_type": "stream",
          "name": "stdout",
          "text": [
            "Model: \"sequential_1\"\n",
            "_________________________________________________________________\n",
            " Layer (type)                Output Shape              Param #   \n",
            "=================================================================\n",
            " reshape_1 (Reshape)         (None, 128, 128, 1)       0         \n",
            "                                                                 \n",
            " conv2d_3 (Conv2D)           (None, 126, 126, 32)      320       \n",
            "                                                                 \n",
            " activation_5 (Activation)   (None, 126, 126, 32)      0         \n",
            "                                                                 \n",
            " max_pooling2d_3 (MaxPooling  (None, 63, 63, 32)       0         \n",
            " 2D)                                                             \n",
            "                                                                 \n",
            " conv2d_4 (Conv2D)           (None, 61, 61, 32)        9248      \n",
            "                                                                 \n",
            " activation_6 (Activation)   (None, 61, 61, 32)        0         \n",
            "                                                                 \n",
            " max_pooling2d_4 (MaxPooling  (None, 30, 30, 32)       0         \n",
            " 2D)                                                             \n",
            "                                                                 \n",
            " conv2d_5 (Conv2D)           (None, 28, 28, 64)        18496     \n",
            "                                                                 \n",
            " activation_7 (Activation)   (None, 28, 28, 64)        0         \n",
            "                                                                 \n",
            " max_pooling2d_5 (MaxPooling  (None, 14, 14, 64)       0         \n",
            " 2D)                                                             \n",
            "                                                                 \n",
            " flatten_1 (Flatten)         (None, 12544)             0         \n",
            "                                                                 \n",
            " dense_2 (Dense)             (None, 64)                802880    \n",
            "                                                                 \n",
            " activation_8 (Activation)   (None, 64)                0         \n",
            "                                                                 \n",
            " dropout_1 (Dropout)         (None, 64)                0         \n",
            "                                                                 \n",
            " dense_3 (Dense)             (None, 1)                 65        \n",
            "                                                                 \n",
            " activation_9 (Activation)   (None, 1)                 0         \n",
            "                                                                 \n",
            "=================================================================\n",
            "Total params: 831,009\n",
            "Trainable params: 831,009\n",
            "Non-trainable params: 0\n",
            "_________________________________________________________________\n"
          ]
        }
      ],
      "source": [
        "model.summary()"
      ]
    },
    {
      "cell_type": "markdown",
      "metadata": {
        "id": "DyswWkxs9Qkj"
      },
      "source": [
        "## Compiling the model:"
      ]
    },
    {
      "cell_type": "code",
      "execution_count": 18,
      "metadata": {
        "id": "V2dxV5-C9Qkj"
      },
      "outputs": [],
      "source": [
        "model.compile(loss='binary_crossentropy',\n",
        "              optimizer='rmsprop', \n",
        "              metrics=['accuracy'])"
      ]
    },
    {
      "cell_type": "markdown",
      "metadata": {
        "id": "CtGRiZOw9Qkj"
      },
      "source": [
        "## Training the model:"
      ]
    },
    {
      "cell_type": "code",
      "execution_count": 19,
      "metadata": {
        "colab": {
          "base_uri": "https://localhost:8080/"
        },
        "id": "kCimdVGy9Qkk",
        "outputId": "033401a4-177c-481a-cb68-874efc80a04b"
      },
      "outputs": [
        {
          "output_type": "stream",
          "name": "stdout",
          "text": [
            "Epoch 1/10\n",
            "7/7 [==============================] - 8s 953ms/step - loss: 0.6316 - accuracy: 0.6775 - val_loss: 0.4192 - val_accuracy: 0.8100\n",
            "Epoch 2/10\n",
            "7/7 [==============================] - 6s 899ms/step - loss: 0.4535 - accuracy: 0.8150 - val_loss: 0.3486 - val_accuracy: 0.9300\n",
            "Epoch 3/10\n",
            "7/7 [==============================] - 7s 938ms/step - loss: 0.3602 - accuracy: 0.8475 - val_loss: 0.3189 - val_accuracy: 0.9300\n",
            "Epoch 4/10\n",
            "7/7 [==============================] - 6s 906ms/step - loss: 0.2049 - accuracy: 0.9150 - val_loss: 0.3084 - val_accuracy: 0.8800\n",
            "Epoch 5/10\n",
            "7/7 [==============================] - 6s 878ms/step - loss: 0.1504 - accuracy: 0.9475 - val_loss: 0.3035 - val_accuracy: 0.9000\n",
            "Epoch 6/10\n",
            "7/7 [==============================] - 6s 902ms/step - loss: 0.1151 - accuracy: 0.9575 - val_loss: 0.3038 - val_accuracy: 0.9100\n",
            "Epoch 7/10\n",
            "7/7 [==============================] - 6s 890ms/step - loss: 0.0845 - accuracy: 0.9675 - val_loss: 0.3121 - val_accuracy: 0.9400\n",
            "Epoch 8/10\n",
            "7/7 [==============================] - 6s 914ms/step - loss: 0.1476 - accuracy: 0.9525 - val_loss: 0.5868 - val_accuracy: 0.8500\n",
            "Epoch 9/10\n",
            "7/7 [==============================] - 6s 878ms/step - loss: 0.1408 - accuracy: 0.9400 - val_loss: 0.3193 - val_accuracy: 0.9200\n",
            "Epoch 10/10\n",
            "7/7 [==============================] - 7s 928ms/step - loss: 0.0651 - accuracy: 0.9750 - val_loss: 0.3166 - val_accuracy: 0.9200\n"
          ]
        }
      ],
      "source": [
        "history = model.fit(x_train, \n",
        "                         y_train, \n",
        "                         batch_size = 64, \n",
        "                         verbose = 1,  \n",
        "                         epochs = 10,      \n",
        "                         validation_data=(x_test, y_test),\n",
        "                         shuffle = False # We already shuffled using stratify\n",
        "                     )\n"
      ]
    },
    {
      "cell_type": "markdown",
      "metadata": {
        "id": "A6ifbcSX9Qkk"
      },
      "source": [
        "## Visualizing Results:"
      ]
    },
    {
      "cell_type": "markdown",
      "metadata": {
        "id": "kEQ-w_Ig9Qkk"
      },
      "source": [
        "### Loss:"
      ]
    },
    {
      "cell_type": "code",
      "execution_count": 20,
      "metadata": {
        "colab": {
          "base_uri": "https://localhost:8080/",
          "height": 295
        },
        "id": "NBHg6GZh9Qkk",
        "outputId": "597498b9-f5bb-41ae-a843-fbaf8aa66366"
      },
      "outputs": [
        {
          "output_type": "display_data",
          "data": {
            "text/plain": [
              "<Figure size 432x288 with 1 Axes>"
            ],
            "image/png": "[encoded data removed]"
          },
          "metadata": {
            "needs_background": "light"
          }
        }
      ],
      "source": [
        "import matplotlib.pyplot as plt\n",
        "\n",
        "loss = history.history['loss']\n",
        "val_loss = history.history['val_loss']\n",
        "epochs = range(1, len(loss) + 1)\n",
        "plt.plot(epochs, loss, 'y', label='Training loss')\n",
        "plt.plot(epochs, val_loss, 'r', label='Validation loss')\n",
        "plt.title('Training and validation loss')\n",
        "plt.xlabel('Epochs')\n",
        "plt.ylabel('Loss')\n",
        "plt.legend()\n",
        "plt.show()"
      ]
    },
    {
      "cell_type": "markdown",
      "metadata": {
        "id": "1aZQAqIT9Qkk"
      },
      "source": [
        "### Accuracy: "
      ]
    },
    {
      "cell_type": "code",
      "execution_count": 21,
      "metadata": {
        "colab": {
          "base_uri": "https://localhost:8080/",
          "height": 295
        },
        "id": "sOMZWoZW9Qkk",
        "outputId": "40866791-19b1-4314-c561-799d0efeb520"
      },
      "outputs": [
        {
          "output_type": "display_data",
          "data": {
            "text/plain": [
              "<Figure size 432x288 with 1 Axes>"
            ],
            "image/png": "[encoded data removed]"
          },
          "metadata": {
            "needs_background": "light"
          }
        }
      ],
      "source": [
        "acc = history.history['accuracy']\n",
        "val_acc = history.history['val_accuracy']\n",
        "plt.plot(epochs, acc, 'y', label='Training acc')\n",
        "plt.plot(epochs, val_acc, 'r', label='Validation acc')\n",
        "plt.title('Training and validation accuracy')\n",
        "plt.xlabel('Epochs')\n",
        "plt.ylabel('Accuracy')\n",
        "plt.legend()\n",
        "plt.show()"
      ]
    },
    {
      "cell_type": "markdown",
      "metadata": {
        "id": "nB0zOiWR9Qkl"
      },
      "source": [
        "# Taking a prediction:"
      ]
    },
    {
      "cell_type": "code",
      "execution_count": 33,
      "metadata": {
        "colab": {
          "base_uri": "https://localhost:8080/",
          "height": 303
        },
        "id": "IJnkjYka9Qkl",
        "outputId": "a5436eab-cde0-4612-8486-2b2f5fb991e5"
      },
      "outputs": [
        {
          "output_type": "stream",
          "name": "stdout",
          "text": [
            "The prediction for this image is:  [[0.51196194]]\n",
            "The actual label for this image is:  1\n"
          ]
        },
        {
          "output_type": "display_data",
          "data": {
            "text/plain": [
              "<Figure size 432x288 with 1 Axes>"
            ],
            "image/png": "[encoded data removed]"
          },
          "metadata": {
            "needs_background": "light"
          }
        }
      ],
      "source": [
        "n = 99  #Select the index of image to be loaded for testing (You can choose any 0-99)\n",
        "img = x_test[n]\n",
        "plt.imshow(img)\n",
        "\n",
        "input_img = np.expand_dims(img, axis=0) #Expand dims so the input is (num images, x, y)\n",
        "\n",
        "print(\"The prediction for this image is: \", model.predict(input_img))\n",
        "print(\"The actual label for this image is: \", y_test[n])"
      ]
    },
    {
      "cell_type": "code",
      "source": [
        ""
      ],
      "metadata": {
        "id": "lJzU4UCOklkN"
      },
      "execution_count": null,
      "outputs": []
    }
  ],
  "metadata": {
    "kernelspec": {
      "display_name": "Python 3",
      "language": "python",
      "name": "python3"
    },
    "language_info": {
      "codemirror_mode": {
        "name": "ipython",
        "version": 3
      },
      "file_extension": ".py",
      "mimetype": "text/x-python",
      "name": "python",
      "nbconvert_exporter": "python",
      "pygments_lexer": "ipython3",
      "version": "3.8.3"
    },
    "colab": {
      "name": "synthethic_CNN_Dropout.ipynb",
      "provenance": [],
      "include_colab_link": true
    }
  },
  "nbformat": 4,
  "nbformat_minor": 0
}