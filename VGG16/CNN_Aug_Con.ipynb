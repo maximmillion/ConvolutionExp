{
  "cells": [
    {
      "cell_type": "code",
      "execution_count": null,
      "metadata": {
        "id": "aIWRrGlkilG1"
      },
      "outputs": [],
      "source": [
        "import tensorflow as tf\n",
        "from tensorflow import keras\n",
        "from tensorflow.keras.callbacks import History \n",
        "from keras.models import Sequential\n",
        "from tensorflow.keras import layers\n",
        "\n",
        "from random import randint\n",
        "import numpy as np\n",
        "\n",
        "import matplotlib.pyplot as plt\n",
        "%matplotlib inline"
      ]
    },
    {
      "cell_type": "markdown",
      "metadata": {
        "id": "VXR1P_6CilG4"
      },
      "source": [
        "# Making the dataset:"
      ]
    },
    {
      "cell_type": "code",
      "execution_count": null,
      "metadata": {
        "id": "UxZshK6KilG5"
      },
      "outputs": [],
      "source": [
        "# Create 250 squares\n",
        "NUM_SQUARES = 250\n",
        "WIDTH = 128\n",
        "\n",
        "X_train = []\n",
        "for i in range(NUM_SQUARES):\n",
        "    exp = np.zeros((WIDTH, WIDTH)) #  128*128 canvas \n",
        "    x_start = randint(0, WIDTH - 1)\n",
        "    x_end = randint(x_start, WIDTH)\n",
        "    y_start = randint(0, WIDTH - 1)\n",
        "    y_end = randint(y_start, WIDTH)\n",
        "    for x in range(y_start, y_end):\n",
        "        for y in range(y_start, y_end):\n",
        "            exp[x, y] = 1\n",
        "    X_train.append(exp)"
      ]
    },
    {
      "cell_type": "code",
      "execution_count": null,
      "metadata": {
        "colab": {
          "base_uri": "https://localhost:8080/"
        },
        "id": "S29yfde5ilG6",
        "outputId": "e40a9910-5464-4864-d6c4-b7d57f6a734c"
      },
      "outputs": [
        {
          "output_type": "stream",
          "name": "stdout",
          "text": [
            "500\n"
          ]
        }
      ],
      "source": [
        "# Create 250 circles\n",
        "for i in range(NUM_SQUARES):\n",
        "    x = np.arange(0, WIDTH)\n",
        "    y = np.arange(0, WIDTH)\n",
        "    arr = np.zeros((y.size, x.size))\n",
        "\n",
        "    cx = randint(0, WIDTH)\n",
        "    cy = randint(0, WIDTH)\n",
        "    r = randint(0, WIDTH / 2)\n",
        "\n",
        "    # The two lines below could be merged, but I stored the mask\n",
        "    # for code clarity.\n",
        "    mask = (x[np.newaxis,:]-cx)**2 + (y[:,np.newaxis]-cy)**2 < r**2\n",
        "    arr[mask] = 1\n",
        "    if randint(0, 1) == 0: # sometie true\n",
        "        arr = np.fliplr(arr)\n",
        "    X_train.append(arr)\n",
        "print(len(X_train))"
      ]
    },
    {
      "cell_type": "code",
      "execution_count": null,
      "metadata": {
        "id": "9p48PPDIilG7"
      },
      "outputs": [],
      "source": [
        "Y_train = np.array([1 if i < NUM_SQUARES else 0 for i in range(NUM_SQUARES * 2)])"
      ]
    },
    {
      "cell_type": "code",
      "execution_count": null,
      "metadata": {
        "id": "WCmdwTWiilG7"
      },
      "outputs": [],
      "source": [
        "# Shuffle training data\n",
        "shuffler = np.random.permutation(NUM_SQUARES*2)\n",
        "\n",
        "X_train = np.array(X_train)\n",
        "\n",
        "shufled_X_train = X_train[shuffler]\n",
        "shufled_Y_train = Y_train[shuffler]"
      ]
    },
    {
      "cell_type": "code",
      "execution_count": null,
      "metadata": {
        "colab": {
          "base_uri": "https://localhost:8080/",
          "height": 303
        },
        "id": "ZgGga1wailG8",
        "outputId": "811de31c-4a40-499f-e54d-2dd1d95c70df"
      },
      "outputs": [
        {
          "output_type": "stream",
          "name": "stdout",
          "text": [
            "0\n"
          ]
        },
        {
          "output_type": "execute_result",
          "data": {
            "text/plain": [
              "<matplotlib.image.AxesImage at 0x7f92199e98d0>"
            ]
          },
          "metadata": {},
          "execution_count": 6
        },
        {
          "output_type": "display_data",
          "data": {
            "text/plain": [
              "<Figure size 432x288 with 1 Axes>"
            ],
            "image/png": "[encoded data removed]"
          },
          "metadata": {
            "needs_background": "light"
          }
        }
      ],
      "source": [
        "print(shufled_Y_train[100])\n",
        "plt.imshow(shufled_X_train[100])"
      ]
    },
    {
      "cell_type": "markdown",
      "metadata": {
        "id": "TuShajuGilG8"
      },
      "source": [
        "## Splitting the data:"
      ]
    },
    {
      "cell_type": "code",
      "execution_count": null,
      "metadata": {
        "colab": {
          "base_uri": "https://localhost:8080/"
        },
        "id": "x7C1lgGOilG9",
        "outputId": "dfaac917-143b-48d7-9cdf-052d22dc3708"
      },
      "outputs": [
        {
          "output_type": "stream",
          "name": "stdout",
          "text": [
            "(400, 128, 128)\n",
            "(100, 128, 128)\n"
          ]
        }
      ],
      "source": [
        "from sklearn.model_selection import train_test_split\n",
        "\n",
        "x_train, x_test, y_train, y_test = train_test_split(X_train, Y_train,\n",
        "                                                    stratify=Y_train, \n",
        "                                                    test_size=0.2)\n",
        "\n",
        "print(x_train.shape)\n",
        "print(x_test.shape)"
      ]
    },
    {
      "cell_type": "code",
      "execution_count": null,
      "metadata": {
        "id": "aPEL10BvilG9"
      },
      "outputs": [],
      "source": [
        "# Reshaping as per requirement\n",
        "\n",
        "x_wanted_train = x_train.reshape(len(x_train), WIDTH, WIDTH, 1)\n",
        "x_wanted_test = x_test.reshape(len(x_test), WIDTH, WIDTH, 1)"
      ]
    },
    {
      "cell_type": "markdown",
      "metadata": {
        "id": "aoeHoxYHilG9"
      },
      "source": [
        "## Augmenting the data:"
      ]
    },
    {
      "cell_type": "code",
      "execution_count": null,
      "metadata": {
        "id": "1DPBFWxjilG-"
      },
      "outputs": [],
      "source": [
        "from tensorflow.keras.preprocessing.image import ImageDataGenerator\n",
        "\n",
        "datagen = ImageDataGenerator(\n",
        "    featurewise_center=True,\n",
        "    featurewise_std_normalization=True,\n",
        "    rotation_range=20,\n",
        "    width_shift_range=0.2,\n",
        "    height_shift_range=0.2,\n",
        "    horizontal_flip=True,\n",
        "    validation_split=0.2)"
      ]
    },
    {
      "cell_type": "code",
      "execution_count": null,
      "metadata": {
        "id": "lA61u3x4ilG-"
      },
      "outputs": [],
      "source": [
        "datagen.fit(x_wanted_train)"
      ]
    },
    {
      "cell_type": "markdown",
      "metadata": {
        "id": "mfd_79FIilG-"
      },
      "source": [
        "# Model Work: "
      ]
    },
    {
      "cell_type": "code",
      "execution_count": null,
      "metadata": {
        "id": "3TF_clQvilG-"
      },
      "outputs": [],
      "source": [
        "from keras.applications.vgg16 import VGG16"
      ]
    },
    {
      "cell_type": "code",
      "execution_count": null,
      "metadata": {
        "colab": {
          "base_uri": "https://localhost:8080/"
        },
        "id": "Vn6JIw3AilG-",
        "outputId": "09c7d10b-eacd-4ed9-8898-e60598588e38"
      },
      "outputs": [
        {
          "output_type": "stream",
          "name": "stdout",
          "text": [
            "Downloading data from https://storage.googleapis.com/tensorflow/keras-applications/vgg16/vgg16_weights_tf_dim_ordering_tf_kernels_notop.h5\n",
            "58892288/58889256 [==============================] - 1s 0us/step\n",
            "58900480/58889256 [==============================] - 1s 0us/step\n"
          ]
        }
      ],
      "source": [
        "# Adding some extra layers before the input to deal with a single channel image\n",
        "# vgg takes a 3 channel input\n",
        "img_input = layers.Input(shape=(WIDTH, WIDTH, 1))\n",
        "img_conc = layers.Concatenate()([img_input, img_input, img_input])\n",
        "\n",
        "# Load model without classifier/fully connected layers\n",
        "# the top 3 layers are the fully connected dense layers when we say include_top = False\n",
        "# it means we don't want them, we only want the Convolutional layers\n",
        "VGG_model = VGG16(input_tensor=img_conc, weights='imagenet', include_top=False)"
      ]
    },
    {
      "cell_type": "code",
      "execution_count": null,
      "metadata": {
        "id": "qzedXGjuilG_"
      },
      "outputs": [],
      "source": [
        "#Make loaded layers as non-trainable. This is important as we want to work with pre-trained weights\n",
        "for layer in VGG_model.layers:\n",
        "    layer.trainable = False"
      ]
    },
    {
      "cell_type": "code",
      "execution_count": null,
      "metadata": {
        "colab": {
          "base_uri": "https://localhost:8080/"
        },
        "id": "IL2WDxDlilG_",
        "outputId": "fba826e0-f111-47a0-fa82-1593dc43a1b4"
      },
      "outputs": [
        {
          "output_type": "stream",
          "name": "stdout",
          "text": [
            "Model: \"vgg16\"\n",
            "__________________________________________________________________________________________________\n",
            " Layer (type)                   Output Shape         Param #     Connected to                     \n",
            "==================================================================================================\n",
            " input_1 (InputLayer)           [(None, 128, 128, 1  0           []                               \n",
            "                                )]                                                                \n",
            "                                                                                                  \n",
            " concatenate (Concatenate)      (None, 128, 128, 3)  0           ['input_1[0][0]',                \n",
            "                                                                  'input_1[0][0]',                \n",
            "                                                                  'input_1[0][0]']                \n",
            "                                                                                                  \n",
            " block1_conv1 (Conv2D)          (None, 128, 128, 64  1792        ['concatenate[0][0]']            \n",
            "                                )                                                                 \n",
            "                                                                                                  \n",
            " block1_conv2 (Conv2D)          (None, 128, 128, 64  36928       ['block1_conv1[0][0]']           \n",
            "                                )                                                                 \n",
            "                                                                                                  \n",
            " block1_pool (MaxPooling2D)     (None, 64, 64, 64)   0           ['block1_conv2[0][0]']           \n",
            "                                                                                                  \n",
            " block2_conv1 (Conv2D)          (None, 64, 64, 128)  73856       ['block1_pool[0][0]']            \n",
            "                                                                                                  \n",
            " block2_conv2 (Conv2D)          (None, 64, 64, 128)  147584      ['block2_conv1[0][0]']           \n",
            "                                                                                                  \n",
            " block2_pool (MaxPooling2D)     (None, 32, 32, 128)  0           ['block2_conv2[0][0]']           \n",
            "                                                                                                  \n",
            " block3_conv1 (Conv2D)          (None, 32, 32, 256)  295168      ['block2_pool[0][0]']            \n",
            "                                                                                                  \n",
            " block3_conv2 (Conv2D)          (None, 32, 32, 256)  590080      ['block3_conv1[0][0]']           \n",
            "                                                                                                  \n",
            " block3_conv3 (Conv2D)          (None, 32, 32, 256)  590080      ['block3_conv2[0][0]']           \n",
            "                                                                                                  \n",
            " block3_pool (MaxPooling2D)     (None, 16, 16, 256)  0           ['block3_conv3[0][0]']           \n",
            "                                                                                                  \n",
            " block4_conv1 (Conv2D)          (None, 16, 16, 512)  1180160     ['block3_pool[0][0]']            \n",
            "                                                                                                  \n",
            " block4_conv2 (Conv2D)          (None, 16, 16, 512)  2359808     ['block4_conv1[0][0]']           \n",
            "                                                                                                  \n",
            " block4_conv3 (Conv2D)          (None, 16, 16, 512)  2359808     ['block4_conv2[0][0]']           \n",
            "                                                                                                  \n",
            " block4_pool (MaxPooling2D)     (None, 8, 8, 512)    0           ['block4_conv3[0][0]']           \n",
            "                                                                                                  \n",
            " block5_conv1 (Conv2D)          (None, 8, 8, 512)    2359808     ['block4_pool[0][0]']            \n",
            "                                                                                                  \n",
            " block5_conv2 (Conv2D)          (None, 8, 8, 512)    2359808     ['block5_conv1[0][0]']           \n",
            "                                                                                                  \n",
            " block5_conv3 (Conv2D)          (None, 8, 8, 512)    2359808     ['block5_conv2[0][0]']           \n",
            "                                                                                                  \n",
            " block5_pool (MaxPooling2D)     (None, 4, 4, 512)    0           ['block5_conv3[0][0]']           \n",
            "                                                                                                  \n",
            "==================================================================================================\n",
            "Total params: 14,714,688\n",
            "Trainable params: 0\n",
            "Non-trainable params: 14,714,688\n",
            "__________________________________________________________________________________________________\n"
          ]
        }
      ],
      "source": [
        "VGG_model.summary()  #Trainable parameters will be 0"
      ]
    },
    {
      "cell_type": "markdown",
      "metadata": {
        "id": "nLwaMBbLilG_"
      },
      "source": [
        "## Creating the model:"
      ]
    },
    {
      "cell_type": "code",
      "execution_count": null,
      "metadata": {
        "id": "g6kWvhCgilG_"
      },
      "outputs": [],
      "source": [
        "INPUT_SHAPE = (WIDTH, WIDTH)   \n",
        "\n",
        "model = Sequential()\n",
        "# to add the extra dimesion in the image\n",
        "#model.add(layers.Reshape((WIDTH, WIDTH, 1), input_shape=INPUT_SHAPE))\n",
        "# using the vgg-16 CNN with learned features, no learning now\n",
        "model.add(VGG_model)\n",
        "# flattening the multiple dimension output from the CNN\n",
        "model.add(layers.Flatten())\n",
        "model.add(layers.Dense(256, activation='relu'))\n",
        "model.add(layers.Dense(1, activation='sigmoid'))"
      ]
    },
    {
      "cell_type": "code",
      "execution_count": null,
      "metadata": {
        "colab": {
          "base_uri": "https://localhost:8080/"
        },
        "id": "0cQvFV1KilG_",
        "outputId": "2359aba9-304d-4d0d-867a-a86eb0228f0d"
      },
      "outputs": [
        {
          "output_type": "stream",
          "name": "stdout",
          "text": [
            "Model: \"sequential\"\n",
            "_________________________________________________________________\n",
            " Layer (type)                Output Shape              Param #   \n",
            "=================================================================\n",
            " vgg16 (Functional)          (None, 4, 4, 512)         14714688  \n",
            "                                                                 \n",
            " flatten (Flatten)           (None, 8192)              0         \n",
            "                                                                 \n",
            " dense (Dense)               (None, 256)               2097408   \n",
            "                                                                 \n",
            " dense_1 (Dense)             (None, 1)                 257       \n",
            "                                                                 \n",
            "=================================================================\n",
            "Total params: 16,812,353\n",
            "Trainable params: 2,097,665\n",
            "Non-trainable params: 14,714,688\n",
            "_________________________________________________________________\n"
          ]
        }
      ],
      "source": [
        "model.summary()"
      ]
    },
    {
      "cell_type": "code",
      "execution_count": null,
      "metadata": {
        "id": "vEROPvBvilG_"
      },
      "outputs": [],
      "source": [
        "model.compile(loss='binary_crossentropy',\n",
        "              optimizer='rmsprop', \n",
        "              metrics=['accuracy'])"
      ]
    },
    {
      "cell_type": "markdown",
      "metadata": {
        "id": "LpqvbSZeilHB"
      },
      "source": [
        "## Training the model"
      ]
    },
    {
      "cell_type": "code",
      "execution_count": null,
      "metadata": {
        "colab": {
          "base_uri": "https://localhost:8080/"
        },
        "id": "ekudHa8HilHC",
        "outputId": "1b2c0b46-29b6-4ac8-9412-3f8b7f7b1a1b"
      },
      "outputs": [
        {
          "output_type": "stream",
          "name": "stdout",
          "text": [
            "Epoch 1/5\n",
            "10/10 [==============================] - 65s 6s/step - loss: 1.1757 - accuracy: 0.7563 - val_loss: 0.9251 - val_accuracy: 0.7000\n",
            "Epoch 2/5\n",
            "10/10 [==============================] - 58s 6s/step - loss: 0.1738 - accuracy: 0.9406 - val_loss: 0.1876 - val_accuracy: 0.9000\n",
            "Epoch 3/5\n",
            "10/10 [==============================] - 56s 6s/step - loss: 0.1588 - accuracy: 0.9344 - val_loss: 0.4483 - val_accuracy: 0.8500\n",
            "Epoch 4/5\n",
            "10/10 [==============================] - 56s 6s/step - loss: 0.2264 - accuracy: 0.9250 - val_loss: 0.2007 - val_accuracy: 0.9000\n",
            "Epoch 5/5\n",
            "10/10 [==============================] - 56s 6s/step - loss: 0.2044 - accuracy: 0.9125 - val_loss: 0.1297 - val_accuracy: 0.9500\n"
          ]
        }
      ],
      "source": [
        "history = model.fit(datagen.flow(x_wanted_train, y_train, batch_size=32,\n",
        "         subset='training'),\n",
        "         validation_data=datagen.flow(x_wanted_test, y_test,\n",
        "         batch_size=8, subset='validation'),\n",
        "#          steps_per_epoch=len(x_train) // 32, \n",
        "#         validation_steps = len(x_train) // 8,\n",
        "        epochs=5)"
      ]
    },
    {
      "cell_type": "markdown",
      "metadata": {
        "id": "QkyliT2filHC"
      },
      "source": [
        "## Visualizing Results:"
      ]
    },
    {
      "cell_type": "code",
      "execution_count": null,
      "metadata": {
        "colab": {
          "base_uri": "https://localhost:8080/",
          "height": 295
        },
        "id": "0bmiv7U5ilHC",
        "outputId": "0c8aef95-c27b-4382-db65-90bea3cb79d1"
      },
      "outputs": [
        {
          "output_type": "display_data",
          "data": {
            "text/plain": [
              "<Figure size 432x288 with 1 Axes>"
            ],
            "image/png": "[encoded data removed]"
          },
          "metadata": {
            "needs_background": "light"
          }
        }
      ],
      "source": [
        "loss = history.history['loss']\n",
        "val_loss = history.history['val_loss']\n",
        "epochs = range(1, len(loss) + 1)\n",
        "plt.plot(epochs, loss, 'y', label='Training loss')\n",
        "plt.plot(epochs, val_loss, 'r', label='Validation loss')\n",
        "plt.title('Training and validation loss')\n",
        "plt.xlabel('Epochs')\n",
        "plt.ylabel('Loss')\n",
        "plt.legend()\n",
        "plt.show()"
      ]
    },
    {
      "cell_type": "code",
      "execution_count": null,
      "metadata": {
        "colab": {
          "base_uri": "https://localhost:8080/",
          "height": 295
        },
        "id": "gdLvqcswilHC",
        "outputId": "f9bc8623-46df-42b8-f1a7-d8034870ec35"
      },
      "outputs": [
        {
          "output_type": "display_data",
          "data": {
            "text/plain": [
              "<Figure size 432x288 with 1 Axes>"
            ],
            "image/png": "[encoded data removed]"
          },
          "metadata": {
            "needs_background": "light"
          }
        }
      ],
      "source": [
        "acc = history.history['accuracy']\n",
        "val_acc = history.history['val_accuracy']\n",
        "plt.plot(epochs, acc, 'y', label='Training acc')\n",
        "plt.plot(epochs, val_acc, 'r', label='Validation acc')\n",
        "plt.title('Training and validation accuracy')\n",
        "plt.xlabel('Epochs')\n",
        "plt.ylabel('Accuracy')\n",
        "plt.legend()\n",
        "plt.show()"
      ]
    },
    {
      "cell_type": "markdown",
      "metadata": {
        "id": "gcPkLs5dilHC"
      },
      "source": [
        "## Taking a prediction:"
      ]
    },
    {
      "cell_type": "code",
      "execution_count": null,
      "metadata": {
        "colab": {
          "base_uri": "https://localhost:8080/",
          "height": 303
        },
        "id": "B2B6Yq6SilHD",
        "outputId": "a0e64460-ee50-4d1b-fa2e-af7cb4f97666"
      },
      "outputs": [
        {
          "output_type": "stream",
          "name": "stdout",
          "text": [
            "The prediction for this image is:  1\n",
            "The actual label for this image is:  1\n"
          ]
        },
        {
          "output_type": "display_data",
          "data": {
            "text/plain": [
              "<Figure size 432x288 with 1 Axes>"
            ],
            "image/png": "[encoded data removed]"
          },
          "metadata": {
            "needs_background": "light"
          }
        }
      ],
      "source": [
        "n = 71  #Select the index of image to be loaded for testing\n",
        "img = x_test[n]\n",
        "plt.imshow(img)\n",
        "\n",
        "input_img = np.expand_dims(img, axis=0) #Expand dims so the input is (num images, x, y)\n",
        "\n",
        "print(\"The prediction for this image is: \", round(model.predict(input_img)[0][0]))\n",
        "print(\"The actual label for this image is: \", y_test[n])"
      ]
    }
  ],
  "metadata": {
    "kernelspec": {
      "display_name": "Python 3",
      "language": "python",
      "name": "python3"
    },
    "language_info": {
      "codemirror_mode": {
        "name": "ipython",
        "version": 3
      },
      "file_extension": ".py",
      "mimetype": "text/x-python",
      "name": "python",
      "nbconvert_exporter": "python",
      "pygments_lexer": "ipython3",
      "version": "3.8.3"
    },
    "colab": {
      "name": "V1.vgg16_CNN_transfer_learning.ipynb",
      "provenance": []
    }
  },
  "nbformat": 4,
  "nbformat_minor": 0
}