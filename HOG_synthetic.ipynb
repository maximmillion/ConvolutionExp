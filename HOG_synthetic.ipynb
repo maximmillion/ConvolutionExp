{
  "cells": [
    {
      "cell_type": "markdown",
      "metadata": {
        "id": "view-in-github",
        "colab_type": "text"
      },
      "source": [
        "<a href=\"https://colab.research.google.com/github/maximmillion/ConvolutionExp/blob/main/HOG_synthetic.ipynb\" target=\"_parent\"><img src=\"https://colab.research.google.com/assets/colab-badge.svg\" alt=\"Open In Colab\"/></a>"
      ]
    },
    {
      "cell_type": "code",
      "execution_count": 1,
      "metadata": {
        "id": "fqSf4qJhSX6b"
      },
      "outputs": [],
      "source": [
        "import tensorflow as tf\n",
        "from tensorflow import keras\n",
        "from keras.callbacks import History \n",
        "\n",
        "from random import randint\n",
        "import numpy as np\n",
        "from tqdm import tqdm\n",
        "\n",
        "import matplotlib.pyplot as plt\n",
        "import cv2\n",
        "\n",
        "from skimage.filters import gaussian\n",
        "from skimage.util import random_noise\n",
        "import matplotlib.pyplot as pp\n",
        "\n",
        "from sklearn.metrics import classification_report, confusion_matrix, accuracy_score\n",
        "from sklearn.ensemble import RandomForestClassifier,AdaBoostClassifier\n",
        "\n",
        "from tensorflow.keras import datasets, layers, models\n",
        "from xgboost import XGBClassifier\n",
        "%matplotlib inline"
      ]
    },
    {
      "cell_type": "markdown",
      "metadata": {
        "id": "oqEqzjDUSX6e"
      },
      "source": [
        "# Making the dataset:"
      ]
    },
    {
      "cell_type": "code",
      "execution_count": 2,
      "metadata": {
        "id": "_hbMdtIvSX6f"
      },
      "outputs": [],
      "source": [
        "# Create 250 squares\n",
        "NUM_SQUARES = 250\n",
        "WIDTH = 128\n",
        "\n",
        "X_train = []\n",
        "for i in range(NUM_SQUARES):\n",
        "    exp = np.zeros((WIDTH, WIDTH)) #  128*128 canvas \n",
        "    x_start = randint(0, WIDTH - 1)\n",
        "    x_end = randint(x_start, WIDTH)\n",
        "    y_start = randint(0, WIDTH - 1)\n",
        "    y_end = randint(y_start, WIDTH)\n",
        "    for x in range(y_start, y_end):\n",
        "        for y in range(y_start, y_end):\n",
        "            exp[x, y] = 1\n",
        "    X_train.append(exp)"
      ]
    },
    {
      "cell_type": "code",
      "execution_count": 3,
      "metadata": {
        "colab": {
          "base_uri": "https://localhost:8080/"
        },
        "id": "XJUVwOznSX6g",
        "outputId": "4e5453bc-6d0a-4951-87e2-5def269bbad5"
      },
      "outputs": [
        {
          "output_type": "stream",
          "name": "stdout",
          "text": [
            "500\n"
          ]
        }
      ],
      "source": [
        "# Create 250 circles\n",
        "for i in range(NUM_SQUARES):\n",
        "    x = np.arange(0, WIDTH)\n",
        "    y = np.arange(0, WIDTH)\n",
        "    arr = np.zeros((y.size, x.size))\n",
        "\n",
        "    cx = randint(0, WIDTH)\n",
        "    cy = randint(0, WIDTH)\n",
        "    r = randint(0, WIDTH / 2)\n",
        "\n",
        "    # The two lines below could be merged, but I stored the mask\n",
        "    # for code clarity.\n",
        "    mask = (x[np.newaxis,:]-cx)**2 + (y[:,np.newaxis]-cy)**2 < r**2\n",
        "    arr[mask] = 1\n",
        "    if randint(0, 1) == 0: # sometie true\n",
        "        arr = np.fliplr(arr)\n",
        "    X_train.append(arr)\n",
        "print(len(X_train))"
      ]
    },
    {
      "cell_type": "code",
      "execution_count": 4,
      "metadata": {
        "id": "dVlfBel6SX6h"
      },
      "outputs": [],
      "source": [
        "Y_train = np.array([1 if i < NUM_SQUARES else 0 for i in range(NUM_SQUARES * 2)])"
      ]
    },
    {
      "cell_type": "code",
      "execution_count": 5,
      "metadata": {
        "id": "rZnxDmwsSX6h"
      },
      "outputs": [],
      "source": [
        "# Shuffle training data\n",
        "shuffler = np.random.permutation(NUM_SQUARES*2)\n",
        "\n",
        "X_train = np.array(X_train)\n",
        "\n",
        "x_train = X_train[shuffler].astype(np.uint8)\n",
        "y_train = Y_train[shuffler]"
      ]
    },
    {
      "cell_type": "code",
      "execution_count": 6,
      "metadata": {
        "colab": {
          "base_uri": "https://localhost:8080/",
          "height": 303
        },
        "id": "FEsdMSYHSX6i",
        "outputId": "67ab6650-2f05-4fae-a676-091b67678a4b"
      },
      "outputs": [
        {
          "output_type": "stream",
          "name": "stdout",
          "text": [
            "0\n"
          ]
        },
        {
          "output_type": "execute_result",
          "data": {
            "text/plain": [
              "<matplotlib.image.AxesImage at 0x7f985db19710>"
            ]
          },
          "metadata": {},
          "execution_count": 6
        },
        {
          "output_type": "display_data",
          "data": {
            "text/plain": [
              "<Figure size 432x288 with 1 Axes>"
            ],
            "image/png": "[encoded data removed]"
          },
          "metadata": {
            "needs_background": "light"
          }
        }
      ],
      "source": [
        "print(y_train[101])\n",
        "plt.imshow(x_train[101])"
      ]
    },
    {
      "cell_type": "markdown",
      "metadata": {
        "id": "oHTD7bGYSX6i"
      },
      "source": [
        "# HOG feature extraction:"
      ]
    },
    {
      "cell_type": "code",
      "execution_count": 7,
      "metadata": {
        "colab": {
          "base_uri": "https://localhost:8080/"
        },
        "id": "EjqBWsPpSX6j",
        "outputId": "f5162767-ab60-4f9a-fa0a-0fb53795c9e1"
      },
      "outputs": [
        {
          "output_type": "execute_result",
          "data": {
            "text/plain": [
              "(500, 34020)"
            ]
          },
          "metadata": {},
          "execution_count": 7
        }
      ],
      "source": [
        "# hog feature extractor\n",
        "hog = cv2.HOGDescriptor()\n",
        "x_hog = []\n",
        "\n",
        "for im in x_train:\n",
        "    # compute hog features and than flatten it\n",
        "    features = hog.compute(im)\n",
        "    x_hog.append(features.flatten())\n",
        "    \n",
        "x_hog = np.array(x_hog)\n",
        "x_hog.shape"
      ]
    },
    {
      "cell_type": "markdown",
      "metadata": {
        "id": "Ygqgu0KoSX6k"
      },
      "source": [
        "# Data Splitting:"
      ]
    },
    {
      "cell_type": "code",
      "execution_count": 8,
      "metadata": {
        "id": "wOsF9LT9SX6k"
      },
      "outputs": [],
      "source": [
        "from sklearn.model_selection import train_test_split\n",
        "\n",
        "x_train, x_test, y_train, y_test = train_test_split(x_hog, y_train,\n",
        "                                                    stratify=y_train, \n",
        "                                                    test_size=0.2)\n",
        "results = {}"
      ]
    },
    {
      "cell_type": "code",
      "execution_count": 9,
      "metadata": {
        "colab": {
          "base_uri": "https://localhost:8080/"
        },
        "id": "v84L3G-CSX6k",
        "outputId": "ab922363-2527-40d7-bb73-a8ab24fa575a"
      },
      "outputs": [
        {
          "output_type": "stream",
          "name": "stdout",
          "text": [
            "(400, 34020)\n",
            "(100, 34020)\n"
          ]
        }
      ],
      "source": [
        "print(x_train.shape)\n",
        "print(x_test.shape)"
      ]
    },
    {
      "cell_type": "markdown",
      "metadata": {
        "id": "5mwlLLQwSX6l"
      },
      "source": [
        "\n",
        "\n",
        "```\n",
        "# This is formatted as code\n",
        "```\n",
        "\n",
        "# LightGBM:"
      ]
    },
    {
      "cell_type": "code",
      "execution_count": 11,
      "metadata": {
        "colab": {
          "base_uri": "https://localhost:8080/"
        },
        "id": "NJHgeM2xSX6l",
        "outputId": "207b7f52-80e3-4e05-9d5f-858818f71355"
      },
      "outputs": [
        {
          "output_type": "stream",
          "name": "stdout",
          "text": [
            "Accuracy: 0.91\n",
            "\n",
            "              precision    recall  f1-score   support\n",
            "\n",
            "           0       0.90      0.92      0.91        50\n",
            "           1       0.92      0.90      0.91        50\n",
            "\n",
            "    accuracy                           0.91       100\n",
            "   macro avg       0.91      0.91      0.91       100\n",
            "weighted avg       0.91      0.91      0.91       100\n",
            "\n"
          ]
        }
      ],
      "source": [
        "#!pip install lightgbm\n",
        "import lightgbm as lgb\n",
        "\n",
        "d_train = lgb.Dataset(x_train, label=y_train)\n",
        "\n",
        "# https://lightgbm.readthedocs.io/en/latest/Parameters.html\n",
        "lgbm_params = {'learning_rate':0.05, 'boosting_type':'dart',    \n",
        "              'objective':'multiclass',\n",
        "              'metric': 'multi_logloss',\n",
        "              'num_leaves': 100,\n",
        "              'max_depth':10,\n",
        "              'num_class':4}  #no.of unique values in the target class not inclusive of the end value\n",
        "\n",
        "\n",
        "lgb_model = lgb.train(lgbm_params, d_train, 100) #50 iterations. Increase iterations for small learning rates\n",
        "\n",
        "# Predict the response for test dataset\n",
        "y_pred = lgb_model.predict(x_test)\n",
        "y_pred = np.argmax(y_pred, axis=1)\n",
        "\n",
        "accuracy = accuracy_score(y_test, y_pred)\n",
        "results['lgb'] = round(accuracy * 100, 2)\n",
        "\n",
        "# Model Accuracy, how often is the classifier correct?\n",
        "print(\"Accuracy:\", accuracy, end='\\n\\n')\n",
        "\n",
        "print(classification_report(y_test, y_pred))"
      ]
    },
    {
      "cell_type": "code",
      "execution_count": 12,
      "metadata": {
        "id": "foImHsM8SX6l"
      },
      "outputs": [],
      "source": [
        "def showconfusionmatrix(cm):\n",
        "    plt.matshow(cm)\n",
        "    plt.title('Confusion matrix')\n",
        "    plt.colorbar()\n",
        "    plt.show()"
      ]
    },
    {
      "cell_type": "code",
      "execution_count": 13,
      "metadata": {
        "colab": {
          "base_uri": "https://localhost:8080/",
          "height": 292
        },
        "id": "rF7zXrDvSX6m",
        "outputId": "3635e29c-df21-4034-97ab-3eb5a81be8d8"
      },
      "outputs": [
        {
          "output_type": "stream",
          "name": "stdout",
          "text": [
            "[[46  4]\n",
            " [ 5 45]]\n"
          ]
        },
        {
          "output_type": "display_data",
          "data": {
            "text/plain": [
              "<Figure size 288x288 with 2 Axes>"
            ],
            "image/png": "[encoded data removed]"
          },
          "metadata": {
            "needs_background": "light"
          }
        }
      ],
      "source": [
        "cm = confusion_matrix(y_test, y_pred)\n",
        "print (cm)\n",
        "\n",
        "showconfusionmatrix(cm)"
      ]
    },
    {
      "cell_type": "markdown",
      "metadata": {
        "id": "4KTYPu6ySX6m"
      },
      "source": [
        "## SVM\n",
        "### Recommended with HOG features:"
      ]
    },
    {
      "cell_type": "code",
      "execution_count": 14,
      "metadata": {
        "colab": {
          "base_uri": "https://localhost:8080/"
        },
        "id": "1zb8cCRZSX6m",
        "outputId": "e5269035-d676-42a4-c54b-eaf7f7f84af6"
      },
      "outputs": [
        {
          "output_type": "stream",
          "name": "stdout",
          "text": [
            "Accuracy: 0.92\n",
            "\n",
            "              precision    recall  f1-score   support\n",
            "\n",
            "           0       1.00      0.84      0.91        50\n",
            "           1       0.86      1.00      0.93        50\n",
            "\n",
            "    accuracy                           0.92       100\n",
            "   macro avg       0.93      0.92      0.92       100\n",
            "weighted avg       0.93      0.92      0.92       100\n",
            "\n"
          ]
        }
      ],
      "source": [
        "# Train the Linear SVM\n",
        "from sklearn.svm import LinearSVC\n",
        "\n",
        "clf = LinearSVC(max_iter=10000)\n",
        "\n",
        "clf.fit(x_train, y_train)\n",
        "\n",
        "# Predict the response for test dataset\n",
        "y_pred = clf.predict(x_test)\n",
        "\n",
        "accuracy = accuracy_score(y_test, y_pred)\n",
        "results['SVM'] = round(accuracy * 100, 2)\n",
        "\n",
        "# Model Accuracy, how often is the classifier correct?\n",
        "print(\"Accuracy:\", accuracy, end='\\n\\n')\n",
        "\n",
        "print(classification_report(y_test, y_pred))"
      ]
    },
    {
      "cell_type": "code",
      "execution_count": 15,
      "metadata": {
        "colab": {
          "base_uri": "https://localhost:8080/",
          "height": 299
        },
        "id": "ev23fooUSX6m",
        "outputId": "22a6ba81-61c9-4cf1-a215-2202c9f5165d"
      },
      "outputs": [
        {
          "output_type": "stream",
          "name": "stdout",
          "text": [
            "[[42  8]\n",
            " [ 0 50]]\n"
          ]
        },
        {
          "output_type": "display_data",
          "data": {
            "text/plain": [
              "<Figure size 288x288 with 2 Axes>"
            ],
            "image/png": "[encoded data removed]"
          },
          "metadata": {
            "needs_background": "light"
          }
        }
      ],
      "source": [
        "cm = confusion_matrix(y_test, y_pred)\n",
        "print(cm)\n",
        "\n",
        "showconfusionmatrix(cm)"
      ]
    },
    {
      "cell_type": "markdown",
      "metadata": {
        "id": "BTjcN87ASX6n"
      },
      "source": [
        "## Random Forest:"
      ]
    },
    {
      "cell_type": "code",
      "execution_count": 16,
      "metadata": {
        "colab": {
          "base_uri": "https://localhost:8080/"
        },
        "id": "Wpe9ZwaFSX6n",
        "outputId": "3835bcd2-0070-4968-9228-14685e71fbef"
      },
      "outputs": [
        {
          "output_type": "stream",
          "name": "stdout",
          "text": [
            "Accuracy: 0.84\n",
            "\n",
            "              precision    recall  f1-score   support\n",
            "\n",
            "           0       1.00      0.68      0.81        50\n",
            "           1       0.76      1.00      0.86        50\n",
            "\n",
            "    accuracy                           0.84       100\n",
            "   macro avg       0.88      0.84      0.84       100\n",
            "weighted avg       0.88      0.84      0.84       100\n",
            "\n"
          ]
        }
      ],
      "source": [
        "# creating a random forest\n",
        "clf =  RandomForestClassifier(n_estimators = 100, random_state=30)\n",
        "\n",
        "clf.fit(x_train, y_train)\n",
        "\n",
        "# Predict the response for test dataset\n",
        "y_pred = clf.predict(x_test)\n",
        "\n",
        "accuracy = accuracy_score(y_test, y_pred)\n",
        "results['random_forest'] = round(accuracy * 100, 2)\n",
        "\n",
        "# Model Accuracy, how often is the classifier correct?\n",
        "print(\"Accuracy:\", accuracy, end='\\n\\n')\n",
        "\n",
        "print(classification_report(y_test, y_pred))"
      ]
    },
    {
      "cell_type": "code",
      "execution_count": 17,
      "metadata": {
        "colab": {
          "base_uri": "https://localhost:8080/",
          "height": 299
        },
        "id": "xJ2tlYrxSX6n",
        "outputId": "20245423-778c-4a9d-d2e6-63f99f9d146c"
      },
      "outputs": [
        {
          "output_type": "stream",
          "name": "stdout",
          "text": [
            "[[34 16]\n",
            " [ 0 50]]\n"
          ]
        },
        {
          "output_type": "display_data",
          "data": {
            "text/plain": [
              "<Figure size 288x288 with 2 Axes>"
            ],
            "image/png": "[encoded data removed]"
          },
          "metadata": {
            "needs_background": "light"
          }
        }
      ],
      "source": [
        "cm = confusion_matrix(y_test, y_pred)\n",
        "print (cm)\n",
        "\n",
        "showconfusionmatrix(cm)"
      ]
    },
    {
      "cell_type": "markdown",
      "metadata": {
        "id": "aaHf_LNGSX6n"
      },
      "source": [
        "## Decision Tree:"
      ]
    },
    {
      "cell_type": "code",
      "execution_count": 18,
      "metadata": {
        "colab": {
          "base_uri": "https://localhost:8080/"
        },
        "id": "ZT36E-0oSX6n",
        "outputId": "bca119ab-58ca-43a3-cf58-988e6b6b3f01"
      },
      "outputs": [
        {
          "output_type": "stream",
          "name": "stdout",
          "text": [
            "Accuracy: 0.86\n",
            "\n",
            "              precision    recall  f1-score   support\n",
            "\n",
            "           0       0.97      0.74      0.84        50\n",
            "           1       0.79      0.98      0.87        50\n",
            "\n",
            "    accuracy                           0.86       100\n",
            "   macro avg       0.88      0.86      0.86       100\n",
            "weighted avg       0.88      0.86      0.86       100\n",
            "\n"
          ]
        }
      ],
      "source": [
        "from sklearn.tree import DecisionTreeClassifier # Import Decision Tree Classifier\n",
        "\n",
        "clf = DecisionTreeClassifier()\n",
        "clf.fit(x_train, y_train)\n",
        "\n",
        "# Predict the response for test dataset\n",
        "y_pred = clf.predict(x_test)\n",
        "\n",
        "accuracy = accuracy_score(y_test, y_pred)\n",
        "results['decision_tree'] = round(accuracy * 100, 2)\n",
        "\n",
        "# Model Accuracy, how often is the classifier correct?\n",
        "print(\"Accuracy:\", accuracy, end='\\n\\n')\n",
        "\n",
        "print(classification_report(y_test, y_pred))"
      ]
    },
    {
      "cell_type": "code",
      "execution_count": 19,
      "metadata": {
        "colab": {
          "base_uri": "https://localhost:8080/",
          "height": 292
        },
        "id": "_UliykqySX6n",
        "outputId": "5c2aa526-7a3d-41ed-caef-8c88f547574e"
      },
      "outputs": [
        {
          "output_type": "stream",
          "name": "stdout",
          "text": [
            "[[37 13]\n",
            " [ 1 49]]\n"
          ]
        },
        {
          "output_type": "display_data",
          "data": {
            "text/plain": [
              "<Figure size 288x288 with 2 Axes>"
            ],
            "image/png": "[encoded data removed]"
          },
          "metadata": {
            "needs_background": "light"
          }
        }
      ],
      "source": [
        "cm = confusion_matrix(y_test, y_pred)\n",
        "print (cm)\n",
        "\n",
        "showconfusionmatrix(cm)"
      ]
    },
    {
      "cell_type": "code",
      "execution_count": 20,
      "metadata": {
        "colab": {
          "base_uri": "https://localhost:8080/",
          "height": 1000
        },
        "id": "I9Rz0huYSX6o",
        "outputId": "52bfc6ce-ef40-468d-a121-0c8fb5b22ea6"
      },
      "outputs": [
        {
          "output_type": "execute_result",
          "data": {
            "text/plain": [
              "[Text(0.9129464285714286, 0.9880952380952381, 'X[29650] <= 0.247\\ngini = 0.5\\nsamples = 400\\nvalue = [200, 200]'),\n",
              " Text(0.8616071428571429, 0.9642857142857143, 'X[34002] <= 0.013\\ngini = 0.493\\nsamples = 354\\nvalue = [198, 156]'),\n",
              " Text(0.8125, 0.9404761904761905, 'X[6700] <= 0.021\\ngini = 0.467\\nsamples = 304\\nvalue = [191, 113]'),\n",
              " Text(0.7678571428571429, 0.9166666666666666, 'X[63] <= 0.017\\ngini = 0.43\\nsamples = 269\\nvalue = [185, 84]'),\n",
              " Text(0.7321428571428571, 0.8928571428571429, 'X[22562] <= 0.152\\ngini = 0.394\\nsamples = 252\\nvalue = [184, 68]'),\n",
              " Text(0.7142857142857143, 0.8690476190476191, 'X[17596] <= 0.002\\ngini = 0.358\\nsamples = 240\\nvalue = [184, 56]'),\n",
              " Text(0.6785714285714286, 0.8452380952380952, 'X[28980] <= 0.463\\ngini = 0.295\\nsamples = 217\\nvalue = [178, 39]'),\n",
              " Text(0.6607142857142857, 0.8214285714285714, 'X[27846] <= 0.478\\ngini = 0.253\\nsamples = 209\\nvalue = [178, 31]'),\n",
              " Text(0.6428571428571429, 0.7976190476190477, 'X[7663] <= 0.029\\ngini = 0.222\\nsamples = 204\\nvalue = [178, 26]'),\n",
              " Text(0.6071428571428571, 0.7738095238095238, 'X[26360] <= 0.422\\ngini = 0.177\\nsamples = 194\\nvalue = [175, 19]'),\n",
              " Text(0.5892857142857143, 0.75, 'X[34015] <= 0.67\\ngini = 0.154\\nsamples = 191\\nvalue = [175, 16]'),\n",
              " Text(0.5535714285714286, 0.7261904761904762, 'X[31266] <= 0.401\\ngini = 0.129\\nsamples = 187\\nvalue = [174, 13]'),\n",
              " Text(0.5357142857142857, 0.7023809523809523, 'X[9368] <= 0.238\\ngini = 0.112\\nsamples = 185\\nvalue = [174, 11]'),\n",
              " Text(0.5178571428571429, 0.6785714285714286, 'X[21901] <= 0.781\\ngini = 0.094\\nsamples = 183\\nvalue = [174, 9]'),\n",
              " Text(0.5, 0.6547619047619048, 'X[9999] <= 0.52\\ngini = 0.084\\nsamples = 182\\nvalue = [174, 8]'),\n",
              " Text(0.48214285714285715, 0.6309523809523809, 'X[30222] <= 0.36\\ngini = 0.074\\nsamples = 181\\nvalue = [174, 7]'),\n",
              " Text(0.4642857142857143, 0.6071428571428571, 'X[16434] <= 0.001\\ngini = 0.064\\nsamples = 180\\nvalue = [174, 6]'),\n",
              " Text(0.44642857142857145, 0.5833333333333334, 'X[6844] <= 0.009\\ngini = 0.075\\nsamples = 153\\nvalue = [147, 6]'),\n",
              " Text(0.42857142857142855, 0.5595238095238095, 'X[814] <= 0.001\\ngini = 0.086\\nsamples = 133\\nvalue = [127, 6]'),\n",
              " Text(0.4107142857142857, 0.5357142857142857, 'X[32534] <= 0.003\\ngini = 0.098\\nsamples = 116\\nvalue = [110, 6]'),\n",
              " Text(0.39285714285714285, 0.5119047619047619, 'X[7735] <= 0.003\\ngini = 0.111\\nsamples = 102\\nvalue = [96, 6]'),\n",
              " Text(0.375, 0.4880952380952381, 'X[32134] <= 0.004\\ngini = 0.124\\nsamples = 90\\nvalue = [84, 6]'),\n",
              " Text(0.35714285714285715, 0.4642857142857143, 'X[967] <= 0.003\\ngini = 0.14\\nsamples = 79\\nvalue = [73, 6]'),\n",
              " Text(0.3392857142857143, 0.44047619047619047, 'X[33871] <= 0.002\\ngini = 0.159\\nsamples = 69\\nvalue = [63, 6]'),\n",
              " Text(0.32142857142857145, 0.4166666666666667, 'X[26891] <= 0.003\\ngini = 0.183\\nsamples = 59\\nvalue = [53, 6]'),\n",
              " Text(0.30357142857142855, 0.39285714285714285, 'X[22806] <= 0.004\\ngini = 0.208\\nsamples = 51\\nvalue = [45, 6]'),\n",
              " Text(0.2857142857142857, 0.36904761904761907, 'X[22639] <= 0.003\\ngini = 0.231\\nsamples = 45\\nvalue = [39, 6]'),\n",
              " Text(0.26785714285714285, 0.34523809523809523, 'X[15556] <= 0.001\\ngini = 0.26\\nsamples = 39\\nvalue = [33, 6]'),\n",
              " Text(0.25, 0.32142857142857145, 'X[14597] <= 0.012\\ngini = 0.291\\nsamples = 34\\nvalue = [28, 6]'),\n",
              " Text(0.23214285714285715, 0.2976190476190476, 'X[121] <= 0.113\\ngini = 0.32\\nsamples = 30\\nvalue = [24, 6]'),\n",
              " Text(0.21428571428571427, 0.27380952380952384, 'X[4684] <= 0.007\\ngini = 0.355\\nsamples = 26\\nvalue = [20, 6]'),\n",
              " Text(0.19642857142857142, 0.25, 'X[478] <= 0.002\\ngini = 0.386\\nsamples = 23\\nvalue = [17, 6]'),\n",
              " Text(0.17857142857142858, 0.2261904761904762, 'X[25973] <= 0.124\\ngini = 0.42\\nsamples = 20\\nvalue = [14, 6]'),\n",
              " Text(0.16071428571428573, 0.20238095238095238, 'X[5469] <= 0.028\\ngini = 0.444\\nsamples = 18\\nvalue = [12, 6]'),\n",
              " Text(0.14285714285714285, 0.17857142857142858, 'X[33531] <= 0.008\\ngini = 0.469\\nsamples = 16\\nvalue = [10, 6]'),\n",
              " Text(0.125, 0.15476190476190477, 'X[13801] <= 0.091\\ngini = 0.49\\nsamples = 14\\nvalue = [8, 6]'),\n",
              " Text(0.10714285714285714, 0.13095238095238096, 'X[33756] <= 0.018\\ngini = 0.5\\nsamples = 12\\nvalue = [6, 6]'),\n",
              " Text(0.08928571428571429, 0.10714285714285714, 'X[18711] <= 0.166\\ngini = 0.48\\nsamples = 10\\nvalue = [4, 6]'),\n",
              " Text(0.07142857142857142, 0.08333333333333333, 'X[15653] <= 0.113\\ngini = 0.444\\nsamples = 9\\nvalue = [3, 6]'),\n",
              " Text(0.05357142857142857, 0.05952380952380952, 'X[23220] <= 0.074\\ngini = 0.375\\nsamples = 8\\nvalue = [2, 6]'),\n",
              " Text(0.03571428571428571, 0.03571428571428571, 'X[33830] <= 0.195\\ngini = 0.245\\nsamples = 7\\nvalue = [1, 6]'),\n",
              " Text(0.017857142857142856, 0.011904761904761904, 'gini = 0.0\\nsamples = 6\\nvalue = [0, 6]'),\n",
              " Text(0.05357142857142857, 0.011904761904761904, 'gini = 0.0\\nsamples = 1\\nvalue = [1, 0]'),\n",
              " Text(0.07142857142857142, 0.03571428571428571, 'gini = 0.0\\nsamples = 1\\nvalue = [1, 0]'),\n",
              " Text(0.08928571428571429, 0.05952380952380952, 'gini = 0.0\\nsamples = 1\\nvalue = [1, 0]'),\n",
              " Text(0.10714285714285714, 0.08333333333333333, 'gini = 0.0\\nsamples = 1\\nvalue = [1, 0]'),\n",
              " Text(0.125, 0.10714285714285714, 'gini = 0.0\\nsamples = 2\\nvalue = [2, 0]'),\n",
              " Text(0.14285714285714285, 0.13095238095238096, 'gini = 0.0\\nsamples = 2\\nvalue = [2, 0]'),\n",
              " Text(0.16071428571428573, 0.15476190476190477, 'gini = 0.0\\nsamples = 2\\nvalue = [2, 0]'),\n",
              " Text(0.17857142857142858, 0.17857142857142858, 'gini = 0.0\\nsamples = 2\\nvalue = [2, 0]'),\n",
              " Text(0.19642857142857142, 0.20238095238095238, 'gini = 0.0\\nsamples = 2\\nvalue = [2, 0]'),\n",
              " Text(0.21428571428571427, 0.2261904761904762, 'gini = 0.0\\nsamples = 3\\nvalue = [3, 0]'),\n",
              " Text(0.23214285714285715, 0.25, 'gini = 0.0\\nsamples = 3\\nvalue = [3, 0]'),\n",
              " Text(0.25, 0.27380952380952384, 'gini = 0.0\\nsamples = 4\\nvalue = [4, 0]'),\n",
              " Text(0.26785714285714285, 0.2976190476190476, 'gini = 0.0\\nsamples = 4\\nvalue = [4, 0]'),\n",
              " Text(0.2857142857142857, 0.32142857142857145, 'gini = 0.0\\nsamples = 5\\nvalue = [5, 0]'),\n",
              " Text(0.30357142857142855, 0.34523809523809523, 'gini = 0.0\\nsamples = 6\\nvalue = [6, 0]'),\n",
              " Text(0.32142857142857145, 0.36904761904761907, 'gini = 0.0\\nsamples = 6\\nvalue = [6, 0]'),\n",
              " Text(0.3392857142857143, 0.39285714285714285, 'gini = 0.0\\nsamples = 8\\nvalue = [8, 0]'),\n",
              " Text(0.35714285714285715, 0.4166666666666667, 'gini = 0.0\\nsamples = 10\\nvalue = [10, 0]'),\n",
              " Text(0.375, 0.44047619047619047, 'gini = 0.0\\nsamples = 10\\nvalue = [10, 0]'),\n",
              " Text(0.39285714285714285, 0.4642857142857143, 'gini = 0.0\\nsamples = 11\\nvalue = [11, 0]'),\n",
              " Text(0.4107142857142857, 0.4880952380952381, 'gini = 0.0\\nsamples = 12\\nvalue = [12, 0]'),\n",
              " Text(0.42857142857142855, 0.5119047619047619, 'gini = 0.0\\nsamples = 14\\nvalue = [14, 0]'),\n",
              " Text(0.44642857142857145, 0.5357142857142857, 'gini = 0.0\\nsamples = 17\\nvalue = [17, 0]'),\n",
              " Text(0.4642857142857143, 0.5595238095238095, 'gini = 0.0\\nsamples = 20\\nvalue = [20, 0]'),\n",
              " Text(0.48214285714285715, 0.5833333333333334, 'gini = 0.0\\nsamples = 27\\nvalue = [27, 0]'),\n",
              " Text(0.5, 0.6071428571428571, 'gini = 0.0\\nsamples = 1\\nvalue = [0, 1]'),\n",
              " Text(0.5178571428571429, 0.6309523809523809, 'gini = 0.0\\nsamples = 1\\nvalue = [0, 1]'),\n",
              " Text(0.5357142857142857, 0.6547619047619048, 'gini = 0.0\\nsamples = 1\\nvalue = [0, 1]'),\n",
              " Text(0.5535714285714286, 0.6785714285714286, 'gini = 0.0\\nsamples = 2\\nvalue = [0, 2]'),\n",
              " Text(0.5714285714285714, 0.7023809523809523, 'gini = 0.0\\nsamples = 2\\nvalue = [0, 2]'),\n",
              " Text(0.625, 0.7261904761904762, 'X[25323] <= 0.011\\ngini = 0.375\\nsamples = 4\\nvalue = [1, 3]'),\n",
              " Text(0.6071428571428571, 0.7023809523809523, 'gini = 0.0\\nsamples = 3\\nvalue = [0, 3]'),\n",
              " Text(0.6428571428571429, 0.7023809523809523, 'gini = 0.0\\nsamples = 1\\nvalue = [1, 0]'),\n",
              " Text(0.625, 0.75, 'gini = 0.0\\nsamples = 3\\nvalue = [0, 3]'),\n",
              " Text(0.6785714285714286, 0.7738095238095238, 'X[7667] <= 0.01\\ngini = 0.42\\nsamples = 10\\nvalue = [3, 7]'),\n",
              " Text(0.6607142857142857, 0.75, 'gini = 0.0\\nsamples = 3\\nvalue = [3, 0]'),\n",
              " Text(0.6964285714285714, 0.75, 'gini = 0.0\\nsamples = 7\\nvalue = [0, 7]'),\n",
              " Text(0.6785714285714286, 0.7976190476190477, 'gini = 0.0\\nsamples = 5\\nvalue = [0, 5]'),\n",
              " Text(0.6964285714285714, 0.8214285714285714, 'gini = 0.0\\nsamples = 8\\nvalue = [0, 8]'),\n",
              " Text(0.75, 0.8452380952380952, 'X[17615] <= 0.002\\ngini = 0.386\\nsamples = 23\\nvalue = [6, 17]'),\n",
              " Text(0.7321428571428571, 0.8214285714285714, 'X[30995] <= 0.375\\ngini = 0.105\\nsamples = 18\\nvalue = [1, 17]'),\n",
              " Text(0.7142857142857143, 0.7976190476190477, 'gini = 0.0\\nsamples = 17\\nvalue = [0, 17]'),\n",
              " Text(0.75, 0.7976190476190477, 'gini = 0.0\\nsamples = 1\\nvalue = [1, 0]'),\n",
              " Text(0.7678571428571429, 0.8214285714285714, 'gini = 0.0\\nsamples = 5\\nvalue = [5, 0]'),\n",
              " Text(0.75, 0.8690476190476191, 'gini = 0.0\\nsamples = 12\\nvalue = [0, 12]'),\n",
              " Text(0.8035714285714286, 0.8928571428571429, 'X[32011] <= 0.002\\ngini = 0.111\\nsamples = 17\\nvalue = [1, 16]'),\n",
              " Text(0.7857142857142857, 0.8690476190476191, 'gini = 0.0\\nsamples = 16\\nvalue = [0, 16]'),\n",
              " Text(0.8214285714285714, 0.8690476190476191, 'gini = 0.0\\nsamples = 1\\nvalue = [1, 0]'),\n",
              " Text(0.8571428571428571, 0.9166666666666666, 'X[19664] <= 0.01\\ngini = 0.284\\nsamples = 35\\nvalue = [6, 29]'),\n",
              " Text(0.8392857142857143, 0.8928571428571429, 'gini = 0.0\\nsamples = 5\\nvalue = [5, 0]'),\n",
              " Text(0.875, 0.8928571428571429, 'X[16576] <= 0.203\\ngini = 0.064\\nsamples = 30\\nvalue = [1, 29]'),\n",
              " Text(0.8571428571428571, 0.8690476190476191, 'gini = 0.0\\nsamples = 29\\nvalue = [0, 29]'),\n",
              " Text(0.8928571428571429, 0.8690476190476191, 'gini = 0.0\\nsamples = 1\\nvalue = [1, 0]'),\n",
              " Text(0.9107142857142857, 0.9404761904761905, 'X[33997] <= 0.019\\ngini = 0.241\\nsamples = 50\\nvalue = [7, 43]'),\n",
              " Text(0.8928571428571429, 0.9166666666666666, 'gini = 0.0\\nsamples = 6\\nvalue = [6, 0]'),\n",
              " Text(0.9285714285714286, 0.9166666666666666, 'X[26077] <= 0.469\\ngini = 0.044\\nsamples = 44\\nvalue = [1, 43]'),\n",
              " Text(0.9107142857142857, 0.8928571428571429, 'gini = 0.0\\nsamples = 43\\nvalue = [0, 43]'),\n",
              " Text(0.9464285714285714, 0.8928571428571429, 'gini = 0.0\\nsamples = 1\\nvalue = [1, 0]'),\n",
              " Text(0.9642857142857143, 0.9642857142857143, 'X[32326] <= 0.069\\ngini = 0.083\\nsamples = 46\\nvalue = [2, 44]'),\n",
              " Text(0.9464285714285714, 0.9404761904761905, 'gini = 0.0\\nsamples = 44\\nvalue = [0, 44]'),\n",
              " Text(0.9821428571428571, 0.9404761904761905, 'gini = 0.0\\nsamples = 2\\nvalue = [2, 0]')]"
            ]
          },
          "metadata": {},
          "execution_count": 20
        },
        {
          "output_type": "display_data",
          "data": {
            "text/plain": [
              "<Figure size 432x288 with 1 Axes>"
            ],
            "image/png": "[encoded data removed]"
          },
          "metadata": {
            "needs_background": "light"
          }
        }
      ],
      "source": [
        "# plot tree\n",
        "from sklearn import tree\n",
        "\n",
        "tree.plot_tree(clf)"
      ]
    },
    {
      "cell_type": "markdown",
      "metadata": {
        "id": "HSEDdoZfSX6o"
      },
      "source": [
        "## AdaBoost Classifier:"
      ]
    },
    {
      "cell_type": "code",
      "execution_count": 21,
      "metadata": {
        "colab": {
          "base_uri": "https://localhost:8080/"
        },
        "id": "D_8U6cUUSX6o",
        "outputId": "4766158c-5377-46c7-9aae-ced5d6b6c217"
      },
      "outputs": [
        {
          "output_type": "stream",
          "name": "stdout",
          "text": [
            "Accuracy: 0.86\n",
            "\n",
            "              precision    recall  f1-score   support\n",
            "\n",
            "           0       0.97      0.74      0.84        50\n",
            "           1       0.79      0.98      0.87        50\n",
            "\n",
            "    accuracy                           0.86       100\n",
            "   macro avg       0.88      0.86      0.86       100\n",
            "weighted avg       0.88      0.86      0.86       100\n",
            "\n"
          ]
        }
      ],
      "source": [
        "# Create Adaboostclassifier\n",
        "clf = AdaBoostClassifier(n_estimators=42)\n",
        "\n",
        "clf.fit(x_train, y_train)\n",
        "\n",
        "# Predict the response for test dataset\n",
        "y_pred = clf.predict(x_test)\n",
        "\n",
        "accuracy = accuracy_score(y_test, y_pred)\n",
        "results['ada_boost'] = round(accuracy * 100, 2)\n",
        "\n",
        "# Model Accuracy, how often is the classifier correct?\n",
        "print(\"Accuracy:\", accuracy, end='\\n\\n')\n",
        "\n",
        "print(classification_report(y_test, y_pred))"
      ]
    },
    {
      "cell_type": "code",
      "execution_count": 22,
      "metadata": {
        "colab": {
          "base_uri": "https://localhost:8080/",
          "height": 292
        },
        "id": "IEnzNIF5SX6o",
        "outputId": "5cfcc753-97fe-437b-b137-ea2a3af1a63b"
      },
      "outputs": [
        {
          "output_type": "stream",
          "name": "stdout",
          "text": [
            "[[37 13]\n",
            " [ 1 49]]\n"
          ]
        },
        {
          "output_type": "display_data",
          "data": {
            "text/plain": [
              "<Figure size 288x288 with 2 Axes>"
            ],
            "image/png": "[encoded data removed]"
          },
          "metadata": {
            "needs_background": "light"
          }
        }
      ],
      "source": [
        "cm = confusion_matrix(y_test, y_pred)\n",
        "print (cm)\n",
        "\n",
        "showconfusionmatrix(cm)"
      ]
    },
    {
      "cell_type": "markdown",
      "metadata": {
        "id": "Ftu9dsZASX6o"
      },
      "source": [
        "## XG Boost Classifier:"
      ]
    },
    {
      "cell_type": "code",
      "execution_count": 23,
      "metadata": {
        "colab": {
          "base_uri": "https://localhost:8080/"
        },
        "id": "Tp83YTazSX6o",
        "outputId": "8508f8b7-fb52-4cae-9156-cf8e3088904f"
      },
      "outputs": [
        {
          "output_type": "stream",
          "name": "stdout",
          "text": [
            "Accuracy: 0.96\n",
            "\n",
            "              precision    recall  f1-score   support\n",
            "\n",
            "           0       0.94      0.98      0.96        50\n",
            "           1       0.98      0.94      0.96        50\n",
            "\n",
            "    accuracy                           0.96       100\n",
            "   macro avg       0.96      0.96      0.96       100\n",
            "weighted avg       0.96      0.96      0.96       100\n",
            "\n"
          ]
        }
      ],
      "source": [
        "# Create XG boost classifer object\n",
        "clf = XGBClassifier()\n",
        "\n",
        "clf.fit(x_train, y_train)\n",
        "\n",
        "# Predict the response for test dataset\n",
        "y_pred = clf.predict(x_test)\n",
        "\n",
        "accuracy = accuracy_score(y_test, y_pred)\n",
        "results['xg_boost'] = round(accuracy * 100, 2)\n",
        "\n",
        "# Model Accuracy, how often is the classifier correct?\n",
        "print(\"Accuracy:\", accuracy, end='\\n\\n')\n",
        "\n",
        "print(classification_report(y_test, y_pred))"
      ]
    },
    {
      "cell_type": "code",
      "execution_count": 24,
      "metadata": {
        "colab": {
          "base_uri": "https://localhost:8080/",
          "height": 292
        },
        "id": "cxaLh6DUSX6o",
        "outputId": "4063cd3d-ef06-41e0-8fe4-faa89171798b"
      },
      "outputs": [
        {
          "output_type": "stream",
          "name": "stdout",
          "text": [
            "[[49  1]\n",
            " [ 3 47]]\n"
          ]
        },
        {
          "output_type": "display_data",
          "data": {
            "text/plain": [
              "<Figure size 288x288 with 2 Axes>"
            ],
            "image/png": "[encoded data removed]"
          },
          "metadata": {
            "needs_background": "light"
          }
        }
      ],
      "source": [
        "cm = confusion_matrix(y_test, y_pred)\n",
        "print (cm)\n",
        "\n",
        "showconfusionmatrix(cm)"
      ]
    },
    {
      "cell_type": "markdown",
      "metadata": {
        "id": "S7Kgi5AiSX6o"
      },
      "source": [
        "## Gaussian Naive Bayes:"
      ]
    },
    {
      "cell_type": "code",
      "execution_count": 25,
      "metadata": {
        "colab": {
          "base_uri": "https://localhost:8080/"
        },
        "id": "EaL94glESX6o",
        "outputId": "8df2b61f-cc2e-4f4f-bad7-b1d6e35dade6"
      },
      "outputs": [
        {
          "output_type": "stream",
          "name": "stdout",
          "text": [
            "Accuracy: 0.81\n",
            "\n",
            "              precision    recall  f1-score   support\n",
            "\n",
            "           0       0.75      0.92      0.83        50\n",
            "           1       0.90      0.70      0.79        50\n",
            "\n",
            "    accuracy                           0.81       100\n",
            "   macro avg       0.83      0.81      0.81       100\n",
            "weighted avg       0.83      0.81      0.81       100\n",
            "\n"
          ]
        }
      ],
      "source": [
        "from sklearn.naive_bayes import GaussianNB\n",
        "\n",
        "# Create Gaussian Naive Bayes Classifier\n",
        "clf = GaussianNB()\n",
        "\n",
        "clf.fit(x_train, y_train)\n",
        "\n",
        "# Predict the response for test dataset\n",
        "y_pred = clf.predict(x_test)\n",
        "\n",
        "accuracy = accuracy_score(y_test, y_pred)\n",
        "results['gauss_NB'] = round(accuracy * 100, 2)\n",
        "\n",
        "# Model Accuracy, how often is the classifier correct?\n",
        "print(\"Accuracy:\", accuracy, end='\\n\\n')\n",
        "\n",
        "print(classification_report(y_test, y_pred))"
      ]
    },
    {
      "cell_type": "code",
      "execution_count": 26,
      "metadata": {
        "colab": {
          "base_uri": "https://localhost:8080/",
          "height": 292
        },
        "id": "yktjFB9bSX6p",
        "outputId": "b842c4a4-712a-4874-bb83-01dfbfec644b"
      },
      "outputs": [
        {
          "output_type": "stream",
          "name": "stdout",
          "text": [
            "[[46  4]\n",
            " [15 35]]\n"
          ]
        },
        {
          "output_type": "display_data",
          "data": {
            "text/plain": [
              "<Figure size 288x288 with 2 Axes>"
            ],
            "image/png": "[encoded data removed]"
          },
          "metadata": {
            "needs_background": "light"
          }
        }
      ],
      "source": [
        "cm = confusion_matrix(y_test, y_pred)\n",
        "print (cm)\n",
        "\n",
        "showconfusionmatrix(cm)"
      ]
    },
    {
      "cell_type": "markdown",
      "metadata": {
        "id": "N7R8aoe4SX6p"
      },
      "source": [
        "## Logistic Regression:"
      ]
    },
    {
      "cell_type": "code",
      "execution_count": 27,
      "metadata": {
        "colab": {
          "base_uri": "https://localhost:8080/"
        },
        "id": "e1Qj7XdDSX6p",
        "outputId": "57918bfe-8272-4f0a-f5ce-c70b8a6a789b"
      },
      "outputs": [
        {
          "output_type": "stream",
          "name": "stdout",
          "text": [
            "Accuracy: 0.94\n",
            "\n",
            "              precision    recall  f1-score   support\n",
            "\n",
            "           0       1.00      0.88      0.94        50\n",
            "           1       0.89      1.00      0.94        50\n",
            "\n",
            "    accuracy                           0.94       100\n",
            "   macro avg       0.95      0.94      0.94       100\n",
            "weighted avg       0.95      0.94      0.94       100\n",
            "\n"
          ]
        }
      ],
      "source": [
        "from sklearn.linear_model import LogisticRegression\n",
        "\n",
        "# Create Logistic Regression Classifier\n",
        "clf = LogisticRegression(solver='liblinear')\n",
        "\n",
        "clf.fit(x_train, y_train)\n",
        "\n",
        "# Predict the response for test dataset\n",
        "y_pred = clf.predict(x_test)\n",
        "\n",
        "accuracy = accuracy_score(y_test, y_pred)\n",
        "results['log_regression'] = round(accuracy * 100, 2)\n",
        "\n",
        "# Model Accuracy, how often is the classifier correct?\n",
        "print(\"Accuracy:\", accuracy, end='\\n\\n')\n",
        "\n",
        "print(classification_report(y_test, y_pred))"
      ]
    },
    {
      "cell_type": "code",
      "execution_count": 28,
      "metadata": {
        "colab": {
          "base_uri": "https://localhost:8080/",
          "height": 299
        },
        "id": "KA4Q5r-sSX6p",
        "outputId": "021456d0-5867-43be-c38b-c6bdbde2019c"
      },
      "outputs": [
        {
          "output_type": "stream",
          "name": "stdout",
          "text": [
            "[[44  6]\n",
            " [ 0 50]]\n"
          ]
        },
        {
          "output_type": "display_data",
          "data": {
            "text/plain": [
              "<Figure size 288x288 with 2 Axes>"
            ],
            "image/png": "[encoded data removed]"
          },
          "metadata": {
            "needs_background": "light"
          }
        }
      ],
      "source": [
        "cm = confusion_matrix(y_test, y_pred)\n",
        "print (cm)\n",
        "\n",
        "showconfusionmatrix(cm)"
      ]
    },
    {
      "cell_type": "markdown",
      "metadata": {
        "id": "8UVoKmOSSX6p"
      },
      "source": [
        "# Plotting the results:"
      ]
    },
    {
      "cell_type": "code",
      "execution_count": 29,
      "metadata": {
        "colab": {
          "base_uri": "https://localhost:8080/",
          "height": 283
        },
        "id": "19CzaVvwSX6p",
        "outputId": "ff3d1721-2607-4543-80a4-19baf918a074"
      },
      "outputs": [
        {
          "output_type": "execute_result",
          "data": {
            "text/plain": [
              "<BarContainer object of 8 artists>"
            ]
          },
          "metadata": {},
          "execution_count": 29
        },
        {
          "output_type": "display_data",
          "data": {
            "text/plain": [
              "<Figure size 432x288 with 1 Axes>"
            ],
            "image/png": "[encoded data removed]"
          },
          "metadata": {
            "needs_background": "light"
          }
        }
      ],
      "source": [
        "plt.barh(list(results.keys()), results.values())"
      ]
    },
    {
      "cell_type": "code",
      "execution_count": 30,
      "metadata": {
        "colab": {
          "base_uri": "https://localhost:8080/"
        },
        "id": "DEnKWOYlSX6p",
        "outputId": "bf2d9e3a-5df5-4be1-a8bd-64e541d8e0c8"
      },
      "outputs": [
        {
          "output_type": "execute_result",
          "data": {
            "text/plain": [
              "{'SVM': 92.0,\n",
              " 'ada_boost': 86.0,\n",
              " 'decision_tree': 86.0,\n",
              " 'gauss_NB': 81.0,\n",
              " 'lgb': 91.0,\n",
              " 'log_regression': 94.0,\n",
              " 'random_forest': 84.0,\n",
              " 'xg_boost': 96.0}"
            ]
          },
          "metadata": {},
          "execution_count": 30
        }
      ],
      "source": [
        "results"
      ]
    },
    {
      "cell_type": "code",
      "execution_count": 30,
      "metadata": {
        "id": "IFJBpQ9kSX6p"
      },
      "outputs": [],
      "source": [
        ""
      ]
    }
  ],
  "metadata": {
    "kernelspec": {
      "display_name": "Python 3",
      "language": "python",
      "name": "python3"
    },
    "language_info": {
      "codemirror_mode": {
        "name": "ipython",
        "version": 3
      },
      "file_extension": ".py",
      "mimetype": "text/x-python",
      "name": "python",
      "nbconvert_exporter": "python",
      "pygments_lexer": "ipython3",
      "version": "3.8.3"
    },
    "colab": {
      "name": "HOG_synthetic.ipynb",
      "provenance": [],
      "include_colab_link": true
    }
  },
  "nbformat": 4,
  "nbformat_minor": 0
}