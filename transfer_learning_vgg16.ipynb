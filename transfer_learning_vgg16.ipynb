{
  "cells": [
    {
      "cell_type": "markdown",
      "metadata": {
        "id": "view-in-github",
        "colab_type": "text"
      },
      "source": [
        "<a href=\"https://colab.research.google.com/github/maximmillion/ConvolutionExp/blob/main/transfer_learning_vgg16.ipynb\" target=\"_parent\"><img src=\"https://colab.research.google.com/assets/colab-badge.svg\" alt=\"Open In Colab\"/></a>"
      ]
    },
    {
      "cell_type": "code",
      "execution_count": 25,
      "metadata": {
        "id": "UXrcWAVZPc5r"
      },
      "outputs": [],
      "source": [
        "import tensorflow as tf\n",
        "from tensorflow import keras\n",
        "from keras.callbacks import History \n",
        "\n",
        "from random import randint\n",
        "import numpy as np3\n",
        "\n",
        "import matplotlib.pyplot as plt\n",
        "\n",
        "from skimage.filters import gaussian\n",
        "from skimage.util import random_noise\n",
        "import matplotlib.pyplot as pp\n",
        "\n",
        "from sklearn.metrics import classification_report, confusion_matrix, accuracy_score\n",
        "from sklearn.ensemble import RandomForestClassifier,AdaBoostClassifier\n",
        "\n",
        "from tensorflow.keras import datasets, layers, models\n",
        "from xgboost import XGBClassifier\n",
        "%matplotlib inline"
      ]
    },
    {
      "cell_type": "markdown",
      "metadata": {
        "id": "adKqhdkCPc5s"
      },
      "source": [
        "# Making the dataset:"
      ]
    },
    {
      "cell_type": "code",
      "execution_count": 26,
      "metadata": {
        "id": "PhISWRZWPc5s"
      },
      "outputs": [],
      "source": [
        "# Create 250 squares\n",
        "NUM_SQUARES = 250\n",
        "WIDTH = 128\n",
        "\n",
        "X_train = []\n",
        "for i in range(NUM_SQUARES):\n",
        "    exp = np.zeros((WIDTH, WIDTH)) #  128*128 canvas \n",
        "    x_start = randint(0, WIDTH - 1)\n",
        "    x_end = randint(x_start, WIDTH)\n",
        "    y_start = randint(0, WIDTH - 1)\n",
        "    y_end = randint(y_start, WIDTH)\n",
        "    for x in range(y_start, y_end):\n",
        "        for y in range(y_start, y_end):\n",
        "            exp[x, y] = 1\n",
        "    X_train.append(exp)"
      ]
    },
    {
      "cell_type": "code",
      "execution_count": 27,
      "metadata": {
        "colab": {
          "base_uri": "https://localhost:8080/"
        },
        "id": "87t7XLBBPc5t",
        "outputId": "186b532b-9ddb-42c6-efb9-d406153304b9"
      },
      "outputs": [
        {
          "output_type": "stream",
          "name": "stdout",
          "text": [
            "500\n"
          ]
        }
      ],
      "source": [
        "# Create 250 circles\n",
        "for i in range(NUM_SQUARES):\n",
        "    x = np.arange(0, WIDTH)\n",
        "    y = np.arange(0, WIDTH)\n",
        "    arr = np.zeros((y.size, x.size))\n",
        "\n",
        "    cx = randint(0, WIDTH)\n",
        "    cy = randint(0, WIDTH)\n",
        "    r = randint(0, WIDTH / 2)\n",
        "\n",
        "    # The two lines below could be merged, but I stored the mask\n",
        "    # for code clarity.\n",
        "    mask = (x[np.newaxis,:]-cx)**2 + (y[:,np.newaxis]-cy)**2 < r**2\n",
        "    arr[mask] = 1\n",
        "    if randint(0, 1) == 0: # sometie true\n",
        "        arr = np.fliplr(arr)\n",
        "    X_train.append(arr)\n",
        "print(len(X_train))"
      ]
    },
    {
      "cell_type": "code",
      "execution_count": 28,
      "metadata": {
        "id": "0JCZTLh2Pc5t"
      },
      "outputs": [],
      "source": [
        "Y_train = np.array([1 if i < NUM_SQUARES else 0 for i in range(NUM_SQUARES * 2)])"
      ]
    },
    {
      "cell_type": "code",
      "execution_count": 29,
      "metadata": {
        "id": "uP5n9mNrPc5t"
      },
      "outputs": [],
      "source": [
        "# Shuffle training data\n",
        "shuffler = np.random.permutation(NUM_SQUARES*2)\n",
        "\n",
        "X_train = np.array(X_train)\n",
        "\n",
        "shufled_X_train = X_train[shuffler]\n",
        "shufled_Y_train = Y_train[shuffler]"
      ]
    },
    {
      "cell_type": "code",
      "execution_count": 30,
      "metadata": {
        "colab": {
          "base_uri": "https://localhost:8080/",
          "height": 303
        },
        "id": "v9EKDyHVPc5t",
        "outputId": "4426ec67-59eb-43ea-a33d-41218422c473"
      },
      "outputs": [
        {
          "output_type": "stream",
          "name": "stdout",
          "text": [
            "0\n"
          ]
        },
        {
          "output_type": "execute_result",
          "data": {
            "text/plain": [
              "<matplotlib.image.AxesImage at 0x7f17204b4a10>"
            ]
          },
          "metadata": {},
          "execution_count": 30
        },
        {
          "output_type": "display_data",
          "data": {
            "image/png": "[encoded data removed]",
            "text/plain": [
              "<Figure size 432x288 with 1 Axes>"
            ]
          },
          "metadata": {
            "needs_background": "light"
          }
        }
      ],
      "source": [
        "print(shufled_Y_train[100])\n",
        "plt.imshow(shufled_X_train[100])"
      ]
    },
    {
      "cell_type": "code",
      "execution_count": 39,
      "metadata": {
        "id": "w1h47SLdPc5u"
      },
      "outputs": [],
      "source": [
        "# 85% is training data, 15% will never be seen by the models\n",
        "NUM_TRAIN = int(NUM_SQUARES*2*0.85)\n",
        "\n",
        "X_train = shufled_X_train[ : NUM_TRAIN]\n",
        "Y_train = shufled_Y_train[ : NUM_TRAIN] \n",
        "\n",
        "X_test = shufled_X_train[NUM_TRAIN : ]\n",
        "Y_test = shufled_Y_train[NUM_TRAIN:] "
      ]
    },
    {
      "cell_type": "markdown",
      "metadata": {
        "id": "yuGjf8F1Pc5u"
      },
      "source": [
        "# Model Work: "
      ]
    },
    {
      "cell_type": "code",
      "execution_count": 32,
      "metadata": {
        "id": "2W8cDtLmPc5u"
      },
      "outputs": [],
      "source": [
        "from keras.applications.vgg16 import VGG16"
      ]
    },
    {
      "cell_type": "code",
      "execution_count": 33,
      "metadata": {
        "id": "4nzrlsPGPc5u"
      },
      "outputs": [],
      "source": [
        "img_input = layers.Input(shape=(WIDTH, WIDTH, 1)) \n",
        "\n",
        "# Adding some extra layers before the input to deal with a single channel image\n",
        "# We duplicate image 3 times to make it 3 channels, since vgg takes a 3 channel input\n",
        "img_conc = layers.Concatenate()([img_input, img_input, img_input]) \n",
        "\n",
        "# Load model without classifier/fully connected layers\n",
        "# The top 3 layers are the fully connected dense layers, but when we say include_top = False\n",
        "# it means we don't want them, we only want the Convolutional layers\n",
        "VGG_model = VGG16(input_tensor=img_conc, weights='imagenet', include_top=False)"
      ]
    },
    {
      "cell_type": "code",
      "execution_count": 34,
      "metadata": {
        "id": "ncDbf9jlPc5u"
      },
      "outputs": [],
      "source": [
        "#Make loaded layers as non-trainable. This is important as we want to work with pre-trained weights\n",
        "for layer in VGG_model.layers:\n",
        "    layer.trainable = False"
      ]
    },
    {
      "cell_type": "code",
      "execution_count": 35,
      "metadata": {
        "colab": {
          "base_uri": "https://localhost:8080/"
        },
        "id": "CRoJnTpaPc5u",
        "outputId": "501b8c05-d753-4ffb-a709-8e4fc47a4c32"
      },
      "outputs": [
        {
          "output_type": "stream",
          "name": "stdout",
          "text": [
            "Model: \"vgg16\"\n",
            "__________________________________________________________________________________________________\n",
            " Layer (type)                   Output Shape         Param #     Connected to                     \n",
            "==================================================================================================\n",
            " input_2 (InputLayer)           [(None, 128, 128, 1  0           []                               \n",
            "                                )]                                                                \n",
            "                                                                                                  \n",
            " concatenate_1 (Concatenate)    (None, 128, 128, 3)  0           ['input_2[0][0]',                \n",
            "                                                                  'input_2[0][0]',                \n",
            "                                                                  'input_2[0][0]']                \n",
            "                                                                                                  \n",
            " block1_conv1 (Conv2D)          (None, 128, 128, 64  1792        ['concatenate_1[0][0]']          \n",
            "                                )                                                                 \n",
            "                                                                                                  \n",
            " block1_conv2 (Conv2D)          (None, 128, 128, 64  36928       ['block1_conv1[0][0]']           \n",
            "                                )                                                                 \n",
            "                                                                                                  \n",
            " block1_pool (MaxPooling2D)     (None, 64, 64, 64)   0           ['block1_conv2[0][0]']           \n",
            "                                                                                                  \n",
            " block2_conv1 (Conv2D)          (None, 64, 64, 128)  73856       ['block1_pool[0][0]']            \n",
            "                                                                                                  \n",
            " block2_conv2 (Conv2D)          (None, 64, 64, 128)  147584      ['block2_conv1[0][0]']           \n",
            "                                                                                                  \n",
            " block2_pool (MaxPooling2D)     (None, 32, 32, 128)  0           ['block2_conv2[0][0]']           \n",
            "                                                                                                  \n",
            " block3_conv1 (Conv2D)          (None, 32, 32, 256)  295168      ['block2_pool[0][0]']            \n",
            "                                                                                                  \n",
            " block3_conv2 (Conv2D)          (None, 32, 32, 256)  590080      ['block3_conv1[0][0]']           \n",
            "                                                                                                  \n",
            " block3_conv3 (Conv2D)          (None, 32, 32, 256)  590080      ['block3_conv2[0][0]']           \n",
            "                                                                                                  \n",
            " block3_pool (MaxPooling2D)     (None, 16, 16, 256)  0           ['block3_conv3[0][0]']           \n",
            "                                                                                                  \n",
            " block4_conv1 (Conv2D)          (None, 16, 16, 512)  1180160     ['block3_pool[0][0]']            \n",
            "                                                                                                  \n",
            " block4_conv2 (Conv2D)          (None, 16, 16, 512)  2359808     ['block4_conv1[0][0]']           \n",
            "                                                                                                  \n",
            " block4_conv3 (Conv2D)          (None, 16, 16, 512)  2359808     ['block4_conv2[0][0]']           \n",
            "                                                                                                  \n",
            " block4_pool (MaxPooling2D)     (None, 8, 8, 512)    0           ['block4_conv3[0][0]']           \n",
            "                                                                                                  \n",
            " block5_conv1 (Conv2D)          (None, 8, 8, 512)    2359808     ['block4_pool[0][0]']            \n",
            "                                                                                                  \n",
            " block5_conv2 (Conv2D)          (None, 8, 8, 512)    2359808     ['block5_conv1[0][0]']           \n",
            "                                                                                                  \n",
            " block5_conv3 (Conv2D)          (None, 8, 8, 512)    2359808     ['block5_conv2[0][0]']           \n",
            "                                                                                                  \n",
            " block5_pool (MaxPooling2D)     (None, 4, 4, 512)    0           ['block5_conv3[0][0]']           \n",
            "                                                                                                  \n",
            "==================================================================================================\n",
            "Total params: 14,714,688\n",
            "Trainable params: 0\n",
            "Non-trainable params: 14,714,688\n",
            "__________________________________________________________________________________________________\n"
          ]
        }
      ],
      "source": [
        "# Summary of feature extractor model\n",
        "VGG_model.summary()  #Trainable parameters will be 0 (we are not learning, it is already 'perfect')"
      ]
    },
    {
      "cell_type": "markdown",
      "metadata": {
        "id": "V8u6FcPQPc5u"
      },
      "source": [
        "## Using the model:"
      ]
    },
    {
      "cell_type": "code",
      "execution_count": 36,
      "metadata": {
        "id": "1zdfQX9rPc5u"
      },
      "outputs": [],
      "source": [
        "# Adding the extra dimension as required by the model\n",
        "X_wanted_train = X_train.reshape(len(X_train), WIDTH, WIDTH, 1)\n",
        "X_wanted_test = X_test.reshape(len(X_test), WIDTH, WIDTH, 1)"
      ]
    },
    {
      "cell_type": "code",
      "execution_count": 40,
      "metadata": {
        "colab": {
          "base_uri": "https://localhost:8080/"
        },
        "id": "9O8-p9HVPc5v",
        "outputId": "77bc8f09-632f-4d60-9c88-efb2615a7b07"
      },
      "outputs": [
        {
          "output_type": "execute_result",
          "data": {
            "text/plain": [
              "(425, 8192)"
            ]
          },
          "metadata": {},
          "execution_count": 40
        }
      ],
      "source": [
        "#TRAINING DATA\n",
        "\n",
        "# Now, let us get the features from the Convolutional network of the vgg \n",
        "feature_extractor = VGG_model.predict(X_wanted_train)\n",
        "\n",
        "# We reshape output into 1D array so we can use for models\n",
        "features_train = feature_extractor.reshape(feature_extractor.shape[0], -1)\n",
        "features_train.shape"
      ]
    },
    {
      "cell_type": "code",
      "execution_count": 41,
      "metadata": {
        "id": "08iY-OgHPc5v"
      },
      "outputs": [],
      "source": [
        "#TESTING DATA\n",
        "\n",
        "# Now, let us get the features from the Convolutional network of the vgg\n",
        "feature_extractor = VGG_model.predict(X_wanted_test)\n",
        "\n",
        "# We reshape output into 1D array so we can use for models\n",
        "features_test = feature_extractor.reshape(feature_extractor.shape[0], -1)\n",
        "features_train.shape"
      ]
    },
    {
      "cell_type": "markdown",
      "metadata": {
        "id": "MCXgry5OPc5v"
      },
      "source": [
        "# Applying classical models on the features:"
      ]
    },
    {
      "cell_type": "markdown",
      "metadata": {
        "id": "XD46iupiPc5v"
      },
      "source": [
        "## Decision tree:"
      ]
    },
    {
      "cell_type": "code",
      "execution_count": 15,
      "metadata": {
        "id": "ekkEjqKGPc5v"
      },
      "outputs": [],
      "source": [
        "results = {}"
      ]
    },
    {
      "cell_type": "code",
      "execution_count": 16,
      "metadata": {
        "colab": {
          "base_uri": "https://localhost:8080/"
        },
        "id": "CWgHc9AlPc5v",
        "outputId": "047ff9e3-6ab8-4d2e-ec91-d0a51779540c"
      },
      "outputs": [
        {
          "output_type": "stream",
          "name": "stdout",
          "text": [
            "Accuracy: 0.9466666666666667\n",
            "\n",
            "              precision    recall  f1-score   support\n",
            "\n",
            "           0       0.97      0.93      0.95        42\n",
            "           1       0.91      0.97      0.94        33\n",
            "\n",
            "    accuracy                           0.95        75\n",
            "   macro avg       0.94      0.95      0.95        75\n",
            "weighted avg       0.95      0.95      0.95        75\n",
            "\n"
          ]
        }
      ],
      "source": [
        "from sklearn.tree import DecisionTreeClassifier # Import Decision Tree Classifier\n",
        "\n",
        "# Create Decision Tree classifer object\n",
        "clf = DecisionTreeClassifier()\n",
        "\n",
        "# Train Decision Tree Classifer\n",
        "clf = clf.fit(features_train, Y_train)\n",
        "\n",
        "# Predict the response for test dataset\n",
        "y_pred = clf.predict(features_test)\n",
        "\n",
        "accuracy = accuracy_score(Y_test, y_pred)\n",
        "results['decision_tree'] = round(accuracy * 100, 2)\n",
        "\n",
        "# Model Accuracy, how often is the classifier correct?\n",
        "print(\"Accuracy:\", accuracy, end='\\n\\n')\n",
        "\n",
        "print(classification_report(Y_test, y_pred))"
      ]
    },
    {
      "cell_type": "code",
      "execution_count": 17,
      "metadata": {
        "colab": {
          "base_uri": "https://localhost:8080/",
          "height": 587
        },
        "id": "M5g9-Q3KPc5v",
        "outputId": "840e97ef-83f8-4c9b-dd16-4e9e7d4b85f9"
      },
      "outputs": [
        {
          "output_type": "execute_result",
          "data": {
            "text/plain": [
              "[Text(0.5416666666666666, 0.9285714285714286, 'X[2818] <= 0.013\\ngini = 0.5\\nsamples = 425\\nvalue = [208, 217]'),\n",
              " Text(0.4583333333333333, 0.7857142857142857, 'X[2814] <= 0.983\\ngini = 0.267\\nsamples = 258\\nvalue = [41, 217]'),\n",
              " Text(0.25, 0.6428571428571429, 'X[5108] <= 0.623\\ngini = 0.127\\nsamples = 220\\nvalue = [15, 205]'),\n",
              " Text(0.16666666666666666, 0.5, 'X[5118] <= 0.68\\ngini = 0.064\\nsamples = 212\\nvalue = [7, 205]'),\n",
              " Text(0.08333333333333333, 0.35714285714285715, 'gini = 0.0\\nsamples = 192\\nvalue = [0, 192]'),\n",
              " Text(0.25, 0.35714285714285715, 'X[7285] <= 0.646\\ngini = 0.455\\nsamples = 20\\nvalue = [7, 13]'),\n",
              " Text(0.16666666666666666, 0.21428571428571427, 'X[7130] <= 0.397\\ngini = 0.401\\nsamples = 18\\nvalue = [5, 13]'),\n",
              " Text(0.08333333333333333, 0.07142857142857142, 'gini = 0.0\\nsamples = 3\\nvalue = [0, 3]'),\n",
              " Text(0.25, 0.07142857142857142, 'gini = 0.444\\nsamples = 15\\nvalue = [5, 10]'),\n",
              " Text(0.3333333333333333, 0.21428571428571427, 'gini = 0.0\\nsamples = 2\\nvalue = [2, 0]'),\n",
              " Text(0.3333333333333333, 0.5, 'gini = 0.0\\nsamples = 8\\nvalue = [8, 0]'),\n",
              " Text(0.6666666666666666, 0.6428571428571429, 'X[1892] <= 0.258\\ngini = 0.432\\nsamples = 38\\nvalue = [26, 12]'),\n",
              " Text(0.5, 0.5, 'X[503] <= 0.048\\ngini = 0.08\\nsamples = 24\\nvalue = [23, 1]'),\n",
              " Text(0.4166666666666667, 0.35714285714285715, 'gini = 0.0\\nsamples = 1\\nvalue = [0, 1]'),\n",
              " Text(0.5833333333333334, 0.35714285714285715, 'gini = 0.0\\nsamples = 23\\nvalue = [23, 0]'),\n",
              " Text(0.8333333333333334, 0.5, 'X[2194] <= 0.042\\ngini = 0.337\\nsamples = 14\\nvalue = [3, 11]'),\n",
              " Text(0.75, 0.35714285714285715, 'gini = 0.0\\nsamples = 11\\nvalue = [0, 11]'),\n",
              " Text(0.9166666666666666, 0.35714285714285715, 'gini = 0.0\\nsamples = 3\\nvalue = [3, 0]'),\n",
              " Text(0.625, 0.7857142857142857, 'gini = 0.0\\nsamples = 167\\nvalue = [167, 0]')]"
            ]
          },
          "metadata": {},
          "execution_count": 17
        },
        {
          "output_type": "display_data",
          "data": {
            "image/png": "[encoded data removed]",
            "text/plain": [
              "<Figure size 432x288 with 1 Axes>"
            ]
          },
          "metadata": {
            "needs_background": "light"
          }
        }
      ],
      "source": [
        "# plot tree\n",
        "from sklearn import tree\n",
        "\n",
        "tree.plot_tree(clf)"
      ]
    },
    {
      "cell_type": "markdown",
      "metadata": {
        "id": "-R6QRppLPc5v"
      },
      "source": [
        "## Random Forest:"
      ]
    },
    {
      "cell_type": "code",
      "execution_count": 18,
      "metadata": {
        "colab": {
          "base_uri": "https://localhost:8080/"
        },
        "id": "U-f_LkOmPc5v",
        "outputId": "daf619e3-de43-498f-f6bf-ba3d7c2bc035"
      },
      "outputs": [
        {
          "output_type": "stream",
          "name": "stdout",
          "text": [
            "Accuracy: 0.96\n",
            "\n",
            "              precision    recall  f1-score   support\n",
            "\n",
            "           0       0.98      0.95      0.96        42\n",
            "           1       0.94      0.97      0.96        33\n",
            "\n",
            "    accuracy                           0.96        75\n",
            "   macro avg       0.96      0.96      0.96        75\n",
            "weighted avg       0.96      0.96      0.96        75\n",
            "\n"
          ]
        }
      ],
      "source": [
        "# Create Random Forest classifer object\n",
        "clf = RandomForestClassifier(n_estimators = 50, random_state = 42)\n",
        "\n",
        "# Train Decision Tree Classifer\n",
        "clf = clf.fit(features_train, Y_train)\n",
        "\n",
        "# Predict the response for test dataset\n",
        "y_pred = clf.predict(features_test)\n",
        "\n",
        "accuracy = accuracy_score(Y_test, y_pred)\n",
        "results['random_forest'] = round(accuracy * 100, 2)\n",
        "\n",
        "# Model Accuracy, how often is the classifier correct?\n",
        "print(\"Accuracy:\", accuracy, end='\\n\\n')\n",
        "\n",
        "print(classification_report(Y_test, y_pred))"
      ]
    },
    {
      "cell_type": "markdown",
      "metadata": {
        "id": "x8H0ut-4Pc5v"
      },
      "source": [
        "### Increasing Estimators:"
      ]
    },
    {
      "cell_type": "code",
      "execution_count": 19,
      "metadata": {
        "colab": {
          "base_uri": "https://localhost:8080/"
        },
        "id": "ESxoMUABPc5v",
        "outputId": "deaf2858-6570-482d-f814-422b64266b43"
      },
      "outputs": [
        {
          "output_type": "stream",
          "name": "stdout",
          "text": [
            "Accuracy: 0.9733333333333334\n",
            "\n",
            "              precision    recall  f1-score   support\n",
            "\n",
            "           0       1.00      0.95      0.98        42\n",
            "           1       0.94      1.00      0.97        33\n",
            "\n",
            "    accuracy                           0.97        75\n",
            "   macro avg       0.97      0.98      0.97        75\n",
            "weighted avg       0.97      0.97      0.97        75\n",
            "\n"
          ]
        }
      ],
      "source": [
        "# Create Random Forest classifer object\n",
        "clf = RandomForestClassifier(n_estimators = 100, random_state = 42)\n",
        "\n",
        "# Train Decision Tree Classifer\n",
        "clf = clf.fit(features_train, Y_train)\n",
        "\n",
        "# Predict the response for test dataset\n",
        "y_pred = clf.predict(features_test)\n",
        "\n",
        "accuracy = accuracy_score(Y_test, y_pred)\n",
        "results['random_forest_100'] = round(accuracy * 100, 2)\n",
        "\n",
        "# Model Accuracy, how often is the classifier correct?\n",
        "print(\"Accuracy:\", accuracy, end='\\n\\n')\n",
        "\n",
        "print(classification_report(Y_test, y_pred))"
      ]
    },
    {
      "cell_type": "markdown",
      "metadata": {
        "id": "sxsYF6zkPc5w"
      },
      "source": [
        "## Adaboost Classifier:"
      ]
    },
    {
      "cell_type": "code",
      "execution_count": 20,
      "metadata": {
        "colab": {
          "base_uri": "https://localhost:8080/"
        },
        "id": "rjLJw3ulPc5w",
        "outputId": "6e577aa3-0e9a-4b96-c774-c6f8080ec6b8"
      },
      "outputs": [
        {
          "output_type": "stream",
          "name": "stdout",
          "text": [
            "Accuracy: 0.9733333333333334\n",
            "\n",
            "              precision    recall  f1-score   support\n",
            "\n",
            "           0       1.00      0.95      0.98        42\n",
            "           1       0.94      1.00      0.97        33\n",
            "\n",
            "    accuracy                           0.97        75\n",
            "   macro avg       0.97      0.98      0.97        75\n",
            "weighted avg       0.97      0.97      0.97        75\n",
            "\n"
          ]
        }
      ],
      "source": [
        "# Create Adaboostclassifier\n",
        "clf = AdaBoostClassifier(n_estimators=42)\n",
        "\n",
        "# Train Decision Tree Classifer\n",
        "clf = clf.fit(features_train, Y_train)\n",
        "\n",
        "# Predict the response for test dataset\n",
        "y_pred = clf.predict(features_test)\n",
        "\n",
        "accuracy = accuracy_score(Y_test, y_pred)\n",
        "results['adaboost'] = round(accuracy * 100, 2)\n",
        "\n",
        "# Model Accuracy, how often is the classifier correct?\n",
        "print(\"Accuracy:\", accuracy, end='\\n\\n')\n",
        "\n",
        "print(classification_report(Y_test, y_pred))"
      ]
    },
    {
      "cell_type": "markdown",
      "metadata": {
        "id": "z2L5TgCoPc5w"
      },
      "source": [
        "## XG Boost Classifier:"
      ]
    },
    {
      "cell_type": "code",
      "execution_count": 21,
      "metadata": {
        "colab": {
          "base_uri": "https://localhost:8080/"
        },
        "id": "lR8KxVUTPc5w",
        "outputId": "0b62ff87-9eb6-431e-d82a-f467c1123341"
      },
      "outputs": [
        {
          "output_type": "stream",
          "name": "stdout",
          "text": [
            "Accuracy: 0.9733333333333334\n",
            "\n",
            "              precision    recall  f1-score   support\n",
            "\n",
            "           0       1.00      0.95      0.98        42\n",
            "           1       0.94      1.00      0.97        33\n",
            "\n",
            "    accuracy                           0.97        75\n",
            "   macro avg       0.97      0.98      0.97        75\n",
            "weighted avg       0.97      0.97      0.97        75\n",
            "\n"
          ]
        }
      ],
      "source": [
        "# Create XG boost classifer object\n",
        "clf = XGBClassifier()\n",
        "\n",
        "# Train Decision Tree Classifer\n",
        "clf = clf.fit(features_train, Y_train)\n",
        "\n",
        "# Predict the response for test dataset\n",
        "y_pred = clf.predict(features_test)\n",
        "\n",
        "accuracy = accuracy_score(Y_test, y_pred)\n",
        "results['xgboost'] = round(accuracy * 100, 2)\n",
        "\n",
        "# Model Accuracy, how often is the classifier correct?\n",
        "print(\"Accuracy:\", accuracy, end='\\n\\n')\n",
        "\n",
        "print(classification_report(Y_test, y_pred))"
      ]
    },
    {
      "cell_type": "markdown",
      "metadata": {
        "id": "n8diCY6JPc5w"
      },
      "source": [
        "## Gaussian Naive Bayes:"
      ]
    },
    {
      "cell_type": "code",
      "execution_count": 22,
      "metadata": {
        "colab": {
          "base_uri": "https://localhost:8080/"
        },
        "id": "NDNlBYknPc5w",
        "outputId": "1a0dd963-1307-46e2-8c9f-fb1ee89db447"
      },
      "outputs": [
        {
          "output_type": "stream",
          "name": "stdout",
          "text": [
            "Accuracy: 0.9733333333333334\n",
            "\n",
            "              precision    recall  f1-score   support\n",
            "\n",
            "           0       0.98      0.98      0.98        42\n",
            "           1       0.97      0.97      0.97        33\n",
            "\n",
            "    accuracy                           0.97        75\n",
            "   macro avg       0.97      0.97      0.97        75\n",
            "weighted avg       0.97      0.97      0.97        75\n",
            "\n"
          ]
        }
      ],
      "source": [
        "from sklearn.naive_bayes import GaussianNB\n",
        "\n",
        "# Create Gaussian Naive Bayes Classifier\n",
        "clf = GaussianNB()\n",
        "\n",
        "# Train Decision Tree Classifer\n",
        "clf = clf.fit(features_train, Y_train)\n",
        "\n",
        "# Predict the response for test dataset\n",
        "y_pred = clf.predict(features_test)\n",
        "\n",
        "accuracy = accuracy_score(Y_test, y_pred)\n",
        "results['gaussianNB'] = round(accuracy * 100, 2)\n",
        "\n",
        "# Model Accuracy, how often is the classifier correct?\n",
        "print(\"Accuracy:\", accuracy, end='\\n\\n')\n",
        "\n",
        "print(classification_report(Y_test, y_pred))"
      ]
    },
    {
      "cell_type": "markdown",
      "metadata": {
        "id": "M9mTVz8vPc5w"
      },
      "source": [
        "## Logistic Regression:"
      ]
    },
    {
      "cell_type": "code",
      "execution_count": 23,
      "metadata": {
        "colab": {
          "base_uri": "https://localhost:8080/"
        },
        "id": "9xbsEsBMPc5w",
        "outputId": "8b8725cf-ca1c-4c9a-d9f8-361618525da5"
      },
      "outputs": [
        {
          "output_type": "stream",
          "name": "stdout",
          "text": [
            "Accuracy: 0.96\n",
            "\n",
            "              precision    recall  f1-score   support\n",
            "\n",
            "           0       0.98      0.95      0.96        42\n",
            "           1       0.94      0.97      0.96        33\n",
            "\n",
            "    accuracy                           0.96        75\n",
            "   macro avg       0.96      0.96      0.96        75\n",
            "weighted avg       0.96      0.96      0.96        75\n",
            "\n"
          ]
        }
      ],
      "source": [
        "from sklearn.linear_model import LogisticRegression\n",
        "\n",
        "# Create Logistic Regression Classifier\n",
        "clf = LogisticRegression(solver='liblinear')\n",
        "\n",
        "# Train Decision Tree Classifer\n",
        "clf = clf.fit(features_train, Y_train)\n",
        "\n",
        "# Predict the response for test dataset\n",
        "y_pred = clf.predict(features_test)\n",
        "\n",
        "accuracy = accuracy_score(Y_test, y_pred)\n",
        "results['logistic'] = round(accuracy * 100, 2)\n",
        "\n",
        "# Model Accuracy, how often is the classifier correct?\n",
        "print(\"Accuracy:\", accuracy, end='\\n\\n')\n",
        "\n",
        "print(classification_report(Y_test, y_pred))"
      ]
    },
    {
      "cell_type": "markdown",
      "metadata": {
        "id": "vPYjmLwrPc5w"
      },
      "source": [
        "# Plotting the results:"
      ]
    },
    {
      "cell_type": "code",
      "execution_count": 24,
      "metadata": {
        "colab": {
          "base_uri": "https://localhost:8080/",
          "height": 283
        },
        "id": "o07G3kwhPc5w",
        "outputId": "60ca359d-22ab-4361-fe20-7d25265b3be3"
      },
      "outputs": [
        {
          "output_type": "execute_result",
          "data": {
            "text/plain": [
              "<BarContainer object of 7 artists>"
            ]
          },
          "metadata": {},
          "execution_count": 24
        },
        {
          "output_type": "display_data",
          "data": {
            "image/png": "[encoded data removed]",
            "text/plain": [
              "<Figure size 432x288 with 1 Axes>"
            ]
          },
          "metadata": {
            "needs_background": "light"
          }
        }
      ],
      "source": [
        "plt.barh(list(results.keys()), results.values())"
      ]
    }
  ],
  "metadata": {
    "kernelspec": {
      "display_name": "Python 3",
      "language": "python",
      "name": "python3"
    },
    "language_info": {
      "codemirror_mode": {
        "name": "ipython",
        "version": 3
      },
      "file_extension": ".py",
      "mimetype": "text/x-python",
      "name": "python",
      "nbconvert_exporter": "python",
      "pygments_lexer": "ipython3",
      "version": "3.8.3"
    },
    "colab": {
      "name": "transfer_learning_vgg16.ipynb",
      "provenance": [],
      "include_colab_link": true
    }
  },
  "nbformat": 4,
  "nbformat_minor": 0
}